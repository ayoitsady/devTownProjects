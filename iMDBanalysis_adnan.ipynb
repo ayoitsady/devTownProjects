{
 "cells": [
  {
   "cell_type": "markdown",
   "id": "b8f98249",
   "metadata": {},
   "source": [
    "# ADNAN SHAIKH DST 10224 IMDB ANALYSIS"
   ]
  },
  {
   "cell_type": "code",
   "execution_count": 4,
   "id": "d8848325",
   "metadata": {},
   "outputs": [],
   "source": [
    "import numpy as np\n",
    "import pandas as pd\n",
    "import sqlite3"
   ]
  },
  {
   "cell_type": "code",
   "execution_count": 5,
   "id": "34a52c3f",
   "metadata": {},
   "outputs": [],
   "source": [
    "db = 'movies.sqlite'\n",
    "conn = sqlite3.connect(db)\n",
    "cur = conn.cursor()"
   ]
  },
  {
   "cell_type": "markdown",
   "id": "e5ff63f9",
   "metadata": {},
   "source": [
    "NOTE: Kept Q1 and Q2 as it is, as we were asked to complete the notebook."
   ]
  },
  {
   "cell_type": "markdown",
   "id": "6c83eb9d",
   "metadata": {},
   "source": [
    "# QUESTIONS\n",
    "## Question 1: Can you get all data about movies?"
   ]
  },
  {
   "cell_type": "code",
   "execution_count": 63,
   "id": "dbcbb775",
   "metadata": {
    "scrolled": false
   },
   "outputs": [
    {
     "name": "stdout",
     "output_type": "stream",
     "text": [
      "Shape of Movies data : (4773, 13)\n"
     ]
    },
    {
     "data": {
      "text/html": [
       "<div>\n",
       "<style scoped>\n",
       "    .dataframe tbody tr th:only-of-type {\n",
       "        vertical-align: middle;\n",
       "    }\n",
       "\n",
       "    .dataframe tbody tr th {\n",
       "        vertical-align: top;\n",
       "    }\n",
       "\n",
       "    .dataframe thead th {\n",
       "        text-align: right;\n",
       "    }\n",
       "</style>\n",
       "<table border=\"1\" class=\"dataframe\">\n",
       "  <thead>\n",
       "    <tr style=\"text-align: right;\">\n",
       "      <th></th>\n",
       "      <th>id</th>\n",
       "      <th>original_title</th>\n",
       "      <th>budget</th>\n",
       "      <th>popularity</th>\n",
       "      <th>release_date</th>\n",
       "      <th>revenue</th>\n",
       "      <th>title</th>\n",
       "      <th>vote_average</th>\n",
       "      <th>vote_count</th>\n",
       "      <th>overview</th>\n",
       "      <th>tagline</th>\n",
       "      <th>uid</th>\n",
       "      <th>director_id</th>\n",
       "    </tr>\n",
       "  </thead>\n",
       "  <tbody>\n",
       "    <tr>\n",
       "      <th>0</th>\n",
       "      <td>43597</td>\n",
       "      <td>Avatar</td>\n",
       "      <td>237000000</td>\n",
       "      <td>150</td>\n",
       "      <td>2009-12-10</td>\n",
       "      <td>2787965087</td>\n",
       "      <td>Avatar</td>\n",
       "      <td>7.2</td>\n",
       "      <td>11800</td>\n",
       "      <td>In the 22nd century, a paraplegic Marine is di...</td>\n",
       "      <td>Enter the World of Pandora.</td>\n",
       "      <td>19995</td>\n",
       "      <td>4762</td>\n",
       "    </tr>\n",
       "    <tr>\n",
       "      <th>1</th>\n",
       "      <td>43598</td>\n",
       "      <td>Pirates of the Caribbean: At World's End</td>\n",
       "      <td>300000000</td>\n",
       "      <td>139</td>\n",
       "      <td>2007-05-19</td>\n",
       "      <td>961000000</td>\n",
       "      <td>Pirates of the Caribbean: At World's End</td>\n",
       "      <td>6.9</td>\n",
       "      <td>4500</td>\n",
       "      <td>Captain Barbossa, long believed to be dead, ha...</td>\n",
       "      <td>At the end of the world, the adventure begins.</td>\n",
       "      <td>285</td>\n",
       "      <td>4763</td>\n",
       "    </tr>\n",
       "    <tr>\n",
       "      <th>2</th>\n",
       "      <td>43599</td>\n",
       "      <td>Spectre</td>\n",
       "      <td>245000000</td>\n",
       "      <td>107</td>\n",
       "      <td>2015-10-26</td>\n",
       "      <td>880674609</td>\n",
       "      <td>Spectre</td>\n",
       "      <td>6.3</td>\n",
       "      <td>4466</td>\n",
       "      <td>A cryptic message from Bond’s past sends him o...</td>\n",
       "      <td>A Plan No One Escapes</td>\n",
       "      <td>206647</td>\n",
       "      <td>4764</td>\n",
       "    </tr>\n",
       "    <tr>\n",
       "      <th>3</th>\n",
       "      <td>43600</td>\n",
       "      <td>The Dark Knight Rises</td>\n",
       "      <td>250000000</td>\n",
       "      <td>112</td>\n",
       "      <td>2012-07-16</td>\n",
       "      <td>1084939099</td>\n",
       "      <td>The Dark Knight Rises</td>\n",
       "      <td>7.6</td>\n",
       "      <td>9106</td>\n",
       "      <td>Following the death of District Attorney Harve...</td>\n",
       "      <td>The Legend Ends</td>\n",
       "      <td>49026</td>\n",
       "      <td>4765</td>\n",
       "    </tr>\n",
       "    <tr>\n",
       "      <th>4</th>\n",
       "      <td>43601</td>\n",
       "      <td>John Carter</td>\n",
       "      <td>260000000</td>\n",
       "      <td>43</td>\n",
       "      <td>2012-03-07</td>\n",
       "      <td>284139100</td>\n",
       "      <td>John Carter</td>\n",
       "      <td>6.1</td>\n",
       "      <td>2124</td>\n",
       "      <td>John Carter is a war-weary, former military ca...</td>\n",
       "      <td>Lost in our world, found in another.</td>\n",
       "      <td>49529</td>\n",
       "      <td>4766</td>\n",
       "    </tr>\n",
       "    <tr>\n",
       "      <th>5</th>\n",
       "      <td>43602</td>\n",
       "      <td>Spider-Man 3</td>\n",
       "      <td>258000000</td>\n",
       "      <td>115</td>\n",
       "      <td>2007-05-01</td>\n",
       "      <td>890871626</td>\n",
       "      <td>Spider-Man 3</td>\n",
       "      <td>5.9</td>\n",
       "      <td>3576</td>\n",
       "      <td>The seemingly invincible Spider-Man goes up ag...</td>\n",
       "      <td>The battle within.</td>\n",
       "      <td>559</td>\n",
       "      <td>4767</td>\n",
       "    </tr>\n",
       "    <tr>\n",
       "      <th>6</th>\n",
       "      <td>43603</td>\n",
       "      <td>Tangled</td>\n",
       "      <td>260000000</td>\n",
       "      <td>48</td>\n",
       "      <td>2010-11-24</td>\n",
       "      <td>591794936</td>\n",
       "      <td>Tangled</td>\n",
       "      <td>7.4</td>\n",
       "      <td>3330</td>\n",
       "      <td>When the kingdom's most wanted-and most charmi...</td>\n",
       "      <td>They're taking adventure to new lengths.</td>\n",
       "      <td>38757</td>\n",
       "      <td>4768</td>\n",
       "    </tr>\n",
       "    <tr>\n",
       "      <th>7</th>\n",
       "      <td>43604</td>\n",
       "      <td>Avengers: Age of Ultron</td>\n",
       "      <td>280000000</td>\n",
       "      <td>134</td>\n",
       "      <td>2015-04-22</td>\n",
       "      <td>1405403694</td>\n",
       "      <td>Avengers: Age of Ultron</td>\n",
       "      <td>7.3</td>\n",
       "      <td>6767</td>\n",
       "      <td>When Tony Stark tries to jumpstart a dormant p...</td>\n",
       "      <td>A New Age Has Come.</td>\n",
       "      <td>99861</td>\n",
       "      <td>4769</td>\n",
       "    </tr>\n",
       "    <tr>\n",
       "      <th>8</th>\n",
       "      <td>43605</td>\n",
       "      <td>Harry Potter and the Half-Blood Prince</td>\n",
       "      <td>250000000</td>\n",
       "      <td>98</td>\n",
       "      <td>2009-07-07</td>\n",
       "      <td>933959197</td>\n",
       "      <td>Harry Potter and the Half-Blood Prince</td>\n",
       "      <td>7.4</td>\n",
       "      <td>5293</td>\n",
       "      <td>As Harry begins his sixth year at Hogwarts, he...</td>\n",
       "      <td>Dark Secrets Revealed</td>\n",
       "      <td>767</td>\n",
       "      <td>4770</td>\n",
       "    </tr>\n",
       "    <tr>\n",
       "      <th>9</th>\n",
       "      <td>43606</td>\n",
       "      <td>Batman v Superman: Dawn of Justice</td>\n",
       "      <td>250000000</td>\n",
       "      <td>155</td>\n",
       "      <td>2016-03-23</td>\n",
       "      <td>873260194</td>\n",
       "      <td>Batman v Superman: Dawn of Justice</td>\n",
       "      <td>5.7</td>\n",
       "      <td>7004</td>\n",
       "      <td>Fearing the actions of a god-like Super Hero l...</td>\n",
       "      <td>Justice or revenge</td>\n",
       "      <td>209112</td>\n",
       "      <td>4771</td>\n",
       "    </tr>\n",
       "  </tbody>\n",
       "</table>\n",
       "</div>"
      ],
      "text/plain": [
       "      id                            original_title     budget  popularity  \\\n",
       "0  43597                                    Avatar  237000000         150   \n",
       "1  43598  Pirates of the Caribbean: At World's End  300000000         139   \n",
       "2  43599                                   Spectre  245000000         107   \n",
       "3  43600                     The Dark Knight Rises  250000000         112   \n",
       "4  43601                               John Carter  260000000          43   \n",
       "5  43602                              Spider-Man 3  258000000         115   \n",
       "6  43603                                   Tangled  260000000          48   \n",
       "7  43604                   Avengers: Age of Ultron  280000000         134   \n",
       "8  43605    Harry Potter and the Half-Blood Prince  250000000          98   \n",
       "9  43606        Batman v Superman: Dawn of Justice  250000000         155   \n",
       "\n",
       "  release_date     revenue                                     title  \\\n",
       "0   2009-12-10  2787965087                                    Avatar   \n",
       "1   2007-05-19   961000000  Pirates of the Caribbean: At World's End   \n",
       "2   2015-10-26   880674609                                   Spectre   \n",
       "3   2012-07-16  1084939099                     The Dark Knight Rises   \n",
       "4   2012-03-07   284139100                               John Carter   \n",
       "5   2007-05-01   890871626                              Spider-Man 3   \n",
       "6   2010-11-24   591794936                                   Tangled   \n",
       "7   2015-04-22  1405403694                   Avengers: Age of Ultron   \n",
       "8   2009-07-07   933959197    Harry Potter and the Half-Blood Prince   \n",
       "9   2016-03-23   873260194        Batman v Superman: Dawn of Justice   \n",
       "\n",
       "   vote_average  vote_count  \\\n",
       "0           7.2       11800   \n",
       "1           6.9        4500   \n",
       "2           6.3        4466   \n",
       "3           7.6        9106   \n",
       "4           6.1        2124   \n",
       "5           5.9        3576   \n",
       "6           7.4        3330   \n",
       "7           7.3        6767   \n",
       "8           7.4        5293   \n",
       "9           5.7        7004   \n",
       "\n",
       "                                            overview  \\\n",
       "0  In the 22nd century, a paraplegic Marine is di...   \n",
       "1  Captain Barbossa, long believed to be dead, ha...   \n",
       "2  A cryptic message from Bond’s past sends him o...   \n",
       "3  Following the death of District Attorney Harve...   \n",
       "4  John Carter is a war-weary, former military ca...   \n",
       "5  The seemingly invincible Spider-Man goes up ag...   \n",
       "6  When the kingdom's most wanted-and most charmi...   \n",
       "7  When Tony Stark tries to jumpstart a dormant p...   \n",
       "8  As Harry begins his sixth year at Hogwarts, he...   \n",
       "9  Fearing the actions of a god-like Super Hero l...   \n",
       "\n",
       "                                          tagline     uid  director_id  \n",
       "0                     Enter the World of Pandora.   19995         4762  \n",
       "1  At the end of the world, the adventure begins.     285         4763  \n",
       "2                           A Plan No One Escapes  206647         4764  \n",
       "3                                 The Legend Ends   49026         4765  \n",
       "4            Lost in our world, found in another.   49529         4766  \n",
       "5                              The battle within.     559         4767  \n",
       "6        They're taking adventure to new lengths.   38757         4768  \n",
       "7                             A New Age Has Come.   99861         4769  \n",
       "8                           Dark Secrets Revealed     767         4770  \n",
       "9                              Justice or revenge  209112         4771  "
      ]
     },
     "execution_count": 63,
     "metadata": {},
     "output_type": "execute_result"
    }
   ],
   "source": [
    "cur.execute('SELECT * FROM movies')\n",
    "movies = cur.fetchall()\n",
    "movies = pd.DataFrame(movies, columns = ['id', 'original_title', 'budget', 'popularity', 'release_date', 'revenue', 'title', 'vote_average', 'vote_count', 'overview', 'tagline', 'uid', 'director_id'])\n",
    "\n",
    "print('Shape of Movies data :',movies.shape)\n",
    "movies.head(10)"
   ]
  },
  {
   "cell_type": "code",
   "execution_count": 7,
   "id": "c579b784",
   "metadata": {},
   "outputs": [
    {
     "name": "stdout",
     "output_type": "stream",
     "text": [
      "<class 'pandas.core.frame.DataFrame'>\n",
      "RangeIndex: 4773 entries, 0 to 4772\n",
      "Data columns (total 13 columns):\n",
      " #   Column          Non-Null Count  Dtype  \n",
      "---  ------          --------------  -----  \n",
      " 0   id              4773 non-null   int64  \n",
      " 1   original_title  4773 non-null   object \n",
      " 2   budget          4773 non-null   int64  \n",
      " 3   popularity      4773 non-null   int64  \n",
      " 4   release_date    4773 non-null   object \n",
      " 5   revenue         4773 non-null   int64  \n",
      " 6   title           4773 non-null   object \n",
      " 7   vote_average    4773 non-null   float64\n",
      " 8   vote_count      4773 non-null   int64  \n",
      " 9   overview        4770 non-null   object \n",
      " 10  tagline         3951 non-null   object \n",
      " 11  uid             4773 non-null   int64  \n",
      " 12  director_id     4773 non-null   int64  \n",
      "dtypes: float64(1), int64(7), object(5)\n",
      "memory usage: 484.9+ KB\n"
     ]
    }
   ],
   "source": [
    "movies.info()"
   ]
  },
  {
   "cell_type": "markdown",
   "id": "fa76f4ff",
   "metadata": {},
   "source": [
    "## Question 2: How do you get all data about directors?"
   ]
  },
  {
   "cell_type": "code",
   "execution_count": 62,
   "id": "87c00250",
   "metadata": {},
   "outputs": [
    {
     "name": "stdout",
     "output_type": "stream",
     "text": [
      "Shape of Directors data : (2349, 5)\n"
     ]
    },
    {
     "data": {
      "text/html": [
       "<div>\n",
       "<style scoped>\n",
       "    .dataframe tbody tr th:only-of-type {\n",
       "        vertical-align: middle;\n",
       "    }\n",
       "\n",
       "    .dataframe tbody tr th {\n",
       "        vertical-align: top;\n",
       "    }\n",
       "\n",
       "    .dataframe thead th {\n",
       "        text-align: right;\n",
       "    }\n",
       "</style>\n",
       "<table border=\"1\" class=\"dataframe\">\n",
       "  <thead>\n",
       "    <tr style=\"text-align: right;\">\n",
       "      <th></th>\n",
       "      <th>name</th>\n",
       "      <th>id</th>\n",
       "      <th>gender</th>\n",
       "      <th>uid</th>\n",
       "      <th>department</th>\n",
       "    </tr>\n",
       "  </thead>\n",
       "  <tbody>\n",
       "    <tr>\n",
       "      <th>0</th>\n",
       "      <td>James Cameron</td>\n",
       "      <td>4762</td>\n",
       "      <td>2</td>\n",
       "      <td>2710</td>\n",
       "      <td>Directing</td>\n",
       "    </tr>\n",
       "    <tr>\n",
       "      <th>1</th>\n",
       "      <td>Gore Verbinski</td>\n",
       "      <td>4763</td>\n",
       "      <td>2</td>\n",
       "      <td>1704</td>\n",
       "      <td>Directing</td>\n",
       "    </tr>\n",
       "    <tr>\n",
       "      <th>2</th>\n",
       "      <td>Sam Mendes</td>\n",
       "      <td>4764</td>\n",
       "      <td>2</td>\n",
       "      <td>39</td>\n",
       "      <td>Directing</td>\n",
       "    </tr>\n",
       "    <tr>\n",
       "      <th>3</th>\n",
       "      <td>Christopher Nolan</td>\n",
       "      <td>4765</td>\n",
       "      <td>2</td>\n",
       "      <td>525</td>\n",
       "      <td>Directing</td>\n",
       "    </tr>\n",
       "    <tr>\n",
       "      <th>4</th>\n",
       "      <td>Andrew Stanton</td>\n",
       "      <td>4766</td>\n",
       "      <td>2</td>\n",
       "      <td>7</td>\n",
       "      <td>Directing</td>\n",
       "    </tr>\n",
       "    <tr>\n",
       "      <th>...</th>\n",
       "      <td>...</td>\n",
       "      <td>...</td>\n",
       "      <td>...</td>\n",
       "      <td>...</td>\n",
       "      <td>...</td>\n",
       "    </tr>\n",
       "    <tr>\n",
       "      <th>95</th>\n",
       "      <td>Joe Wright</td>\n",
       "      <td>4857</td>\n",
       "      <td>2</td>\n",
       "      <td>36588</td>\n",
       "      <td>Directing</td>\n",
       "    </tr>\n",
       "    <tr>\n",
       "      <th>96</th>\n",
       "      <td>Rob Minkoff</td>\n",
       "      <td>4858</td>\n",
       "      <td>2</td>\n",
       "      <td>18898</td>\n",
       "      <td>Directing</td>\n",
       "    </tr>\n",
       "    <tr>\n",
       "      <th>97</th>\n",
       "      <td>Lee Tamahori</td>\n",
       "      <td>4859</td>\n",
       "      <td>2</td>\n",
       "      <td>7256</td>\n",
       "      <td>Directing</td>\n",
       "    </tr>\n",
       "    <tr>\n",
       "      <th>98</th>\n",
       "      <td>Paul Feig</td>\n",
       "      <td>4860</td>\n",
       "      <td>2</td>\n",
       "      <td>116805</td>\n",
       "      <td>Directing</td>\n",
       "    </tr>\n",
       "    <tr>\n",
       "      <th>99</th>\n",
       "      <td>Peter Ramsey</td>\n",
       "      <td>4861</td>\n",
       "      <td>2</td>\n",
       "      <td>151007</td>\n",
       "      <td>Directing</td>\n",
       "    </tr>\n",
       "  </tbody>\n",
       "</table>\n",
       "<p>100 rows × 5 columns</p>\n",
       "</div>"
      ],
      "text/plain": [
       "                 name    id  gender     uid department\n",
       "0       James Cameron  4762       2    2710  Directing\n",
       "1      Gore Verbinski  4763       2    1704  Directing\n",
       "2          Sam Mendes  4764       2      39  Directing\n",
       "3   Christopher Nolan  4765       2     525  Directing\n",
       "4      Andrew Stanton  4766       2       7  Directing\n",
       "..                ...   ...     ...     ...        ...\n",
       "95         Joe Wright  4857       2   36588  Directing\n",
       "96        Rob Minkoff  4858       2   18898  Directing\n",
       "97       Lee Tamahori  4859       2    7256  Directing\n",
       "98          Paul Feig  4860       2  116805  Directing\n",
       "99       Peter Ramsey  4861       2  151007  Directing\n",
       "\n",
       "[100 rows x 5 columns]"
      ]
     },
     "execution_count": 62,
     "metadata": {},
     "output_type": "execute_result"
    }
   ],
   "source": [
    "cur.execute('SELECT * FROM directors')\n",
    "directors = cur.fetchall()\n",
    "directors = pd.DataFrame(directors, columns = ['name', 'id', 'gender', 'uid', 'department'])\n",
    "\n",
    "print('Shape of Directors data :',directors.shape)\n",
    "directors.head(100)"
   ]
  },
  {
   "cell_type": "code",
   "execution_count": 9,
   "id": "4f4eff8a",
   "metadata": {},
   "outputs": [
    {
     "name": "stdout",
     "output_type": "stream",
     "text": [
      "<class 'pandas.core.frame.DataFrame'>\n",
      "RangeIndex: 2349 entries, 0 to 2348\n",
      "Data columns (total 5 columns):\n",
      " #   Column      Non-Null Count  Dtype \n",
      "---  ------      --------------  ----- \n",
      " 0   name        2349 non-null   object\n",
      " 1   id          2349 non-null   int64 \n",
      " 2   gender      2349 non-null   int64 \n",
      " 3   uid         2349 non-null   int64 \n",
      " 4   department  2349 non-null   object\n",
      "dtypes: int64(3), object(2)\n",
      "memory usage: 91.9+ KB\n"
     ]
    }
   ],
   "source": [
    "directors.info()"
   ]
  },
  {
   "cell_type": "markdown",
   "id": "8102579e",
   "metadata": {},
   "source": [
    "## Question 3: Check how many movies are present in iMDB."
   ]
  },
  {
   "cell_type": "code",
   "execution_count": 96,
   "id": "d56af071",
   "metadata": {},
   "outputs": [
    {
     "name": "stdout",
     "output_type": "stream",
     "text": [
      "Number of Movies in the dataset : 4773\n"
     ]
    }
   ],
   "source": [
    "cur.execute('SELECT COUNT(*) FROM movies')\n",
    "movies = cur.fetchall()\n",
    "print('Number of Movies in the dataset :', movies[0][0])"
   ]
  },
  {
   "cell_type": "markdown",
   "id": "7875b238",
   "metadata": {},
   "source": [
    "Note/ Analysis : Used COUNT function to count the total number of entires in the table. A dataframe was not required. Used movies[0][0] as the COUNT query returns a list of tuples."
   ]
  },
  {
   "cell_type": "markdown",
   "id": "a0a722de",
   "metadata": {},
   "source": [
    "## Question 4: Find these 3 directors: James Cameron ; Luc Besson ; John Woo"
   ]
  },
  {
   "cell_type": "code",
   "execution_count": 59,
   "id": "9463e44e",
   "metadata": {},
   "outputs": [
    {
     "name": "stdout",
     "output_type": "stream",
     "text": [
      "The information of the required Directors is as follows: \n"
     ]
    },
    {
     "data": {
      "text/html": [
       "<div>\n",
       "<style scoped>\n",
       "    .dataframe tbody tr th:only-of-type {\n",
       "        vertical-align: middle;\n",
       "    }\n",
       "\n",
       "    .dataframe tbody tr th {\n",
       "        vertical-align: top;\n",
       "    }\n",
       "\n",
       "    .dataframe thead th {\n",
       "        text-align: right;\n",
       "    }\n",
       "</style>\n",
       "<table border=\"1\" class=\"dataframe\">\n",
       "  <thead>\n",
       "    <tr style=\"text-align: right;\">\n",
       "      <th></th>\n",
       "      <th>name</th>\n",
       "      <th>id</th>\n",
       "      <th>gender</th>\n",
       "      <th>uid</th>\n",
       "      <th>department</th>\n",
       "    </tr>\n",
       "  </thead>\n",
       "  <tbody>\n",
       "    <tr>\n",
       "      <th>0</th>\n",
       "      <td>James Cameron</td>\n",
       "      <td>4762</td>\n",
       "      <td>2</td>\n",
       "      <td>2710</td>\n",
       "      <td>Directing</td>\n",
       "    </tr>\n",
       "    <tr>\n",
       "      <th>1</th>\n",
       "      <td>John Woo</td>\n",
       "      <td>4893</td>\n",
       "      <td>2</td>\n",
       "      <td>11401</td>\n",
       "      <td>Directing</td>\n",
       "    </tr>\n",
       "    <tr>\n",
       "      <th>2</th>\n",
       "      <td>Luc Besson</td>\n",
       "      <td>4949</td>\n",
       "      <td>2</td>\n",
       "      <td>59</td>\n",
       "      <td>Directing</td>\n",
       "    </tr>\n",
       "  </tbody>\n",
       "</table>\n",
       "</div>"
      ],
      "text/plain": [
       "            name    id  gender    uid department\n",
       "0  James Cameron  4762       2   2710  Directing\n",
       "1       John Woo  4893       2  11401  Directing\n",
       "2     Luc Besson  4949       2     59  Directing"
      ]
     },
     "execution_count": 59,
     "metadata": {},
     "output_type": "execute_result"
    }
   ],
   "source": [
    "cur.execute (\"SELECT * FROM directors WHERE name = 'James Cameron' OR name = 'Luc Besson' OR name = 'John Woo'\")\n",
    "dircts = cur.fetchall()\n",
    "dircts = pd.DataFrame(dircts, columns = ['name', 'id', 'gender', 'uid', 'department'])\n",
    "print('The information of the required Directors is as follows: ')\n",
    "dircts.head(5)"
   ]
  },
  {
   "cell_type": "markdown",
   "id": "8b97e771",
   "metadata": {},
   "source": [
    "Note / Analysis: Selected all the rows where the director name was the given director names in the question using OR operator. Then used a dataframe to display the fetched results in a table format."
   ]
  },
  {
   "cell_type": "markdown",
   "id": "e26867be",
   "metadata": {},
   "source": [
    "## Question 5: Find all directors with name starting with Steven."
   ]
  },
  {
   "cell_type": "code",
   "execution_count": 60,
   "id": "6167c220",
   "metadata": {
    "scrolled": false
   },
   "outputs": [
    {
     "name": "stdout",
     "output_type": "stream",
     "text": [
      "All directors whose names start with Steven along with their IDs: \n"
     ]
    },
    {
     "data": {
      "text/html": [
       "<div>\n",
       "<style scoped>\n",
       "    .dataframe tbody tr th:only-of-type {\n",
       "        vertical-align: middle;\n",
       "    }\n",
       "\n",
       "    .dataframe tbody tr th {\n",
       "        vertical-align: top;\n",
       "    }\n",
       "\n",
       "    .dataframe thead th {\n",
       "        text-align: right;\n",
       "    }\n",
       "</style>\n",
       "<table border=\"1\" class=\"dataframe\">\n",
       "  <thead>\n",
       "    <tr style=\"text-align: right;\">\n",
       "      <th></th>\n",
       "      <th>id</th>\n",
       "      <th>name</th>\n",
       "    </tr>\n",
       "  </thead>\n",
       "  <tbody>\n",
       "    <tr>\n",
       "      <th>0</th>\n",
       "      <td>4799</td>\n",
       "      <td>Steven Spielberg</td>\n",
       "    </tr>\n",
       "    <tr>\n",
       "      <th>1</th>\n",
       "      <td>4909</td>\n",
       "      <td>Steven Soderbergh</td>\n",
       "    </tr>\n",
       "    <tr>\n",
       "      <th>2</th>\n",
       "      <td>5013</td>\n",
       "      <td>Steven Brill</td>\n",
       "    </tr>\n",
       "    <tr>\n",
       "      <th>3</th>\n",
       "      <td>5117</td>\n",
       "      <td>Steven Zaillian</td>\n",
       "    </tr>\n",
       "    <tr>\n",
       "      <th>4</th>\n",
       "      <td>5216</td>\n",
       "      <td>Steven Quale</td>\n",
       "    </tr>\n",
       "    <tr>\n",
       "      <th>5</th>\n",
       "      <td>5221</td>\n",
       "      <td>Steven Seagal</td>\n",
       "    </tr>\n",
       "    <tr>\n",
       "      <th>6</th>\n",
       "      <td>5390</td>\n",
       "      <td>Steven E. de Souza</td>\n",
       "    </tr>\n",
       "    <tr>\n",
       "      <th>7</th>\n",
       "      <td>5803</td>\n",
       "      <td>Steven Shainberg</td>\n",
       "    </tr>\n",
       "    <tr>\n",
       "      <th>8</th>\n",
       "      <td>6713</td>\n",
       "      <td>Steven R. Monroe</td>\n",
       "    </tr>\n",
       "  </tbody>\n",
       "</table>\n",
       "</div>"
      ],
      "text/plain": [
       "     id                name\n",
       "0  4799    Steven Spielberg\n",
       "1  4909   Steven Soderbergh\n",
       "2  5013        Steven Brill\n",
       "3  5117     Steven Zaillian\n",
       "4  5216        Steven Quale\n",
       "5  5221       Steven Seagal\n",
       "6  5390  Steven E. de Souza\n",
       "7  5803    Steven Shainberg\n",
       "8  6713    Steven R. Monroe"
      ]
     },
     "execution_count": 60,
     "metadata": {},
     "output_type": "execute_result"
    }
   ],
   "source": [
    "cur.execute (\"SELECT id, name FROM directors WHERE name LIKE 'Steven%'\")\n",
    "stvn = cur.fetchall()\n",
    "stvn = pd.DataFrame(stvn, columns = ['id', 'name'])\n",
    "print('All directors whose names start with Steven along with their IDs: ')\n",
    "stvn.head(len(stvn))"
   ]
  },
  {
   "cell_type": "markdown",
   "id": "2823800c",
   "metadata": {},
   "source": [
    "Note / Analysis: Used the LIKE operator to fetch all names and IDs of directors whose names start with STEVEN. % as anything after STEVEN is allowed. Then created a dataframe and displayed it. Used the len(stvn) function to find the count of all STEVENs to display all of them at once using head function."
   ]
  },
  {
   "cell_type": "markdown",
   "id": "2a1eb177",
   "metadata": {},
   "source": [
    "## Question 6: Count female directors."
   ]
  },
  {
   "cell_type": "code",
   "execution_count": 98,
   "id": "3c139382",
   "metadata": {},
   "outputs": [
    {
     "name": "stdout",
     "output_type": "stream",
     "text": [
      "There are a total of 150 female directors.\n"
     ]
    }
   ],
   "source": [
    "cur.execute(\"SELECT COUNT(*) FROM directors WHERE gender = 1\")\n",
    "wmn = cur.fetchall()\n",
    "print(f\"There are a total of {wmn[0][0]} female directors.\")"
   ]
  },
  {
   "cell_type": "markdown",
   "id": "d73caebf",
   "metadata": {},
   "source": [
    "Note / Analysis: Used COUNT to count the female directors using WHERE. From the table it was evident that the female directors where assigned the gender id 1."
   ]
  },
  {
   "cell_type": "markdown",
   "id": "05868bde",
   "metadata": {},
   "source": [
    "## Question 7: Find the name of the 10th first women directors?"
   ]
  },
  {
   "cell_type": "code",
   "execution_count": 120,
   "id": "9d21141f",
   "metadata": {},
   "outputs": [
    {
     "name": "stdout",
     "output_type": "stream",
     "text": [
      "The name of the 10th female director in our table is: \n"
     ]
    },
    {
     "data": {
      "text/html": [
       "<div>\n",
       "<style scoped>\n",
       "    .dataframe tbody tr th:only-of-type {\n",
       "        vertical-align: middle;\n",
       "    }\n",
       "\n",
       "    .dataframe tbody tr th {\n",
       "        vertical-align: top;\n",
       "    }\n",
       "\n",
       "    .dataframe thead th {\n",
       "        text-align: right;\n",
       "    }\n",
       "</style>\n",
       "<table border=\"1\" class=\"dataframe\">\n",
       "  <thead>\n",
       "    <tr style=\"text-align: right;\">\n",
       "      <th></th>\n",
       "      <th>name</th>\n",
       "    </tr>\n",
       "  </thead>\n",
       "  <tbody>\n",
       "    <tr>\n",
       "      <th>0</th>\n",
       "      <td>Angelina Jolie</td>\n",
       "    </tr>\n",
       "  </tbody>\n",
       "</table>\n",
       "</div>"
      ],
      "text/plain": [
       "             name\n",
       "0  Angelina Jolie"
      ]
     },
     "execution_count": 120,
     "metadata": {},
     "output_type": "execute_result"
    }
   ],
   "source": [
    "cur.execute('''\n",
    "    SELECT name \n",
    "    FROM directors \n",
    "    WHERE gender = '1'\n",
    "    LIMIT -1 OFFSET 9\n",
    "''')\n",
    "\n",
    "wmn10 = cur.fetchall()\n",
    "wmn10 = pd.DataFrame(wmn10, columns = ['name'])\n",
    "\n",
    "print('The name of the 10th female director in our table is: ')\n",
    "wmn10.head(1)"
   ]
  },
  {
   "cell_type": "markdown",
   "id": "e2a31c7d",
   "metadata": {},
   "source": [
    "Note / Analysis: Used LIMIT-1 to fetch all remaining rows after the offset. Created the appropriate dataframe and disaplyed only one entry. This entry is the 10th female director in our table."
   ]
  },
  {
   "cell_type": "markdown",
   "id": "7dba9272",
   "metadata": {},
   "source": [
    "## Question 8: What are the 3 most popular movies?"
   ]
  },
  {
   "cell_type": "code",
   "execution_count": 58,
   "id": "f6cdc70c",
   "metadata": {},
   "outputs": [
    {
     "name": "stdout",
     "output_type": "stream",
     "text": [
      "The top 3 most popular movies are: \n"
     ]
    },
    {
     "data": {
      "text/html": [
       "<div>\n",
       "<style scoped>\n",
       "    .dataframe tbody tr th:only-of-type {\n",
       "        vertical-align: middle;\n",
       "    }\n",
       "\n",
       "    .dataframe tbody tr th {\n",
       "        vertical-align: top;\n",
       "    }\n",
       "\n",
       "    .dataframe thead th {\n",
       "        text-align: right;\n",
       "    }\n",
       "</style>\n",
       "<table border=\"1\" class=\"dataframe\">\n",
       "  <thead>\n",
       "    <tr style=\"text-align: right;\">\n",
       "      <th></th>\n",
       "      <th>id</th>\n",
       "      <th>moviename</th>\n",
       "      <th>popularity</th>\n",
       "    </tr>\n",
       "  </thead>\n",
       "  <tbody>\n",
       "    <tr>\n",
       "      <th>0</th>\n",
       "      <td>44143</td>\n",
       "      <td>Minions</td>\n",
       "      <td>875</td>\n",
       "    </tr>\n",
       "    <tr>\n",
       "      <th>1</th>\n",
       "      <td>43692</td>\n",
       "      <td>Interstellar</td>\n",
       "      <td>724</td>\n",
       "    </tr>\n",
       "    <tr>\n",
       "      <th>2</th>\n",
       "      <td>44385</td>\n",
       "      <td>Deadpool</td>\n",
       "      <td>514</td>\n",
       "    </tr>\n",
       "  </tbody>\n",
       "</table>\n",
       "</div>"
      ],
      "text/plain": [
       "      id     moviename  popularity\n",
       "0  44143       Minions         875\n",
       "1  43692  Interstellar         724\n",
       "2  44385      Deadpool         514"
      ]
     },
     "execution_count": 58,
     "metadata": {},
     "output_type": "execute_result"
    }
   ],
   "source": [
    "cur.execute('SELECT id, original_title, popularity FROM movies ORDER BY popularity DESC')\n",
    "pplr = cur.fetchmany(3)\n",
    "pplr = pd.DataFrame(pplr, columns = ['id', 'moviename', 'popularity'])\n",
    "print('The top 3 most popular movies are: ')\n",
    "pplr.head(3)"
   ]
  },
  {
   "cell_type": "markdown",
   "id": "86c8c715",
   "metadata": {},
   "source": [
    "Note / Analysis: Ordered the movies table in descending order on the popularity column then fetched only the ID, Name and Popularity of the movies. Created the respective dataframe and displayed only 3 movies as required."
   ]
  },
  {
   "cell_type": "markdown",
   "id": "4c15737e",
   "metadata": {},
   "source": [
    "## Question 9: What are the 3 most bankable movies?"
   ]
  },
  {
   "cell_type": "code",
   "execution_count": 57,
   "id": "4c849a0f",
   "metadata": {},
   "outputs": [
    {
     "name": "stdout",
     "output_type": "stream",
     "text": [
      "The top 3 most bankable/profitable movies are: \n"
     ]
    },
    {
     "data": {
      "text/html": [
       "<div>\n",
       "<style scoped>\n",
       "    .dataframe tbody tr th:only-of-type {\n",
       "        vertical-align: middle;\n",
       "    }\n",
       "\n",
       "    .dataframe tbody tr th {\n",
       "        vertical-align: top;\n",
       "    }\n",
       "\n",
       "    .dataframe thead th {\n",
       "        text-align: right;\n",
       "    }\n",
       "</style>\n",
       "<table border=\"1\" class=\"dataframe\">\n",
       "  <thead>\n",
       "    <tr style=\"text-align: right;\">\n",
       "      <th></th>\n",
       "      <th>id</th>\n",
       "      <th>moviename</th>\n",
       "      <th>budget</th>\n",
       "      <th>revenue</th>\n",
       "      <th>profit</th>\n",
       "    </tr>\n",
       "  </thead>\n",
       "  <tbody>\n",
       "    <tr>\n",
       "      <th>0</th>\n",
       "      <td>43597</td>\n",
       "      <td>Avatar</td>\n",
       "      <td>237000000</td>\n",
       "      <td>2787965087</td>\n",
       "      <td>2550965087</td>\n",
       "    </tr>\n",
       "    <tr>\n",
       "      <th>1</th>\n",
       "      <td>43622</td>\n",
       "      <td>Titanic</td>\n",
       "      <td>200000000</td>\n",
       "      <td>1845034188</td>\n",
       "      <td>1645034188</td>\n",
       "    </tr>\n",
       "    <tr>\n",
       "      <th>2</th>\n",
       "      <td>43625</td>\n",
       "      <td>Jurassic World</td>\n",
       "      <td>150000000</td>\n",
       "      <td>1513528810</td>\n",
       "      <td>1363528810</td>\n",
       "    </tr>\n",
       "  </tbody>\n",
       "</table>\n",
       "</div>"
      ],
      "text/plain": [
       "      id       moviename     budget     revenue      profit\n",
       "0  43597          Avatar  237000000  2787965087  2550965087\n",
       "1  43622         Titanic  200000000  1845034188  1645034188\n",
       "2  43625  Jurassic World  150000000  1513528810  1363528810"
      ]
     },
     "execution_count": 57,
     "metadata": {},
     "output_type": "execute_result"
    }
   ],
   "source": [
    "cur.execute('SELECT id, original_title, budget, revenue, revenue - budget AS profit FROM movies ORDER BY profit DESC')\n",
    "bank = cur.fetchmany(3)\n",
    "bank = pd.DataFrame(bank, columns = ['id', 'moviename', 'budget', 'revenue', 'profit'])\n",
    "print('The top 3 most bankable/profitable movies are: ')\n",
    "bank.head(3)"
   ]
  },
  {
   "cell_type": "markdown",
   "id": "cf54434b",
   "metadata": {},
   "source": [
    "Note / Analysis: Fetched the ID, movie name, budget, revenue as well as a new column called profit which is the difference between revenue and budget. Then sorted according to profit in descending order. Created the respective dataframe and displayed the required 3 movies along with the appropriate details."
   ]
  },
  {
   "cell_type": "markdown",
   "id": "33079991",
   "metadata": {},
   "source": [
    "## Question 10: What is the most awarded average vote since the January 1st, 2000?"
   ]
  },
  {
   "cell_type": "code",
   "execution_count": 56,
   "id": "3fa3fd1c",
   "metadata": {},
   "outputs": [
    {
     "name": "stdout",
     "output_type": "stream",
     "text": [
      "The highest awarded average vote since 1st of January, 2000 is 9.5\n",
      "And the details of the movie with this vote average is: \n"
     ]
    },
    {
     "data": {
      "text/html": [
       "<div>\n",
       "<style scoped>\n",
       "    .dataframe tbody tr th:only-of-type {\n",
       "        vertical-align: middle;\n",
       "    }\n",
       "\n",
       "    .dataframe tbody tr th {\n",
       "        vertical-align: top;\n",
       "    }\n",
       "\n",
       "    .dataframe thead th {\n",
       "        text-align: right;\n",
       "    }\n",
       "</style>\n",
       "<table border=\"1\" class=\"dataframe\">\n",
       "  <thead>\n",
       "    <tr style=\"text-align: right;\">\n",
       "      <th></th>\n",
       "      <th>id</th>\n",
       "      <th>name</th>\n",
       "      <th>release_date</th>\n",
       "      <th>avg_votes</th>\n",
       "    </tr>\n",
       "  </thead>\n",
       "  <tbody>\n",
       "    <tr>\n",
       "      <th>0</th>\n",
       "      <td>47589</td>\n",
       "      <td>Sardaarji</td>\n",
       "      <td>2015-06-26</td>\n",
       "      <td>9.5</td>\n",
       "    </tr>\n",
       "  </tbody>\n",
       "</table>\n",
       "</div>"
      ],
      "text/plain": [
       "      id       name release_date  avg_votes\n",
       "0  47589  Sardaarji   2015-06-26        9.5"
      ]
     },
     "execution_count": 56,
     "metadata": {},
     "output_type": "execute_result"
    }
   ],
   "source": [
    "cur.execute('SELECT id, original_title, release_date, vote_average FROM movies WHERE release_date > \"2000-01-01\" ORDER BY vote_average DESC')\n",
    "vote = cur.fetchone()\n",
    "vote = pd.DataFrame([vote], columns = ['id', 'name', 'release_date', 'avg_votes'])\n",
    "print(f\"The highest awarded average vote since 1st of January, 2000 is {vote.at[0, 'avg_votes']}\")\n",
    "print('And the details of the movie with this vote average is: ')\n",
    "vote.head(1)"
   ]
  },
  {
   "cell_type": "markdown",
   "id": "29d21914",
   "metadata": {},
   "source": [
    "Note / Analysis: Fetched the required details with the condition of release_date to consider only Movies released after 1st Jan, 2000 and then ordered the movies according to the average vote awarded. Created the appropriate dataframe and used the \"at\" function to access the average vote awarded value and printed it along with the details of the movie awarded."
   ]
  },
  {
   "cell_type": "markdown",
   "id": "f6098879",
   "metadata": {},
   "source": [
    "## Question 11: Which movie(s) were directed by Brenda Chapman?"
   ]
  },
  {
   "cell_type": "code",
   "execution_count": 31,
   "id": "be361a65",
   "metadata": {},
   "outputs": [
    {
     "name": "stdout",
     "output_type": "stream",
     "text": [
      "All movies directed by Brenda Chapman are: \n"
     ]
    },
    {
     "data": {
      "text/html": [
       "<div>\n",
       "<style scoped>\n",
       "    .dataframe tbody tr th:only-of-type {\n",
       "        vertical-align: middle;\n",
       "    }\n",
       "\n",
       "    .dataframe tbody tr th {\n",
       "        vertical-align: top;\n",
       "    }\n",
       "\n",
       "    .dataframe thead th {\n",
       "        text-align: right;\n",
       "    }\n",
       "</style>\n",
       "<table border=\"1\" class=\"dataframe\">\n",
       "  <thead>\n",
       "    <tr style=\"text-align: right;\">\n",
       "      <th></th>\n",
       "      <th>movieid</th>\n",
       "      <th>moviename</th>\n",
       "    </tr>\n",
       "  </thead>\n",
       "  <tbody>\n",
       "    <tr>\n",
       "      <th>0</th>\n",
       "      <td>43652</td>\n",
       "      <td>Brave</td>\n",
       "    </tr>\n",
       "  </tbody>\n",
       "</table>\n",
       "</div>"
      ],
      "text/plain": [
       "   movieid moviename\n",
       "0    43652     Brave"
      ]
     },
     "execution_count": 31,
     "metadata": {},
     "output_type": "execute_result"
    }
   ],
   "source": [
    "cur.execute('''\n",
    "    SELECT m.id, m.original_title FROM movies m \n",
    "    JOIN directors d \n",
    "    ON m.director_id = d.id \n",
    "    WHERE m.director_id = (SELECT id FROM directors WHERE name = \"Brenda Chapman\")\n",
    "''')\n",
    "brenda = cur.fetchall()\n",
    "brenda = pd.DataFrame(brenda, columns = ['movieid', 'moviename'])\n",
    "print('All movies directed by Brenda Chapman are: ')\n",
    "brenda.head(100)\n"
   ]
  },
  {
   "cell_type": "markdown",
   "id": "7e319533",
   "metadata": {},
   "source": [
    "Note / Analaysis: Used JOIN to join the two tables on director id which is common to both. Then fetched only those rows which consisted of the director id of Brenda Chapman using a subquery. Created the appropriate dataframe and displayed the movie names along with their IDs."
   ]
  },
  {
   "cell_type": "markdown",
   "id": "f98b7201",
   "metadata": {},
   "source": [
    "## Question 12: Which director made the most movies?"
   ]
  },
  {
   "cell_type": "code",
   "execution_count": 55,
   "id": "38dcb6e3",
   "metadata": {},
   "outputs": [
    {
     "name": "stdout",
     "output_type": "stream",
     "text": [
      "Information of the director that made the most movies are: \n"
     ]
    },
    {
     "data": {
      "text/html": [
       "<div>\n",
       "<style scoped>\n",
       "    .dataframe tbody tr th:only-of-type {\n",
       "        vertical-align: middle;\n",
       "    }\n",
       "\n",
       "    .dataframe tbody tr th {\n",
       "        vertical-align: top;\n",
       "    }\n",
       "\n",
       "    .dataframe thead th {\n",
       "        text-align: right;\n",
       "    }\n",
       "</style>\n",
       "<table border=\"1\" class=\"dataframe\">\n",
       "  <thead>\n",
       "    <tr style=\"text-align: right;\">\n",
       "      <th></th>\n",
       "      <th>name</th>\n",
       "      <th>id</th>\n",
       "      <th>gender</th>\n",
       "      <th>uid</th>\n",
       "      <th>department</th>\n",
       "      <th>moviesmade</th>\n",
       "    </tr>\n",
       "  </thead>\n",
       "  <tbody>\n",
       "    <tr>\n",
       "      <th>0</th>\n",
       "      <td>Steven Spielberg</td>\n",
       "      <td>4799</td>\n",
       "      <td>2</td>\n",
       "      <td>488</td>\n",
       "      <td>Directing</td>\n",
       "      <td>27</td>\n",
       "    </tr>\n",
       "  </tbody>\n",
       "</table>\n",
       "</div>"
      ],
      "text/plain": [
       "               name    id  gender  uid department  moviesmade\n",
       "0  Steven Spielberg  4799       2  488  Directing          27"
      ]
     },
     "execution_count": 55,
     "metadata": {},
     "output_type": "execute_result"
    }
   ],
   "source": [
    "cur.execute('''\n",
    "SELECT d.*, m.movies_made FROM directors d\n",
    "JOIN(\n",
    "    SELECT director_id, COUNT(director_id) AS movies_made \n",
    "    FROM movies GROUP BY director_id\n",
    "    ORDER BY movies_made DESC\n",
    "    LIMIT 1\n",
    ") m ON d.id = m.director_id\n",
    "''')\n",
    "most = cur.fetchone()\n",
    "most = pd.DataFrame([most], columns = ['name', 'id', 'gender', 'uid', 'department', 'moviesmade'])\n",
    "\n",
    "print('Information of the director that made the most movies are: ')\n",
    "most.head(1)"
   ]
  },
  {
   "cell_type": "markdown",
   "id": "7e9ef20b",
   "metadata": {},
   "source": [
    "Note / Analysis: First I created two aliases. d for the directors table and m for the table view generated by the subquery in JOIN. In JOIN, the subquery is used to fetch the director_id of the director that made the most movies. Used GROUP BY to find the count of movies made by each director then sorted it according to this count in descending order. Used LIMIT 1 to only fetch the director that made the most movies. Joined the table generated by this subquery with the directors table on directors_id and id from subquery and directors table respectively. Created the appropriate dataframe and displayed using head function."
   ]
  },
  {
   "cell_type": "markdown",
   "id": "8f17ba9c",
   "metadata": {},
   "source": [
    "## Question 13: Which director is the most bankable?"
   ]
  },
  {
   "cell_type": "code",
   "execution_count": 54,
   "id": "6a0092e4",
   "metadata": {},
   "outputs": [
    {
     "name": "stdout",
     "output_type": "stream",
     "text": [
      "Information of the most bankable/profitable director is: \n"
     ]
    },
    {
     "data": {
      "text/html": [
       "<div>\n",
       "<style scoped>\n",
       "    .dataframe tbody tr th:only-of-type {\n",
       "        vertical-align: middle;\n",
       "    }\n",
       "\n",
       "    .dataframe tbody tr th {\n",
       "        vertical-align: top;\n",
       "    }\n",
       "\n",
       "    .dataframe thead th {\n",
       "        text-align: right;\n",
       "    }\n",
       "</style>\n",
       "<table border=\"1\" class=\"dataframe\">\n",
       "  <thead>\n",
       "    <tr style=\"text-align: right;\">\n",
       "      <th></th>\n",
       "      <th>name</th>\n",
       "      <th>id</th>\n",
       "      <th>gender</th>\n",
       "      <th>uid</th>\n",
       "      <th>department</th>\n",
       "      <th>profitmade</th>\n",
       "    </tr>\n",
       "  </thead>\n",
       "  <tbody>\n",
       "    <tr>\n",
       "      <th>0</th>\n",
       "      <td>Steven Spielberg</td>\n",
       "      <td>4799</td>\n",
       "      <td>2</td>\n",
       "      <td>488</td>\n",
       "      <td>Directing</td>\n",
       "      <td>7479893164</td>\n",
       "    </tr>\n",
       "  </tbody>\n",
       "</table>\n",
       "</div>"
      ],
      "text/plain": [
       "               name    id  gender  uid department  profitmade\n",
       "0  Steven Spielberg  4799       2  488  Directing  7479893164"
      ]
     },
     "execution_count": 54,
     "metadata": {},
     "output_type": "execute_result"
    }
   ],
   "source": [
    "cur.execute('''\n",
    "\n",
    "SELECT d.*, m.profit FROM directors d\n",
    "JOIN (\n",
    "    SELECT director_id, SUM(revenue - budget) AS profit \n",
    "    FROM movies GROUP BY director_id\n",
    "    ORDER BY profit DESC\n",
    "    LIMIT 1\n",
    ") m ON d.id = m.director_id\n",
    "''')\n",
    "\n",
    "dirctbnk = cur.fetchall()\n",
    "dirctbnk = pd.DataFrame(dirctbnk, columns = ['name', 'id', 'gender', 'uid', 'department', 'profitmade'])\n",
    "\n",
    "print('Information of the most bankable/profitable director is: ')\n",
    "dirctbnk.head(1)"
   ]
  },
  {
   "cell_type": "markdown",
   "id": "a5afca12",
   "metadata": {},
   "source": [
    "Note / Analysis: Made 2 alaiases, d for the directors table and m for the table view generated by the subquery in JOIN. I used the query from Q.9 and GROUPED it by directors_id to find the total profit made by each director across ALL of their movies. Also, I had to use SUM so that it adds up the profit accross all their movies instead of just showing the profit made on 1 movie. Used LIMIT 1 as we only want the most profitable director. Then joined the subquery table view with the directors table on directors_id and id respectively to retrieve the entire information of the most profitable director. Created the appropriate dataframe and displayed it using head function."
   ]
  },
  {
   "cell_type": "markdown",
   "id": "55ca7a7a",
   "metadata": {},
   "source": [
    "# Budget Analysis\n"
   ]
  },
  {
   "cell_type": "markdown",
   "id": "4bb0bfb0",
   "metadata": {},
   "source": [
    "## List out Top 10 highest budget made movies"
   ]
  },
  {
   "cell_type": "code",
   "execution_count": 68,
   "id": "9db529bb",
   "metadata": {},
   "outputs": [
    {
     "name": "stdout",
     "output_type": "stream",
     "text": [
      "Top 10 Movies with the highest budget are: \n"
     ]
    },
    {
     "data": {
      "text/html": [
       "<div>\n",
       "<style scoped>\n",
       "    .dataframe tbody tr th:only-of-type {\n",
       "        vertical-align: middle;\n",
       "    }\n",
       "\n",
       "    .dataframe tbody tr th {\n",
       "        vertical-align: top;\n",
       "    }\n",
       "\n",
       "    .dataframe thead th {\n",
       "        text-align: right;\n",
       "    }\n",
       "</style>\n",
       "<table border=\"1\" class=\"dataframe\">\n",
       "  <thead>\n",
       "    <tr style=\"text-align: right;\">\n",
       "      <th></th>\n",
       "      <th>id</th>\n",
       "      <th>original_title</th>\n",
       "      <th>budget</th>\n",
       "    </tr>\n",
       "  </thead>\n",
       "  <tbody>\n",
       "    <tr>\n",
       "      <th>0</th>\n",
       "      <td>43614</td>\n",
       "      <td>Pirates of the Caribbean: On Stranger Tides</td>\n",
       "      <td>380000000</td>\n",
       "    </tr>\n",
       "    <tr>\n",
       "      <th>1</th>\n",
       "      <td>43598</td>\n",
       "      <td>Pirates of the Caribbean: At World's End</td>\n",
       "      <td>300000000</td>\n",
       "    </tr>\n",
       "    <tr>\n",
       "      <th>2</th>\n",
       "      <td>43604</td>\n",
       "      <td>Avengers: Age of Ultron</td>\n",
       "      <td>280000000</td>\n",
       "    </tr>\n",
       "    <tr>\n",
       "      <th>3</th>\n",
       "      <td>43607</td>\n",
       "      <td>Superman Returns</td>\n",
       "      <td>270000000</td>\n",
       "    </tr>\n",
       "    <tr>\n",
       "      <th>4</th>\n",
       "      <td>43601</td>\n",
       "      <td>John Carter</td>\n",
       "      <td>260000000</td>\n",
       "    </tr>\n",
       "    <tr>\n",
       "      <th>5</th>\n",
       "      <td>43603</td>\n",
       "      <td>Tangled</td>\n",
       "      <td>260000000</td>\n",
       "    </tr>\n",
       "    <tr>\n",
       "      <th>6</th>\n",
       "      <td>43602</td>\n",
       "      <td>Spider-Man 3</td>\n",
       "      <td>258000000</td>\n",
       "    </tr>\n",
       "    <tr>\n",
       "      <th>7</th>\n",
       "      <td>43610</td>\n",
       "      <td>The Lone Ranger</td>\n",
       "      <td>255000000</td>\n",
       "    </tr>\n",
       "    <tr>\n",
       "      <th>8</th>\n",
       "      <td>43600</td>\n",
       "      <td>The Dark Knight Rises</td>\n",
       "      <td>250000000</td>\n",
       "    </tr>\n",
       "    <tr>\n",
       "      <th>9</th>\n",
       "      <td>43605</td>\n",
       "      <td>Harry Potter and the Half-Blood Prince</td>\n",
       "      <td>250000000</td>\n",
       "    </tr>\n",
       "  </tbody>\n",
       "</table>\n",
       "</div>"
      ],
      "text/plain": [
       "      id                               original_title     budget\n",
       "0  43614  Pirates of the Caribbean: On Stranger Tides  380000000\n",
       "1  43598     Pirates of the Caribbean: At World's End  300000000\n",
       "2  43604                      Avengers: Age of Ultron  280000000\n",
       "3  43607                             Superman Returns  270000000\n",
       "4  43601                                  John Carter  260000000\n",
       "5  43603                                      Tangled  260000000\n",
       "6  43602                                 Spider-Man 3  258000000\n",
       "7  43610                              The Lone Ranger  255000000\n",
       "8  43600                        The Dark Knight Rises  250000000\n",
       "9  43605       Harry Potter and the Half-Blood Prince  250000000"
      ]
     },
     "execution_count": 68,
     "metadata": {},
     "output_type": "execute_result"
    }
   ],
   "source": [
    "cur.execute('''\n",
    "\n",
    "SELECT id, original_title, budget FROM movies\n",
    "ORDER BY budget DESC\n",
    "\n",
    "''')\n",
    "\n",
    "bget = cur.fetchmany(10)\n",
    "bget = pd.DataFrame(bget, columns=['id', 'original_title', 'budget'])\n",
    "\n",
    "print('Top 10 Movies with the highest budget are: ')\n",
    "bget.head(10)"
   ]
  },
  {
   "cell_type": "markdown",
   "id": "3c8d1eb1",
   "metadata": {},
   "source": [
    "Note / Analysis: Used ORDER BY to order the table according to the budget in descending order. Then used fetchmany(10) to only fetch the first 10 rows as required. Created the appropriate dataframe and displayed using head function."
   ]
  },
  {
   "cell_type": "markdown",
   "id": "67c44c2a",
   "metadata": {},
   "source": [
    "# Popularity Analysis"
   ]
  },
  {
   "cell_type": "markdown",
   "id": "774ed2fe",
   "metadata": {},
   "source": [
    "## List out Top 10 popularity on movies"
   ]
  },
  {
   "cell_type": "code",
   "execution_count": 69,
   "id": "2318f091",
   "metadata": {},
   "outputs": [
    {
     "name": "stdout",
     "output_type": "stream",
     "text": [
      "Top 10 Movies with the highest popularity are: \n"
     ]
    },
    {
     "data": {
      "text/html": [
       "<div>\n",
       "<style scoped>\n",
       "    .dataframe tbody tr th:only-of-type {\n",
       "        vertical-align: middle;\n",
       "    }\n",
       "\n",
       "    .dataframe tbody tr th {\n",
       "        vertical-align: top;\n",
       "    }\n",
       "\n",
       "    .dataframe thead th {\n",
       "        text-align: right;\n",
       "    }\n",
       "</style>\n",
       "<table border=\"1\" class=\"dataframe\">\n",
       "  <thead>\n",
       "    <tr style=\"text-align: right;\">\n",
       "      <th></th>\n",
       "      <th>id</th>\n",
       "      <th>original_title</th>\n",
       "      <th>popularity</th>\n",
       "    </tr>\n",
       "  </thead>\n",
       "  <tbody>\n",
       "    <tr>\n",
       "      <th>0</th>\n",
       "      <td>44143</td>\n",
       "      <td>Minions</td>\n",
       "      <td>875</td>\n",
       "    </tr>\n",
       "    <tr>\n",
       "      <th>1</th>\n",
       "      <td>43692</td>\n",
       "      <td>Interstellar</td>\n",
       "      <td>724</td>\n",
       "    </tr>\n",
       "    <tr>\n",
       "      <th>2</th>\n",
       "      <td>44385</td>\n",
       "      <td>Deadpool</td>\n",
       "      <td>514</td>\n",
       "    </tr>\n",
       "    <tr>\n",
       "      <th>3</th>\n",
       "      <td>43691</td>\n",
       "      <td>Guardians of the Galaxy</td>\n",
       "      <td>481</td>\n",
       "    </tr>\n",
       "    <tr>\n",
       "      <th>4</th>\n",
       "      <td>43724</td>\n",
       "      <td>Mad Max: Fury Road</td>\n",
       "      <td>434</td>\n",
       "    </tr>\n",
       "    <tr>\n",
       "      <th>5</th>\n",
       "      <td>43625</td>\n",
       "      <td>Jurassic World</td>\n",
       "      <td>418</td>\n",
       "    </tr>\n",
       "    <tr>\n",
       "      <th>6</th>\n",
       "      <td>43796</td>\n",
       "      <td>Pirates of the Caribbean: The Curse of the Bla...</td>\n",
       "      <td>271</td>\n",
       "    </tr>\n",
       "    <tr>\n",
       "      <th>7</th>\n",
       "      <td>43679</td>\n",
       "      <td>Dawn of the Planet of the Apes</td>\n",
       "      <td>243</td>\n",
       "    </tr>\n",
       "    <tr>\n",
       "      <th>8</th>\n",
       "      <td>43797</td>\n",
       "      <td>The Hunger Games: Mockingjay - Part 1</td>\n",
       "      <td>206</td>\n",
       "    </tr>\n",
       "    <tr>\n",
       "      <th>9</th>\n",
       "      <td>43685</td>\n",
       "      <td>Big Hero 6</td>\n",
       "      <td>203</td>\n",
       "    </tr>\n",
       "  </tbody>\n",
       "</table>\n",
       "</div>"
      ],
      "text/plain": [
       "      id                                     original_title  popularity\n",
       "0  44143                                            Minions         875\n",
       "1  43692                                       Interstellar         724\n",
       "2  44385                                           Deadpool         514\n",
       "3  43691                            Guardians of the Galaxy         481\n",
       "4  43724                                 Mad Max: Fury Road         434\n",
       "5  43625                                     Jurassic World         418\n",
       "6  43796  Pirates of the Caribbean: The Curse of the Bla...         271\n",
       "7  43679                     Dawn of the Planet of the Apes         243\n",
       "8  43797              The Hunger Games: Mockingjay - Part 1         206\n",
       "9  43685                                         Big Hero 6         203"
      ]
     },
     "execution_count": 69,
     "metadata": {},
     "output_type": "execute_result"
    }
   ],
   "source": [
    "cur.execute('''\n",
    "\n",
    "SELECT id, original_title, popularity FROM movies\n",
    "ORDER BY popularity DESC\n",
    "\n",
    "''')\n",
    "\n",
    "pplrmv = cur.fetchmany(10)\n",
    "pplrmv = pd.DataFrame(pplrmv, columns=['id', 'original_title', 'popularity'])\n",
    "\n",
    "print('Top 10 Movies with the highest popularity are: ')\n",
    "pplrmv.head(10)"
   ]
  },
  {
   "cell_type": "markdown",
   "id": "98a5e593",
   "metadata": {},
   "source": [
    "Note / Analysis: Similiar to the Budget Analysis, just that instead of budget we are using popularity as the comparision factor."
   ]
  },
  {
   "cell_type": "markdown",
   "id": "a06eefe5",
   "metadata": {},
   "source": [
    "# Revenue Analysis"
   ]
  },
  {
   "cell_type": "markdown",
   "id": "cede8331",
   "metadata": {},
   "source": [
    "## What are the top 10 Revenue movies"
   ]
  },
  {
   "cell_type": "code",
   "execution_count": 71,
   "id": "cc180bfd",
   "metadata": {},
   "outputs": [
    {
     "name": "stdout",
     "output_type": "stream",
     "text": [
      "Top 10 Movies with the highest revenue are: \n"
     ]
    },
    {
     "data": {
      "text/html": [
       "<div>\n",
       "<style scoped>\n",
       "    .dataframe tbody tr th:only-of-type {\n",
       "        vertical-align: middle;\n",
       "    }\n",
       "\n",
       "    .dataframe tbody tr th {\n",
       "        vertical-align: top;\n",
       "    }\n",
       "\n",
       "    .dataframe thead th {\n",
       "        text-align: right;\n",
       "    }\n",
       "</style>\n",
       "<table border=\"1\" class=\"dataframe\">\n",
       "  <thead>\n",
       "    <tr style=\"text-align: right;\">\n",
       "      <th></th>\n",
       "      <th>id</th>\n",
       "      <th>original_title</th>\n",
       "      <th>revenue</th>\n",
       "    </tr>\n",
       "  </thead>\n",
       "  <tbody>\n",
       "    <tr>\n",
       "      <th>0</th>\n",
       "      <td>43597</td>\n",
       "      <td>Avatar</td>\n",
       "      <td>2787965087</td>\n",
       "    </tr>\n",
       "    <tr>\n",
       "      <th>1</th>\n",
       "      <td>43622</td>\n",
       "      <td>Titanic</td>\n",
       "      <td>1845034188</td>\n",
       "    </tr>\n",
       "    <tr>\n",
       "      <th>2</th>\n",
       "      <td>43613</td>\n",
       "      <td>The Avengers</td>\n",
       "      <td>1519557910</td>\n",
       "    </tr>\n",
       "    <tr>\n",
       "      <th>3</th>\n",
       "      <td>43625</td>\n",
       "      <td>Jurassic World</td>\n",
       "      <td>1513528810</td>\n",
       "    </tr>\n",
       "    <tr>\n",
       "      <th>4</th>\n",
       "      <td>43641</td>\n",
       "      <td>Furious 7</td>\n",
       "      <td>1506249360</td>\n",
       "    </tr>\n",
       "    <tr>\n",
       "      <th>5</th>\n",
       "      <td>43604</td>\n",
       "      <td>Avengers: Age of Ultron</td>\n",
       "      <td>1405403694</td>\n",
       "    </tr>\n",
       "    <tr>\n",
       "      <th>6</th>\n",
       "      <td>43721</td>\n",
       "      <td>Frozen</td>\n",
       "      <td>1274219009</td>\n",
       "    </tr>\n",
       "    <tr>\n",
       "      <th>7</th>\n",
       "      <td>43628</td>\n",
       "      <td>Iron Man 3</td>\n",
       "      <td>1215439994</td>\n",
       "    </tr>\n",
       "    <tr>\n",
       "      <th>8</th>\n",
       "      <td>44143</td>\n",
       "      <td>Minions</td>\n",
       "      <td>1156730962</td>\n",
       "    </tr>\n",
       "    <tr>\n",
       "      <th>9</th>\n",
       "      <td>43623</td>\n",
       "      <td>Captain America: Civil War</td>\n",
       "      <td>1153304495</td>\n",
       "    </tr>\n",
       "  </tbody>\n",
       "</table>\n",
       "</div>"
      ],
      "text/plain": [
       "      id              original_title     revenue\n",
       "0  43597                      Avatar  2787965087\n",
       "1  43622                     Titanic  1845034188\n",
       "2  43613                The Avengers  1519557910\n",
       "3  43625              Jurassic World  1513528810\n",
       "4  43641                   Furious 7  1506249360\n",
       "5  43604     Avengers: Age of Ultron  1405403694\n",
       "6  43721                      Frozen  1274219009\n",
       "7  43628                  Iron Man 3  1215439994\n",
       "8  44143                     Minions  1156730962\n",
       "9  43623  Captain America: Civil War  1153304495"
      ]
     },
     "execution_count": 71,
     "metadata": {},
     "output_type": "execute_result"
    }
   ],
   "source": [
    "cur.execute('''\n",
    "\n",
    "SELECT id, original_title, revenue FROM movies\n",
    "ORDER BY revenue DESC\n",
    "\n",
    "''')\n",
    "\n",
    "rvn = cur.fetchmany(10)\n",
    "rvn = pd.DataFrame(rvn, columns=['id', 'original_title', 'revenue'])\n",
    "\n",
    "print('Top 10 Movies with the highest revenue are: ')\n",
    "rvn.head(10)"
   ]
  },
  {
   "cell_type": "markdown",
   "id": "967e4384",
   "metadata": {},
   "source": [
    "Note / Analysis: Similiar the previous question. Instead we have revenue as the comparison factor."
   ]
  },
  {
   "cell_type": "markdown",
   "id": "7addcf35",
   "metadata": {},
   "source": [
    "# Voting Analysis"
   ]
  },
  {
   "cell_type": "markdown",
   "id": "bb8326dd",
   "metadata": {},
   "source": [
    "## Display most popular movies with vote_average"
   ]
  },
  {
   "cell_type": "code",
   "execution_count": 74,
   "id": "3e3b353c",
   "metadata": {},
   "outputs": [
    {
     "name": "stdout",
     "output_type": "stream",
     "text": [
      "Top 10 movies with the highest popularity along with their average vote information are: \n"
     ]
    },
    {
     "data": {
      "text/html": [
       "<div>\n",
       "<style scoped>\n",
       "    .dataframe tbody tr th:only-of-type {\n",
       "        vertical-align: middle;\n",
       "    }\n",
       "\n",
       "    .dataframe tbody tr th {\n",
       "        vertical-align: top;\n",
       "    }\n",
       "\n",
       "    .dataframe thead th {\n",
       "        text-align: right;\n",
       "    }\n",
       "</style>\n",
       "<table border=\"1\" class=\"dataframe\">\n",
       "  <thead>\n",
       "    <tr style=\"text-align: right;\">\n",
       "      <th></th>\n",
       "      <th>id</th>\n",
       "      <th>original_title</th>\n",
       "      <th>vote_average</th>\n",
       "      <th>popularity</th>\n",
       "    </tr>\n",
       "  </thead>\n",
       "  <tbody>\n",
       "    <tr>\n",
       "      <th>0</th>\n",
       "      <td>47116</td>\n",
       "      <td>Stiff Upper Lips</td>\n",
       "      <td>10.0</td>\n",
       "      <td>0</td>\n",
       "    </tr>\n",
       "    <tr>\n",
       "      <th>1</th>\n",
       "      <td>47642</td>\n",
       "      <td>Dancer, Texas Pop. 81</td>\n",
       "      <td>10.0</td>\n",
       "      <td>0</td>\n",
       "    </tr>\n",
       "    <tr>\n",
       "      <th>2</th>\n",
       "      <td>47589</td>\n",
       "      <td>Sardaarji</td>\n",
       "      <td>9.5</td>\n",
       "      <td>0</td>\n",
       "    </tr>\n",
       "    <tr>\n",
       "      <th>3</th>\n",
       "      <td>45983</td>\n",
       "      <td>One Man's Hero</td>\n",
       "      <td>9.3</td>\n",
       "      <td>0</td>\n",
       "    </tr>\n",
       "    <tr>\n",
       "      <th>4</th>\n",
       "      <td>45478</td>\n",
       "      <td>The Shawshank Redemption</td>\n",
       "      <td>8.5</td>\n",
       "      <td>136</td>\n",
       "    </tr>\n",
       "    <tr>\n",
       "      <th>5</th>\n",
       "      <td>46567</td>\n",
       "      <td>There Goes My Baby</td>\n",
       "      <td>8.5</td>\n",
       "      <td>0</td>\n",
       "    </tr>\n",
       "    <tr>\n",
       "      <th>6</th>\n",
       "      <td>46934</td>\n",
       "      <td>The Godfather</td>\n",
       "      <td>8.4</td>\n",
       "      <td>143</td>\n",
       "    </tr>\n",
       "    <tr>\n",
       "      <th>7</th>\n",
       "      <td>46393</td>\n",
       "      <td>The Prisoner of Zenda</td>\n",
       "      <td>8.4</td>\n",
       "      <td>4</td>\n",
       "    </tr>\n",
       "    <tr>\n",
       "      <th>8</th>\n",
       "      <td>47462</td>\n",
       "      <td>Whiplash</td>\n",
       "      <td>8.3</td>\n",
       "      <td>192</td>\n",
       "    </tr>\n",
       "    <tr>\n",
       "      <th>9</th>\n",
       "      <td>44259</td>\n",
       "      <td>Fight Club</td>\n",
       "      <td>8.3</td>\n",
       "      <td>146</td>\n",
       "    </tr>\n",
       "  </tbody>\n",
       "</table>\n",
       "</div>"
      ],
      "text/plain": [
       "      id            original_title  vote_average  popularity\n",
       "0  47116          Stiff Upper Lips          10.0           0\n",
       "1  47642     Dancer, Texas Pop. 81          10.0           0\n",
       "2  47589                 Sardaarji           9.5           0\n",
       "3  45983            One Man's Hero           9.3           0\n",
       "4  45478  The Shawshank Redemption           8.5         136\n",
       "5  46567        There Goes My Baby           8.5           0\n",
       "6  46934             The Godfather           8.4         143\n",
       "7  46393     The Prisoner of Zenda           8.4           4\n",
       "8  47462                  Whiplash           8.3         192\n",
       "9  44259                Fight Club           8.3         146"
      ]
     },
     "execution_count": 74,
     "metadata": {},
     "output_type": "execute_result"
    }
   ],
   "source": [
    "cur.execute('''\n",
    "\n",
    "SELECT id, original_title, vote_average, popularity FROM movies\n",
    "ORDER BY vote_average DESC, popularity DESC \n",
    "\n",
    "''')\n",
    "\n",
    "avgpv = cur.fetchmany(10)\n",
    "avgpv = pd.DataFrame(avgpv, columns=['id', 'original_title', 'vote_average', 'popularity'])\n",
    "\n",
    "print('Top 10 movies with the highest vote average along with their popularity are: ')\n",
    "avgpv.head(10)"
   ]
  },
  {
   "cell_type": "markdown",
   "id": "9beef06e",
   "metadata": {},
   "source": [
    "Note / Analysis: Odered by vote_average first then ordered by popularity so that the movies having the same vote_average are sorted on the basis of their popularity."
   ]
  },
  {
   "cell_type": "markdown",
   "id": "df6d6ff3",
   "metadata": {},
   "source": [
    "## List out Particular movie for Voting average and votecount"
   ]
  },
  {
   "cell_type": "code",
   "execution_count": 89,
   "id": "7794cf52",
   "metadata": {
    "scrolled": false
   },
   "outputs": [
    {
     "data": {
      "text/html": [
       "<div>\n",
       "<style scoped>\n",
       "    .dataframe tbody tr th:only-of-type {\n",
       "        vertical-align: middle;\n",
       "    }\n",
       "\n",
       "    .dataframe tbody tr th {\n",
       "        vertical-align: top;\n",
       "    }\n",
       "\n",
       "    .dataframe thead th {\n",
       "        text-align: right;\n",
       "    }\n",
       "</style>\n",
       "<table border=\"1\" class=\"dataframe\">\n",
       "  <thead>\n",
       "    <tr style=\"text-align: right;\">\n",
       "      <th></th>\n",
       "      <th>movieid</th>\n",
       "      <th>original_title</th>\n",
       "      <th>vote_average</th>\n",
       "      <th>vote_count</th>\n",
       "    </tr>\n",
       "  </thead>\n",
       "  <tbody>\n",
       "    <tr>\n",
       "      <th>0</th>\n",
       "      <td>47116</td>\n",
       "      <td>Stiff Upper Lips</td>\n",
       "      <td>10.0</td>\n",
       "      <td>1</td>\n",
       "    </tr>\n",
       "    <tr>\n",
       "      <th>1</th>\n",
       "      <td>47642</td>\n",
       "      <td>Dancer, Texas Pop. 81</td>\n",
       "      <td>10.0</td>\n",
       "      <td>1</td>\n",
       "    </tr>\n",
       "    <tr>\n",
       "      <th>2</th>\n",
       "      <td>47589</td>\n",
       "      <td>Sardaarji</td>\n",
       "      <td>9.5</td>\n",
       "      <td>2</td>\n",
       "    </tr>\n",
       "    <tr>\n",
       "      <th>3</th>\n",
       "      <td>45983</td>\n",
       "      <td>One Man's Hero</td>\n",
       "      <td>9.3</td>\n",
       "      <td>2</td>\n",
       "    </tr>\n",
       "    <tr>\n",
       "      <th>4</th>\n",
       "      <td>45478</td>\n",
       "      <td>The Shawshank Redemption</td>\n",
       "      <td>8.5</td>\n",
       "      <td>8205</td>\n",
       "    </tr>\n",
       "    <tr>\n",
       "      <th>...</th>\n",
       "      <td>...</td>\n",
       "      <td>...</td>\n",
       "      <td>...</td>\n",
       "      <td>...</td>\n",
       "    </tr>\n",
       "    <tr>\n",
       "      <th>95</th>\n",
       "      <td>46113</td>\n",
       "      <td>American Beauty</td>\n",
       "      <td>7.9</td>\n",
       "      <td>3313</td>\n",
       "    </tr>\n",
       "    <tr>\n",
       "      <th>96</th>\n",
       "      <td>44648</td>\n",
       "      <td>Prisoners</td>\n",
       "      <td>7.9</td>\n",
       "      <td>3085</td>\n",
       "    </tr>\n",
       "    <tr>\n",
       "      <th>97</th>\n",
       "      <td>46563</td>\n",
       "      <td>2001: A Space Odyssey</td>\n",
       "      <td>7.9</td>\n",
       "      <td>2998</td>\n",
       "    </tr>\n",
       "    <tr>\n",
       "      <th>98</th>\n",
       "      <td>47168</td>\n",
       "      <td>Dallas Buyers Club</td>\n",
       "      <td>7.9</td>\n",
       "      <td>2886</td>\n",
       "    </tr>\n",
       "    <tr>\n",
       "      <th>99</th>\n",
       "      <td>46572</td>\n",
       "      <td>Good Will Hunting</td>\n",
       "      <td>7.9</td>\n",
       "      <td>2811</td>\n",
       "    </tr>\n",
       "  </tbody>\n",
       "</table>\n",
       "<p>100 rows × 4 columns</p>\n",
       "</div>"
      ],
      "text/plain": [
       "    movieid            original_title  vote_average  vote_count\n",
       "0     47116          Stiff Upper Lips          10.0           1\n",
       "1     47642     Dancer, Texas Pop. 81          10.0           1\n",
       "2     47589                 Sardaarji           9.5           2\n",
       "3     45983            One Man's Hero           9.3           2\n",
       "4     45478  The Shawshank Redemption           8.5        8205\n",
       "..      ...                       ...           ...         ...\n",
       "95    46113           American Beauty           7.9        3313\n",
       "96    44648                 Prisoners           7.9        3085\n",
       "97    46563     2001: A Space Odyssey           7.9        2998\n",
       "98    47168        Dallas Buyers Club           7.9        2886\n",
       "99    46572         Good Will Hunting           7.9        2811\n",
       "\n",
       "[100 rows x 4 columns]"
      ]
     },
     "execution_count": 89,
     "metadata": {},
     "output_type": "execute_result"
    }
   ],
   "source": [
    "cur.execute('''\n",
    "\n",
    "SELECT id, original_title, vote_average, vote_count FROM movies\n",
    "ORDER BY vote_average DESC, vote_count DESC\n",
    "\n",
    "''')\n",
    "\n",
    "mvvts = cur.fetchall()\n",
    "mvvts = pd.DataFrame (mvvts, columns = ['movieid', 'original_title', 'vote_average', 'vote_count'])\n",
    "mvvts.head(100)\n"
   ]
  },
  {
   "cell_type": "markdown",
   "id": "f294aff0",
   "metadata": {},
   "source": [
    "Note / Analysis: Selected the required columns then ordered it by vote_average then the vote_count in descending order. Hence, the movies with same vote_average are sorted on the basis of their vote_count."
   ]
  },
  {
   "cell_type": "markdown",
   "id": "c8bde18f",
   "metadata": {},
   "source": [
    "# Directors Analysis"
   ]
  },
  {
   "cell_type": "markdown",
   "id": "f5bd9244",
   "metadata": {},
   "source": [
    "## List out the director names with number of movies and revenue"
   ]
  },
  {
   "cell_type": "code",
   "execution_count": 80,
   "id": "f643d501",
   "metadata": {},
   "outputs": [
    {
     "data": {
      "text/html": [
       "<div>\n",
       "<style scoped>\n",
       "    .dataframe tbody tr th:only-of-type {\n",
       "        vertical-align: middle;\n",
       "    }\n",
       "\n",
       "    .dataframe tbody tr th {\n",
       "        vertical-align: top;\n",
       "    }\n",
       "\n",
       "    .dataframe thead th {\n",
       "        text-align: right;\n",
       "    }\n",
       "</style>\n",
       "<table border=\"1\" class=\"dataframe\">\n",
       "  <thead>\n",
       "    <tr style=\"text-align: right;\">\n",
       "      <th></th>\n",
       "      <th>id</th>\n",
       "      <th>name</th>\n",
       "      <th>movies_made</th>\n",
       "      <th>total_revenue</th>\n",
       "    </tr>\n",
       "  </thead>\n",
       "  <tbody>\n",
       "    <tr>\n",
       "      <th>0</th>\n",
       "      <td>4762</td>\n",
       "      <td>James Cameron</td>\n",
       "      <td>7</td>\n",
       "      <td>5883569439</td>\n",
       "    </tr>\n",
       "    <tr>\n",
       "      <th>1</th>\n",
       "      <td>4763</td>\n",
       "      <td>Gore Verbinski</td>\n",
       "      <td>7</td>\n",
       "      <td>3177013357</td>\n",
       "    </tr>\n",
       "    <tr>\n",
       "      <th>2</th>\n",
       "      <td>4764</td>\n",
       "      <td>Sam Mendes</td>\n",
       "      <td>7</td>\n",
       "      <td>2713548809</td>\n",
       "    </tr>\n",
       "    <tr>\n",
       "      <th>3</th>\n",
       "      <td>4765</td>\n",
       "      <td>Christopher Nolan</td>\n",
       "      <td>8</td>\n",
       "      <td>4227483234</td>\n",
       "    </tr>\n",
       "    <tr>\n",
       "      <th>4</th>\n",
       "      <td>4766</td>\n",
       "      <td>Andrew Stanton</td>\n",
       "      <td>4</td>\n",
       "      <td>2109045355</td>\n",
       "    </tr>\n",
       "    <tr>\n",
       "      <th>5</th>\n",
       "      <td>4767</td>\n",
       "      <td>Sam Raimi</td>\n",
       "      <td>11</td>\n",
       "      <td>3132901462</td>\n",
       "    </tr>\n",
       "    <tr>\n",
       "      <th>6</th>\n",
       "      <td>4768</td>\n",
       "      <td>Byron Howard</td>\n",
       "      <td>1</td>\n",
       "      <td>591794936</td>\n",
       "    </tr>\n",
       "    <tr>\n",
       "      <th>7</th>\n",
       "      <td>4769</td>\n",
       "      <td>Joss Whedon</td>\n",
       "      <td>3</td>\n",
       "      <td>2963831068</td>\n",
       "    </tr>\n",
       "    <tr>\n",
       "      <th>8</th>\n",
       "      <td>4770</td>\n",
       "      <td>David Yates</td>\n",
       "      <td>3</td>\n",
       "      <td>2228914996</td>\n",
       "    </tr>\n",
       "    <tr>\n",
       "      <th>9</th>\n",
       "      <td>4771</td>\n",
       "      <td>Zack Snyder</td>\n",
       "      <td>7</td>\n",
       "      <td>2476197387</td>\n",
       "    </tr>\n",
       "  </tbody>\n",
       "</table>\n",
       "</div>"
      ],
      "text/plain": [
       "     id               name  movies_made  total_revenue\n",
       "0  4762      James Cameron            7     5883569439\n",
       "1  4763     Gore Verbinski            7     3177013357\n",
       "2  4764         Sam Mendes            7     2713548809\n",
       "3  4765  Christopher Nolan            8     4227483234\n",
       "4  4766     Andrew Stanton            4     2109045355\n",
       "5  4767          Sam Raimi           11     3132901462\n",
       "6  4768       Byron Howard            1      591794936\n",
       "7  4769        Joss Whedon            3     2963831068\n",
       "8  4770        David Yates            3     2228914996\n",
       "9  4771        Zack Snyder            7     2476197387"
      ]
     },
     "execution_count": 80,
     "metadata": {},
     "output_type": "execute_result"
    }
   ],
   "source": [
    "cur.execute('''\n",
    "\n",
    "SELECT d.id, d.name, m.movies_made, m.total_revenue FROM directors d\n",
    "JOIN (\n",
    "\n",
    "    SELECT director_id, COUNT(director_id) AS movies_made, SUM(revenue) AS total_revenue\n",
    "    FROM movies GROUP BY director_id\n",
    "\n",
    ") m on d.id = m.director_id\n",
    "\n",
    "''')\n",
    "\n",
    "dirs = cur.fetchall()\n",
    "dirs = pd.DataFrame(dirs, columns = ['id', 'name', 'movies_made', 'total_revenue', ])\n",
    "dirs.head(10)"
   ]
  },
  {
   "cell_type": "markdown",
   "id": "9856743c",
   "metadata": {},
   "source": [
    "Note / Analysis: Created 2 aliases, d for directors table and m for the table view generated from the subquery in JOIN. In JOIN, I retrieved the directorid, count of the movies made by that director using COUNT, and total revenue of the directors by SUM and then using GROUP BY I categorised the total revenue and movies made according to the director id. Using this id I joined the table with directors. Created the appropriate DataFrame to display the information appropriately."
   ]
  }
 ],
 "metadata": {
  "kernelspec": {
   "display_name": "Python 3 (ipykernel)",
   "language": "python",
   "name": "python3"
  },
  "language_info": {
   "codemirror_mode": {
    "name": "ipython",
    "version": 3
   },
   "file_extension": ".py",
   "mimetype": "text/x-python",
   "name": "python",
   "nbconvert_exporter": "python",
   "pygments_lexer": "ipython3",
   "version": "3.11.5"
  }
 },
 "nbformat": 4,
 "nbformat_minor": 5
}
