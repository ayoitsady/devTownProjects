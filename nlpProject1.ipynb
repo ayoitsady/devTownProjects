{
 "cells": [
  {
   "cell_type": "markdown",
   "id": "7b192544",
   "metadata": {},
   "source": [
    "Name: Adnan Shaikh<br>\n",
    "Batch: 10224"
   ]
  },
  {
   "cell_type": "markdown",
   "id": "a4bcf262",
   "metadata": {},
   "source": [
    "### Project Statement:\n",
    "\n",
    "Everyone needs to complete one end-to-end project on NLP, where you will be taking dataset from any online repository(like Kaggle, UCI repository, Github, etc.) and you need to have complex data with more than 5000+ comments or texts or reviews\n",
    "\n",
    "Your project should have data cleaning, EDA, feature engineering, scaling, normalizing, splitting of data into different sets, model training, validating, testing and model evaluation steps involved."
   ]
  },
  {
   "cell_type": "markdown",
   "id": "399379a4",
   "metadata": {},
   "source": [
    "### Importing the required libraries."
   ]
  },
  {
   "cell_type": "code",
   "execution_count": 2,
   "id": "b67206b9",
   "metadata": {
    "scrolled": false
   },
   "outputs": [],
   "source": [
    "import pandas as pd \n",
    "import seaborn as sns\n",
    "import numpy as np\n",
    "import matplotlib.pyplot as plt\n",
    "import nltk\n",
    "\n",
    "import warnings\n",
    "warnings.filterwarnings('ignore')"
   ]
  },
  {
   "cell_type": "markdown",
   "id": "2e088225",
   "metadata": {},
   "source": [
    "### Loading the required Datasets."
   ]
  },
  {
   "cell_type": "code",
   "execution_count": 3,
   "id": "8368724a",
   "metadata": {
    "scrolled": false
   },
   "outputs": [],
   "source": [
    "fake = pd.read_csv(\"C:/AdnanData/projects/codingResources/datasets/fakenews/Fake.csv\")\n",
    "true = pd.read_csv(\"C:/AdnanData/projects/codingResources/datasets/fakenews/True.csv\")"
   ]
  },
  {
   "cell_type": "code",
   "execution_count": 73,
   "id": "70d3c6b1",
   "metadata": {
    "scrolled": false
   },
   "outputs": [
    {
     "data": {
      "text/html": [
       "<div>\n",
       "<style scoped>\n",
       "    .dataframe tbody tr th:only-of-type {\n",
       "        vertical-align: middle;\n",
       "    }\n",
       "\n",
       "    .dataframe tbody tr th {\n",
       "        vertical-align: top;\n",
       "    }\n",
       "\n",
       "    .dataframe thead th {\n",
       "        text-align: right;\n",
       "    }\n",
       "</style>\n",
       "<table border=\"1\" class=\"dataframe\">\n",
       "  <thead>\n",
       "    <tr style=\"text-align: right;\">\n",
       "      <th></th>\n",
       "      <th>title</th>\n",
       "      <th>text</th>\n",
       "      <th>subject</th>\n",
       "      <th>date</th>\n",
       "      <th>true</th>\n",
       "    </tr>\n",
       "  </thead>\n",
       "  <tbody>\n",
       "    <tr>\n",
       "      <th>0</th>\n",
       "      <td>Donald Trump Sends Out Embarrassing New Year’...</td>\n",
       "      <td>Donald Trump just couldn t wish all Americans ...</td>\n",
       "      <td>News</td>\n",
       "      <td>December 31, 2017</td>\n",
       "      <td>False</td>\n",
       "    </tr>\n",
       "    <tr>\n",
       "      <th>1</th>\n",
       "      <td>Drunk Bragging Trump Staffer Started Russian ...</td>\n",
       "      <td>House Intelligence Committee Chairman Devin Nu...</td>\n",
       "      <td>News</td>\n",
       "      <td>December 31, 2017</td>\n",
       "      <td>False</td>\n",
       "    </tr>\n",
       "    <tr>\n",
       "      <th>2</th>\n",
       "      <td>Sheriff David Clarke Becomes An Internet Joke...</td>\n",
       "      <td>On Friday, it was revealed that former Milwauk...</td>\n",
       "      <td>News</td>\n",
       "      <td>December 30, 2017</td>\n",
       "      <td>False</td>\n",
       "    </tr>\n",
       "    <tr>\n",
       "      <th>3</th>\n",
       "      <td>Trump Is So Obsessed He Even Has Obama’s Name...</td>\n",
       "      <td>On Christmas day, Donald Trump announced that ...</td>\n",
       "      <td>News</td>\n",
       "      <td>December 29, 2017</td>\n",
       "      <td>False</td>\n",
       "    </tr>\n",
       "    <tr>\n",
       "      <th>4</th>\n",
       "      <td>Pope Francis Just Called Out Donald Trump Dur...</td>\n",
       "      <td>Pope Francis used his annual Christmas Day mes...</td>\n",
       "      <td>News</td>\n",
       "      <td>December 25, 2017</td>\n",
       "      <td>False</td>\n",
       "    </tr>\n",
       "  </tbody>\n",
       "</table>\n",
       "</div>"
      ],
      "text/plain": [
       "                                               title  \\\n",
       "0   Donald Trump Sends Out Embarrassing New Year’...   \n",
       "1   Drunk Bragging Trump Staffer Started Russian ...   \n",
       "2   Sheriff David Clarke Becomes An Internet Joke...   \n",
       "3   Trump Is So Obsessed He Even Has Obama’s Name...   \n",
       "4   Pope Francis Just Called Out Donald Trump Dur...   \n",
       "\n",
       "                                                text subject  \\\n",
       "0  Donald Trump just couldn t wish all Americans ...    News   \n",
       "1  House Intelligence Committee Chairman Devin Nu...    News   \n",
       "2  On Friday, it was revealed that former Milwauk...    News   \n",
       "3  On Christmas day, Donald Trump announced that ...    News   \n",
       "4  Pope Francis used his annual Christmas Day mes...    News   \n",
       "\n",
       "                date   true  \n",
       "0  December 31, 2017  False  \n",
       "1  December 31, 2017  False  \n",
       "2  December 30, 2017  False  \n",
       "3  December 29, 2017  False  \n",
       "4  December 25, 2017  False  "
      ]
     },
     "metadata": {},
     "output_type": "display_data"
    },
    {
     "data": {
      "text/html": [
       "<div>\n",
       "<style scoped>\n",
       "    .dataframe tbody tr th:only-of-type {\n",
       "        vertical-align: middle;\n",
       "    }\n",
       "\n",
       "    .dataframe tbody tr th {\n",
       "        vertical-align: top;\n",
       "    }\n",
       "\n",
       "    .dataframe thead th {\n",
       "        text-align: right;\n",
       "    }\n",
       "</style>\n",
       "<table border=\"1\" class=\"dataframe\">\n",
       "  <thead>\n",
       "    <tr style=\"text-align: right;\">\n",
       "      <th></th>\n",
       "      <th>title</th>\n",
       "      <th>text</th>\n",
       "      <th>subject</th>\n",
       "      <th>date</th>\n",
       "      <th>true</th>\n",
       "    </tr>\n",
       "  </thead>\n",
       "  <tbody>\n",
       "    <tr>\n",
       "      <th>0</th>\n",
       "      <td>As U.S. budget fight looms, Republicans flip t...</td>\n",
       "      <td>WASHINGTON (Reuters) - The head of a conservat...</td>\n",
       "      <td>politicsNews</td>\n",
       "      <td>December 31, 2017</td>\n",
       "      <td>True</td>\n",
       "    </tr>\n",
       "    <tr>\n",
       "      <th>1</th>\n",
       "      <td>U.S. military to accept transgender recruits o...</td>\n",
       "      <td>WASHINGTON (Reuters) - Transgender people will...</td>\n",
       "      <td>politicsNews</td>\n",
       "      <td>December 29, 2017</td>\n",
       "      <td>True</td>\n",
       "    </tr>\n",
       "    <tr>\n",
       "      <th>2</th>\n",
       "      <td>Senior U.S. Republican senator: 'Let Mr. Muell...</td>\n",
       "      <td>WASHINGTON (Reuters) - The special counsel inv...</td>\n",
       "      <td>politicsNews</td>\n",
       "      <td>December 31, 2017</td>\n",
       "      <td>True</td>\n",
       "    </tr>\n",
       "    <tr>\n",
       "      <th>3</th>\n",
       "      <td>FBI Russia probe helped by Australian diplomat...</td>\n",
       "      <td>WASHINGTON (Reuters) - Trump campaign adviser ...</td>\n",
       "      <td>politicsNews</td>\n",
       "      <td>December 30, 2017</td>\n",
       "      <td>True</td>\n",
       "    </tr>\n",
       "    <tr>\n",
       "      <th>4</th>\n",
       "      <td>Trump wants Postal Service to charge 'much mor...</td>\n",
       "      <td>SEATTLE/WASHINGTON (Reuters) - President Donal...</td>\n",
       "      <td>politicsNews</td>\n",
       "      <td>December 29, 2017</td>\n",
       "      <td>True</td>\n",
       "    </tr>\n",
       "  </tbody>\n",
       "</table>\n",
       "</div>"
      ],
      "text/plain": [
       "                                               title  \\\n",
       "0  As U.S. budget fight looms, Republicans flip t...   \n",
       "1  U.S. military to accept transgender recruits o...   \n",
       "2  Senior U.S. Republican senator: 'Let Mr. Muell...   \n",
       "3  FBI Russia probe helped by Australian diplomat...   \n",
       "4  Trump wants Postal Service to charge 'much mor...   \n",
       "\n",
       "                                                text       subject  \\\n",
       "0  WASHINGTON (Reuters) - The head of a conservat...  politicsNews   \n",
       "1  WASHINGTON (Reuters) - Transgender people will...  politicsNews   \n",
       "2  WASHINGTON (Reuters) - The special counsel inv...  politicsNews   \n",
       "3  WASHINGTON (Reuters) - Trump campaign adviser ...  politicsNews   \n",
       "4  SEATTLE/WASHINGTON (Reuters) - President Donal...  politicsNews   \n",
       "\n",
       "                 date  true  \n",
       "0  December 31, 2017   True  \n",
       "1  December 29, 2017   True  \n",
       "2  December 31, 2017   True  \n",
       "3  December 30, 2017   True  \n",
       "4  December 29, 2017   True  "
      ]
     },
     "metadata": {},
     "output_type": "display_data"
    }
   ],
   "source": [
    "display(fake.head(), true.head())"
   ]
  },
  {
   "cell_type": "markdown",
   "id": "be9cdb4d",
   "metadata": {},
   "source": [
    "### Adding a column to label the fake and true news accordingly."
   ]
  },
  {
   "cell_type": "code",
   "execution_count": 5,
   "id": "c3b28b60",
   "metadata": {
    "scrolled": true
   },
   "outputs": [
    {
     "data": {
      "text/html": [
       "<div>\n",
       "<style scoped>\n",
       "    .dataframe tbody tr th:only-of-type {\n",
       "        vertical-align: middle;\n",
       "    }\n",
       "\n",
       "    .dataframe tbody tr th {\n",
       "        vertical-align: top;\n",
       "    }\n",
       "\n",
       "    .dataframe thead th {\n",
       "        text-align: right;\n",
       "    }\n",
       "</style>\n",
       "<table border=\"1\" class=\"dataframe\">\n",
       "  <thead>\n",
       "    <tr style=\"text-align: right;\">\n",
       "      <th></th>\n",
       "      <th>title</th>\n",
       "      <th>text</th>\n",
       "      <th>subject</th>\n",
       "      <th>date</th>\n",
       "      <th>true</th>\n",
       "    </tr>\n",
       "  </thead>\n",
       "  <tbody>\n",
       "    <tr>\n",
       "      <th>0</th>\n",
       "      <td>Donald Trump Sends Out Embarrassing New Year’...</td>\n",
       "      <td>Donald Trump just couldn t wish all Americans ...</td>\n",
       "      <td>News</td>\n",
       "      <td>December 31, 2017</td>\n",
       "      <td>False</td>\n",
       "    </tr>\n",
       "    <tr>\n",
       "      <th>1</th>\n",
       "      <td>Drunk Bragging Trump Staffer Started Russian ...</td>\n",
       "      <td>House Intelligence Committee Chairman Devin Nu...</td>\n",
       "      <td>News</td>\n",
       "      <td>December 31, 2017</td>\n",
       "      <td>False</td>\n",
       "    </tr>\n",
       "    <tr>\n",
       "      <th>2</th>\n",
       "      <td>Sheriff David Clarke Becomes An Internet Joke...</td>\n",
       "      <td>On Friday, it was revealed that former Milwauk...</td>\n",
       "      <td>News</td>\n",
       "      <td>December 30, 2017</td>\n",
       "      <td>False</td>\n",
       "    </tr>\n",
       "    <tr>\n",
       "      <th>3</th>\n",
       "      <td>Trump Is So Obsessed He Even Has Obama’s Name...</td>\n",
       "      <td>On Christmas day, Donald Trump announced that ...</td>\n",
       "      <td>News</td>\n",
       "      <td>December 29, 2017</td>\n",
       "      <td>False</td>\n",
       "    </tr>\n",
       "    <tr>\n",
       "      <th>4</th>\n",
       "      <td>Pope Francis Just Called Out Donald Trump Dur...</td>\n",
       "      <td>Pope Francis used his annual Christmas Day mes...</td>\n",
       "      <td>News</td>\n",
       "      <td>December 25, 2017</td>\n",
       "      <td>False</td>\n",
       "    </tr>\n",
       "  </tbody>\n",
       "</table>\n",
       "</div>"
      ],
      "text/plain": [
       "                                               title  \\\n",
       "0   Donald Trump Sends Out Embarrassing New Year’...   \n",
       "1   Drunk Bragging Trump Staffer Started Russian ...   \n",
       "2   Sheriff David Clarke Becomes An Internet Joke...   \n",
       "3   Trump Is So Obsessed He Even Has Obama’s Name...   \n",
       "4   Pope Francis Just Called Out Donald Trump Dur...   \n",
       "\n",
       "                                                text subject  \\\n",
       "0  Donald Trump just couldn t wish all Americans ...    News   \n",
       "1  House Intelligence Committee Chairman Devin Nu...    News   \n",
       "2  On Friday, it was revealed that former Milwauk...    News   \n",
       "3  On Christmas day, Donald Trump announced that ...    News   \n",
       "4  Pope Francis used his annual Christmas Day mes...    News   \n",
       "\n",
       "                date   true  \n",
       "0  December 31, 2017  False  \n",
       "1  December 31, 2017  False  \n",
       "2  December 30, 2017  False  \n",
       "3  December 29, 2017  False  \n",
       "4  December 25, 2017  False  "
      ]
     },
     "metadata": {},
     "output_type": "display_data"
    },
    {
     "data": {
      "text/html": [
       "<div>\n",
       "<style scoped>\n",
       "    .dataframe tbody tr th:only-of-type {\n",
       "        vertical-align: middle;\n",
       "    }\n",
       "\n",
       "    .dataframe tbody tr th {\n",
       "        vertical-align: top;\n",
       "    }\n",
       "\n",
       "    .dataframe thead th {\n",
       "        text-align: right;\n",
       "    }\n",
       "</style>\n",
       "<table border=\"1\" class=\"dataframe\">\n",
       "  <thead>\n",
       "    <tr style=\"text-align: right;\">\n",
       "      <th></th>\n",
       "      <th>title</th>\n",
       "      <th>text</th>\n",
       "      <th>subject</th>\n",
       "      <th>date</th>\n",
       "      <th>true</th>\n",
       "    </tr>\n",
       "  </thead>\n",
       "  <tbody>\n",
       "    <tr>\n",
       "      <th>0</th>\n",
       "      <td>As U.S. budget fight looms, Republicans flip t...</td>\n",
       "      <td>WASHINGTON (Reuters) - The head of a conservat...</td>\n",
       "      <td>politicsNews</td>\n",
       "      <td>December 31, 2017</td>\n",
       "      <td>True</td>\n",
       "    </tr>\n",
       "    <tr>\n",
       "      <th>1</th>\n",
       "      <td>U.S. military to accept transgender recruits o...</td>\n",
       "      <td>WASHINGTON (Reuters) - Transgender people will...</td>\n",
       "      <td>politicsNews</td>\n",
       "      <td>December 29, 2017</td>\n",
       "      <td>True</td>\n",
       "    </tr>\n",
       "    <tr>\n",
       "      <th>2</th>\n",
       "      <td>Senior U.S. Republican senator: 'Let Mr. Muell...</td>\n",
       "      <td>WASHINGTON (Reuters) - The special counsel inv...</td>\n",
       "      <td>politicsNews</td>\n",
       "      <td>December 31, 2017</td>\n",
       "      <td>True</td>\n",
       "    </tr>\n",
       "    <tr>\n",
       "      <th>3</th>\n",
       "      <td>FBI Russia probe helped by Australian diplomat...</td>\n",
       "      <td>WASHINGTON (Reuters) - Trump campaign adviser ...</td>\n",
       "      <td>politicsNews</td>\n",
       "      <td>December 30, 2017</td>\n",
       "      <td>True</td>\n",
       "    </tr>\n",
       "    <tr>\n",
       "      <th>4</th>\n",
       "      <td>Trump wants Postal Service to charge 'much mor...</td>\n",
       "      <td>SEATTLE/WASHINGTON (Reuters) - President Donal...</td>\n",
       "      <td>politicsNews</td>\n",
       "      <td>December 29, 2017</td>\n",
       "      <td>True</td>\n",
       "    </tr>\n",
       "  </tbody>\n",
       "</table>\n",
       "</div>"
      ],
      "text/plain": [
       "                                               title  \\\n",
       "0  As U.S. budget fight looms, Republicans flip t...   \n",
       "1  U.S. military to accept transgender recruits o...   \n",
       "2  Senior U.S. Republican senator: 'Let Mr. Muell...   \n",
       "3  FBI Russia probe helped by Australian diplomat...   \n",
       "4  Trump wants Postal Service to charge 'much mor...   \n",
       "\n",
       "                                                text       subject  \\\n",
       "0  WASHINGTON (Reuters) - The head of a conservat...  politicsNews   \n",
       "1  WASHINGTON (Reuters) - Transgender people will...  politicsNews   \n",
       "2  WASHINGTON (Reuters) - The special counsel inv...  politicsNews   \n",
       "3  WASHINGTON (Reuters) - Trump campaign adviser ...  politicsNews   \n",
       "4  SEATTLE/WASHINGTON (Reuters) - President Donal...  politicsNews   \n",
       "\n",
       "                 date  true  \n",
       "0  December 31, 2017   True  \n",
       "1  December 29, 2017   True  \n",
       "2  December 31, 2017   True  \n",
       "3  December 30, 2017   True  \n",
       "4  December 29, 2017   True  "
      ]
     },
     "metadata": {},
     "output_type": "display_data"
    }
   ],
   "source": [
    "fake['true'] = 0\n",
    "fake['true'] = fake['true'].astype(bool)\n",
    "true['true'] = 1\n",
    "true['true'] = true['true'].astype(bool)\n",
    "display(fake.head(), true.head())"
   ]
  },
  {
   "cell_type": "markdown",
   "id": "48e8b570",
   "metadata": {},
   "source": [
    "Adding labels for true and false news so that we can concatinate the dataset and still be able to identify the true and fake news."
   ]
  },
  {
   "cell_type": "markdown",
   "id": "d0a88b8b",
   "metadata": {},
   "source": [
    "### Concatinating the two datasets to create a single dataset."
   ]
  },
  {
   "cell_type": "code",
   "execution_count": 6,
   "id": "a37f2a4b",
   "metadata": {
    "scrolled": false
   },
   "outputs": [
    {
     "data": {
      "text/html": [
       "<div>\n",
       "<style scoped>\n",
       "    .dataframe tbody tr th:only-of-type {\n",
       "        vertical-align: middle;\n",
       "    }\n",
       "\n",
       "    .dataframe tbody tr th {\n",
       "        vertical-align: top;\n",
       "    }\n",
       "\n",
       "    .dataframe thead th {\n",
       "        text-align: right;\n",
       "    }\n",
       "</style>\n",
       "<table border=\"1\" class=\"dataframe\">\n",
       "  <thead>\n",
       "    <tr style=\"text-align: right;\">\n",
       "      <th></th>\n",
       "      <th>title</th>\n",
       "      <th>text</th>\n",
       "      <th>subject</th>\n",
       "      <th>date</th>\n",
       "      <th>true</th>\n",
       "    </tr>\n",
       "  </thead>\n",
       "  <tbody>\n",
       "    <tr>\n",
       "      <th>0</th>\n",
       "      <td>Donald Trump Sends Out Embarrassing New Year’...</td>\n",
       "      <td>Donald Trump just couldn t wish all Americans ...</td>\n",
       "      <td>News</td>\n",
       "      <td>December 31, 2017</td>\n",
       "      <td>False</td>\n",
       "    </tr>\n",
       "    <tr>\n",
       "      <th>1</th>\n",
       "      <td>Drunk Bragging Trump Staffer Started Russian ...</td>\n",
       "      <td>House Intelligence Committee Chairman Devin Nu...</td>\n",
       "      <td>News</td>\n",
       "      <td>December 31, 2017</td>\n",
       "      <td>False</td>\n",
       "    </tr>\n",
       "    <tr>\n",
       "      <th>2</th>\n",
       "      <td>Sheriff David Clarke Becomes An Internet Joke...</td>\n",
       "      <td>On Friday, it was revealed that former Milwauk...</td>\n",
       "      <td>News</td>\n",
       "      <td>December 30, 2017</td>\n",
       "      <td>False</td>\n",
       "    </tr>\n",
       "    <tr>\n",
       "      <th>3</th>\n",
       "      <td>Trump Is So Obsessed He Even Has Obama’s Name...</td>\n",
       "      <td>On Christmas day, Donald Trump announced that ...</td>\n",
       "      <td>News</td>\n",
       "      <td>December 29, 2017</td>\n",
       "      <td>False</td>\n",
       "    </tr>\n",
       "    <tr>\n",
       "      <th>4</th>\n",
       "      <td>Pope Francis Just Called Out Donald Trump Dur...</td>\n",
       "      <td>Pope Francis used his annual Christmas Day mes...</td>\n",
       "      <td>News</td>\n",
       "      <td>December 25, 2017</td>\n",
       "      <td>False</td>\n",
       "    </tr>\n",
       "  </tbody>\n",
       "</table>\n",
       "</div>"
      ],
      "text/plain": [
       "                                               title  \\\n",
       "0   Donald Trump Sends Out Embarrassing New Year’...   \n",
       "1   Drunk Bragging Trump Staffer Started Russian ...   \n",
       "2   Sheriff David Clarke Becomes An Internet Joke...   \n",
       "3   Trump Is So Obsessed He Even Has Obama’s Name...   \n",
       "4   Pope Francis Just Called Out Donald Trump Dur...   \n",
       "\n",
       "                                                text subject  \\\n",
       "0  Donald Trump just couldn t wish all Americans ...    News   \n",
       "1  House Intelligence Committee Chairman Devin Nu...    News   \n",
       "2  On Friday, it was revealed that former Milwauk...    News   \n",
       "3  On Christmas day, Donald Trump announced that ...    News   \n",
       "4  Pope Francis used his annual Christmas Day mes...    News   \n",
       "\n",
       "                date   true  \n",
       "0  December 31, 2017  False  \n",
       "1  December 31, 2017  False  \n",
       "2  December 30, 2017  False  \n",
       "3  December 29, 2017  False  \n",
       "4  December 25, 2017  False  "
      ]
     },
     "execution_count": 6,
     "metadata": {},
     "output_type": "execute_result"
    }
   ],
   "source": [
    "news = pd.concat([fake, true], ignore_index=True)\n",
    "news.head()"
   ]
  },
  {
   "cell_type": "markdown",
   "id": "dfc934ed",
   "metadata": {},
   "source": [
    "### Shuffling the order of the rows for diversity in future data splits."
   ]
  },
  {
   "cell_type": "code",
   "execution_count": 7,
   "id": "e0c19308",
   "metadata": {
    "scrolled": false
   },
   "outputs": [
    {
     "data": {
      "text/html": [
       "<div>\n",
       "<style scoped>\n",
       "    .dataframe tbody tr th:only-of-type {\n",
       "        vertical-align: middle;\n",
       "    }\n",
       "\n",
       "    .dataframe tbody tr th {\n",
       "        vertical-align: top;\n",
       "    }\n",
       "\n",
       "    .dataframe thead th {\n",
       "        text-align: right;\n",
       "    }\n",
       "</style>\n",
       "<table border=\"1\" class=\"dataframe\">\n",
       "  <thead>\n",
       "    <tr style=\"text-align: right;\">\n",
       "      <th></th>\n",
       "      <th>title</th>\n",
       "      <th>text</th>\n",
       "      <th>subject</th>\n",
       "      <th>date</th>\n",
       "      <th>true</th>\n",
       "    </tr>\n",
       "  </thead>\n",
       "  <tbody>\n",
       "    <tr>\n",
       "      <th>0</th>\n",
       "      <td>Ben Stein Calls Out 9th Circuit Court: Committ...</td>\n",
       "      <td>21st Century Wire says Ben Stein, reputable pr...</td>\n",
       "      <td>US_News</td>\n",
       "      <td>February 13, 2017</td>\n",
       "      <td>False</td>\n",
       "    </tr>\n",
       "    <tr>\n",
       "      <th>1</th>\n",
       "      <td>Trump drops Steve Bannon from National Securit...</td>\n",
       "      <td>WASHINGTON (Reuters) - U.S. President Donald T...</td>\n",
       "      <td>politicsNews</td>\n",
       "      <td>April 5, 2017</td>\n",
       "      <td>True</td>\n",
       "    </tr>\n",
       "    <tr>\n",
       "      <th>2</th>\n",
       "      <td>Puerto Rico expects U.S. to lift Jones Act shi...</td>\n",
       "      <td>(Reuters) - Puerto Rico Governor Ricardo Rosse...</td>\n",
       "      <td>politicsNews</td>\n",
       "      <td>September 27, 2017</td>\n",
       "      <td>True</td>\n",
       "    </tr>\n",
       "    <tr>\n",
       "      <th>3</th>\n",
       "      <td>OOPS: Trump Just Accidentally Confirmed He Le...</td>\n",
       "      <td>On Monday, Donald Trump once again embarrassed...</td>\n",
       "      <td>News</td>\n",
       "      <td>May 22, 2017</td>\n",
       "      <td>False</td>\n",
       "    </tr>\n",
       "    <tr>\n",
       "      <th>4</th>\n",
       "      <td>Donald Trump heads for Scotland to reopen a go...</td>\n",
       "      <td>GLASGOW, Scotland (Reuters) - Most U.S. presid...</td>\n",
       "      <td>politicsNews</td>\n",
       "      <td>June 24, 2016</td>\n",
       "      <td>True</td>\n",
       "    </tr>\n",
       "    <tr>\n",
       "      <th>5</th>\n",
       "      <td>Paul Ryan Responds To Dem’s Sit-In On Gun Con...</td>\n",
       "      <td>On Wednesday, Democrats took a powerful stance...</td>\n",
       "      <td>News</td>\n",
       "      <td>June 22, 2016</td>\n",
       "      <td>False</td>\n",
       "    </tr>\n",
       "    <tr>\n",
       "      <th>6</th>\n",
       "      <td>AWESOME! DIAMOND AND SILK Rip Into The Press: ...</td>\n",
       "      <td>President Trump s rally in FL on Saturday was ...</td>\n",
       "      <td>Government News</td>\n",
       "      <td>Feb 19, 2017</td>\n",
       "      <td>False</td>\n",
       "    </tr>\n",
       "    <tr>\n",
       "      <th>7</th>\n",
       "      <td>STAND UP AND CHEER! UKIP Party Leader SLAMS Ge...</td>\n",
       "      <td>He s been Europe s version of the outspoken Te...</td>\n",
       "      <td>left-news</td>\n",
       "      <td>Mar 8, 2016</td>\n",
       "      <td>False</td>\n",
       "    </tr>\n",
       "    <tr>\n",
       "      <th>8</th>\n",
       "      <td>North Korea shows no sign it is serious about ...</td>\n",
       "      <td>WASHINGTON (Reuters) - The State Department sa...</td>\n",
       "      <td>worldnews</td>\n",
       "      <td>December 13, 2017</td>\n",
       "      <td>True</td>\n",
       "    </tr>\n",
       "    <tr>\n",
       "      <th>9</th>\n",
       "      <td>Trump signals willingness to raise U.S. minimu...</td>\n",
       "      <td>(This version of the story corrects the figur...</td>\n",
       "      <td>politicsNews</td>\n",
       "      <td>May 4, 2016</td>\n",
       "      <td>True</td>\n",
       "    </tr>\n",
       "  </tbody>\n",
       "</table>\n",
       "</div>"
      ],
      "text/plain": [
       "                                               title  \\\n",
       "0  Ben Stein Calls Out 9th Circuit Court: Committ...   \n",
       "1  Trump drops Steve Bannon from National Securit...   \n",
       "2  Puerto Rico expects U.S. to lift Jones Act shi...   \n",
       "3   OOPS: Trump Just Accidentally Confirmed He Le...   \n",
       "4  Donald Trump heads for Scotland to reopen a go...   \n",
       "5   Paul Ryan Responds To Dem’s Sit-In On Gun Con...   \n",
       "6  AWESOME! DIAMOND AND SILK Rip Into The Press: ...   \n",
       "7  STAND UP AND CHEER! UKIP Party Leader SLAMS Ge...   \n",
       "8  North Korea shows no sign it is serious about ...   \n",
       "9  Trump signals willingness to raise U.S. minimu...   \n",
       "\n",
       "                                                text          subject  \\\n",
       "0  21st Century Wire says Ben Stein, reputable pr...          US_News   \n",
       "1  WASHINGTON (Reuters) - U.S. President Donald T...     politicsNews   \n",
       "2  (Reuters) - Puerto Rico Governor Ricardo Rosse...     politicsNews   \n",
       "3  On Monday, Donald Trump once again embarrassed...             News   \n",
       "4  GLASGOW, Scotland (Reuters) - Most U.S. presid...     politicsNews   \n",
       "5  On Wednesday, Democrats took a powerful stance...             News   \n",
       "6  President Trump s rally in FL on Saturday was ...  Government News   \n",
       "7  He s been Europe s version of the outspoken Te...        left-news   \n",
       "8  WASHINGTON (Reuters) - The State Department sa...        worldnews   \n",
       "9   (This version of the story corrects the figur...     politicsNews   \n",
       "\n",
       "                  date   true  \n",
       "0    February 13, 2017  False  \n",
       "1       April 5, 2017    True  \n",
       "2  September 27, 2017    True  \n",
       "3         May 22, 2017  False  \n",
       "4       June 24, 2016    True  \n",
       "5        June 22, 2016  False  \n",
       "6         Feb 19, 2017  False  \n",
       "7          Mar 8, 2016  False  \n",
       "8   December 13, 2017    True  \n",
       "9         May 4, 2016    True  "
      ]
     },
     "execution_count": 7,
     "metadata": {},
     "output_type": "execute_result"
    }
   ],
   "source": [
    "news = news.sample(frac = 1, random_state = 42).reset_index(drop=True)\n",
    "news.head(10)"
   ]
  },
  {
   "cell_type": "markdown",
   "id": "e6aa12fa",
   "metadata": {},
   "source": [
    "frac=1 to select all the rows and using the random state 42 to shuffle the entries. And then using the reset_index, the index is reset to reflect the change in order."
   ]
  },
  {
   "cell_type": "markdown",
   "id": "7425b64b",
   "metadata": {},
   "source": [
    "### Removing not required features"
   ]
  },
  {
   "cell_type": "code",
   "execution_count": 8,
   "id": "f7c36c62",
   "metadata": {},
   "outputs": [
    {
     "data": {
      "text/plain": [
       "Index(['title', 'text', 'true'], dtype='object')"
      ]
     },
     "execution_count": 8,
     "metadata": {},
     "output_type": "execute_result"
    }
   ],
   "source": [
    "news = news.drop(columns=['subject', 'date'])\n",
    "news.columns"
   ]
  },
  {
   "cell_type": "markdown",
   "id": "28d4bfd1",
   "metadata": {},
   "source": [
    "As subject and date will not help us in classifying fake and true news we remove the features."
   ]
  },
  {
   "cell_type": "markdown",
   "id": "6750b564",
   "metadata": {},
   "source": [
    "### Removing Empty Values"
   ]
  },
  {
   "cell_type": "code",
   "execution_count": 9,
   "id": "c5b4ff04",
   "metadata": {},
   "outputs": [],
   "source": [
    "newstemp = news.copy()"
   ]
  },
  {
   "cell_type": "markdown",
   "id": "4e395842",
   "metadata": {},
   "source": [
    "Making a temporary copy to remove duplicate values."
   ]
  },
  {
   "cell_type": "code",
   "execution_count": 10,
   "id": "e765ea49",
   "metadata": {},
   "outputs": [
    {
     "data": {
      "text/html": [
       "<div>\n",
       "<style scoped>\n",
       "    .dataframe tbody tr th:only-of-type {\n",
       "        vertical-align: middle;\n",
       "    }\n",
       "\n",
       "    .dataframe tbody tr th {\n",
       "        vertical-align: top;\n",
       "    }\n",
       "\n",
       "    .dataframe thead th {\n",
       "        text-align: right;\n",
       "    }\n",
       "</style>\n",
       "<table border=\"1\" class=\"dataframe\">\n",
       "  <thead>\n",
       "    <tr style=\"text-align: right;\">\n",
       "      <th></th>\n",
       "      <th>title</th>\n",
       "      <th>text</th>\n",
       "      <th>true</th>\n",
       "    </tr>\n",
       "  </thead>\n",
       "  <tbody>\n",
       "    <tr>\n",
       "      <th>0</th>\n",
       "      <td>BenSteinCallsOut9thCircuitCourtCommittedaCoupd...</td>\n",
       "      <td>21stCenturyWiresaysBenSteinreputableprofessorf...</td>\n",
       "      <td>False</td>\n",
       "    </tr>\n",
       "    <tr>\n",
       "      <th>1</th>\n",
       "      <td>TrumpdropsSteveBannonfromNationalSecurityCouncil</td>\n",
       "      <td>WASHINGTONReutersUSPresidentDonaldTrumpremoved...</td>\n",
       "      <td>True</td>\n",
       "    </tr>\n",
       "    <tr>\n",
       "      <th>2</th>\n",
       "      <td>PuertoRicoexpectsUStoliftJonesActshippingrestr...</td>\n",
       "      <td>ReutersPuertoRicoGovernorRicardoRossellosaidon...</td>\n",
       "      <td>True</td>\n",
       "    </tr>\n",
       "    <tr>\n",
       "      <th>3</th>\n",
       "      <td>OOPSTrumpJustAccidentallyConfirmedHeLeakedIsra...</td>\n",
       "      <td>OnMondayDonaldTrumponceagainembarrassedhimself...</td>\n",
       "      <td>False</td>\n",
       "    </tr>\n",
       "    <tr>\n",
       "      <th>4</th>\n",
       "      <td>DonaldTrumpheadsforScotlandtoreopenagolfresort</td>\n",
       "      <td>GLASGOWScotlandReutersMostUSpresidentialcandid...</td>\n",
       "      <td>True</td>\n",
       "    </tr>\n",
       "  </tbody>\n",
       "</table>\n",
       "</div>"
      ],
      "text/plain": [
       "                                               title  \\\n",
       "0  BenSteinCallsOut9thCircuitCourtCommittedaCoupd...   \n",
       "1   TrumpdropsSteveBannonfromNationalSecurityCouncil   \n",
       "2  PuertoRicoexpectsUStoliftJonesActshippingrestr...   \n",
       "3  OOPSTrumpJustAccidentallyConfirmedHeLeakedIsra...   \n",
       "4     DonaldTrumpheadsforScotlandtoreopenagolfresort   \n",
       "\n",
       "                                                text   true  \n",
       "0  21stCenturyWiresaysBenSteinreputableprofessorf...  False  \n",
       "1  WASHINGTONReutersUSPresidentDonaldTrumpremoved...   True  \n",
       "2  ReutersPuertoRicoGovernorRicardoRossellosaidon...   True  \n",
       "3  OnMondayDonaldTrumponceagainembarrassedhimself...  False  \n",
       "4  GLASGOWScotlandReutersMostUSpresidentialcandid...   True  "
      ]
     },
     "execution_count": 10,
     "metadata": {},
     "output_type": "execute_result"
    }
   ],
   "source": [
    "import re\n",
    "\n",
    "#remove punctuations, whitespaces and leading and trailing whitespaces\n",
    "newstemp['text'] = newstemp['text'].apply(lambda x: re.sub(r'\\s+', '', re.sub(r'[^\\w\\s]', '', x)).strip())\n",
    "newstemp['title'] = newstemp['title'].apply(lambda x: re.sub(r'\\s+', '', re.sub(r'[^\\w\\s]', '', x)).strip())\n",
    "newstemp.head()"
   ]
  },
  {
   "cell_type": "markdown",
   "id": "9a50eb68",
   "metadata": {},
   "source": [
    "We use the re (support for regex) module to remove symbols and whitespaces. ^\\w for characters that are not word character and \\s for chracters that are symbols such as ''', '_' etc and replace them with ''. Then we use strip to remove leading and trailing whitespaces. Furthermore we use \\s+ and replace it with '' for removing ALL whitespaces in the text after the symbols are removed.\n"
   ]
  },
  {
   "cell_type": "code",
   "execution_count": 11,
   "id": "49ef59ff",
   "metadata": {
    "scrolled": true
   },
   "outputs": [
    {
     "data": {
      "text/plain": [
       "title    0\n",
       "text     0\n",
       "true     0\n",
       "dtype: int64"
      ]
     },
     "execution_count": 11,
     "metadata": {},
     "output_type": "execute_result"
    }
   ],
   "source": [
    "newstemp.isna().sum()"
   ]
  },
  {
   "cell_type": "code",
   "execution_count": 12,
   "id": "eaa659d2",
   "metadata": {
    "scrolled": false
   },
   "outputs": [
    {
     "data": {
      "text/plain": [
       "title    0\n",
       "text     0\n",
       "true     0\n",
       "dtype: int64"
      ]
     },
     "execution_count": 12,
     "metadata": {},
     "output_type": "execute_result"
    }
   ],
   "source": [
    "newstemp.isnull().sum()"
   ]
  },
  {
   "cell_type": "code",
   "execution_count": 13,
   "id": "3cdfb06c",
   "metadata": {
    "scrolled": true
   },
   "outputs": [
    {
     "data": {
      "text/html": [
       "<div>\n",
       "<style scoped>\n",
       "    .dataframe tbody tr th:only-of-type {\n",
       "        vertical-align: middle;\n",
       "    }\n",
       "\n",
       "    .dataframe tbody tr th {\n",
       "        vertical-align: top;\n",
       "    }\n",
       "\n",
       "    .dataframe thead th {\n",
       "        text-align: right;\n",
       "    }\n",
       "</style>\n",
       "<table border=\"1\" class=\"dataframe\">\n",
       "  <thead>\n",
       "    <tr style=\"text-align: right;\">\n",
       "      <th></th>\n",
       "      <th>title</th>\n",
       "      <th>text</th>\n",
       "      <th>true</th>\n",
       "    </tr>\n",
       "  </thead>\n",
       "  <tbody>\n",
       "    <tr>\n",
       "      <th>11</th>\n",
       "      <td>WHERESHILLARYCLINTONSPOTTEDDiningAlone</td>\n",
       "      <td></td>\n",
       "      <td>False</td>\n",
       "    </tr>\n",
       "    <tr>\n",
       "      <th>41</th>\n",
       "      <td>WHOARUSHLIMBAUGHRIPSIntoRepublicansWhoDontSupp...</td>\n",
       "      <td></td>\n",
       "      <td>False</td>\n",
       "    </tr>\n",
       "    <tr>\n",
       "      <th>177</th>\n",
       "      <td>HILLARYTAKESCREDITForTheArabSpringDisasterANDS...</td>\n",
       "      <td></td>\n",
       "      <td>False</td>\n",
       "    </tr>\n",
       "    <tr>\n",
       "      <th>324</th>\n",
       "      <td>CHILLINGFOXREPORTERJAMESROSENRecountsBeingSpie...</td>\n",
       "      <td></td>\n",
       "      <td>False</td>\n",
       "    </tr>\n",
       "    <tr>\n",
       "      <th>400</th>\n",
       "      <td>LIVEFEEDINAUGURATION2017</td>\n",
       "      <td></td>\n",
       "      <td>False</td>\n",
       "    </tr>\n",
       "  </tbody>\n",
       "</table>\n",
       "</div>"
      ],
      "text/plain": [
       "                                                 title text   true\n",
       "11              WHERESHILLARYCLINTONSPOTTEDDiningAlone       False\n",
       "41   WHOARUSHLIMBAUGHRIPSIntoRepublicansWhoDontSupp...       False\n",
       "177  HILLARYTAKESCREDITForTheArabSpringDisasterANDS...       False\n",
       "324  CHILLINGFOXREPORTERJAMESROSENRecountsBeingSpie...       False\n",
       "400                           LIVEFEEDINAUGURATION2017       False"
      ]
     },
     "execution_count": 13,
     "metadata": {},
     "output_type": "execute_result"
    }
   ],
   "source": [
    "newstemp[newstemp['text'] == ''].head()"
   ]
  },
  {
   "cell_type": "markdown",
   "id": "9d570402",
   "metadata": {},
   "source": [
    "Entries having text with this empty string have to be removed"
   ]
  },
  {
   "cell_type": "code",
   "execution_count": 14,
   "id": "427cc878",
   "metadata": {
    "scrolled": false
   },
   "outputs": [
    {
     "data": {
      "text/html": [
       "<div>\n",
       "<style scoped>\n",
       "    .dataframe tbody tr th:only-of-type {\n",
       "        vertical-align: middle;\n",
       "    }\n",
       "\n",
       "    .dataframe tbody tr th {\n",
       "        vertical-align: top;\n",
       "    }\n",
       "\n",
       "    .dataframe thead th {\n",
       "        text-align: right;\n",
       "    }\n",
       "</style>\n",
       "<table border=\"1\" class=\"dataframe\">\n",
       "  <thead>\n",
       "    <tr style=\"text-align: right;\">\n",
       "      <th></th>\n",
       "      <th>title</th>\n",
       "      <th>text</th>\n",
       "      <th>true</th>\n",
       "    </tr>\n",
       "  </thead>\n",
       "  <tbody>\n",
       "  </tbody>\n",
       "</table>\n",
       "</div>"
      ],
      "text/plain": [
       "Empty DataFrame\n",
       "Columns: [title, text, true]\n",
       "Index: []"
      ]
     },
     "execution_count": 14,
     "metadata": {},
     "output_type": "execute_result"
    }
   ],
   "source": [
    "newstemp = newstemp[newstemp['text'] != '']\n",
    "newstemp[newstemp['text'] == '']"
   ]
  },
  {
   "cell_type": "code",
   "execution_count": 15,
   "id": "ba014b12",
   "metadata": {
    "scrolled": false
   },
   "outputs": [
    {
     "data": {
      "text/html": [
       "<div>\n",
       "<style scoped>\n",
       "    .dataframe tbody tr th:only-of-type {\n",
       "        vertical-align: middle;\n",
       "    }\n",
       "\n",
       "    .dataframe tbody tr th {\n",
       "        vertical-align: top;\n",
       "    }\n",
       "\n",
       "    .dataframe thead th {\n",
       "        text-align: right;\n",
       "    }\n",
       "</style>\n",
       "<table border=\"1\" class=\"dataframe\">\n",
       "  <thead>\n",
       "    <tr style=\"text-align: right;\">\n",
       "      <th></th>\n",
       "      <th>title</th>\n",
       "      <th>text</th>\n",
       "      <th>true</th>\n",
       "    </tr>\n",
       "  </thead>\n",
       "  <tbody>\n",
       "  </tbody>\n",
       "</table>\n",
       "</div>"
      ],
      "text/plain": [
       "Empty DataFrame\n",
       "Columns: [title, text, true]\n",
       "Index: []"
      ]
     },
     "execution_count": 15,
     "metadata": {},
     "output_type": "execute_result"
    }
   ],
   "source": [
    "newstemp[newstemp['title'] == (' ', '')]"
   ]
  },
  {
   "cell_type": "markdown",
   "id": "288aa793",
   "metadata": {},
   "source": [
    "We have successfully removed any empty/null/na values."
   ]
  },
  {
   "cell_type": "markdown",
   "id": "e92ea6fa",
   "metadata": {},
   "source": [
    "### Checking and Cleaning Duplicate Values"
   ]
  },
  {
   "cell_type": "code",
   "execution_count": 16,
   "id": "0983c498",
   "metadata": {},
   "outputs": [],
   "source": [
    "newstemp[['title', 'text']] = newstemp[['title', 'text']].applymap(lambda x: x.lower())"
   ]
  },
  {
   "cell_type": "code",
   "execution_count": 17,
   "id": "63f0ee1b",
   "metadata": {
    "scrolled": true
   },
   "outputs": [
    {
     "data": {
      "text/plain": [
       "5881"
      ]
     },
     "execution_count": 17,
     "metadata": {},
     "output_type": "execute_result"
    }
   ],
   "source": [
    "newstemp.duplicated().sum()"
   ]
  },
  {
   "cell_type": "code",
   "execution_count": 18,
   "id": "76b018cb",
   "metadata": {
    "scrolled": false
   },
   "outputs": [
    {
     "data": {
      "text/plain": [
       "0"
      ]
     },
     "execution_count": 18,
     "metadata": {},
     "output_type": "execute_result"
    }
   ],
   "source": [
    "newstemp = newstemp.drop_duplicates()\n",
    "newstemp.duplicated().sum()"
   ]
  },
  {
   "cell_type": "code",
   "execution_count": 19,
   "id": "b87ef84e",
   "metadata": {},
   "outputs": [
    {
     "data": {
      "text/plain": [
       "(38386, 3)"
      ]
     },
     "execution_count": 19,
     "metadata": {},
     "output_type": "execute_result"
    }
   ],
   "source": [
    "newstemp.shape"
   ]
  },
  {
   "cell_type": "code",
   "execution_count": 20,
   "id": "22080e6f",
   "metadata": {},
   "outputs": [
    {
     "data": {
      "text/plain": [
       "18"
      ]
     },
     "execution_count": 20,
     "metadata": {},
     "output_type": "execute_result"
    }
   ],
   "source": [
    "newstemp['text'].duplicated().sum()"
   ]
  },
  {
   "cell_type": "markdown",
   "id": "29d645a0",
   "metadata": {},
   "source": [
    "Even though we dropped all duplicate rows, there are some rows which may have different values for other columns but have the same value for text. Hence, we have to check how similiar these entries are."
   ]
  },
  {
   "cell_type": "code",
   "execution_count": 21,
   "id": "e92c62a9",
   "metadata": {},
   "outputs": [
    {
     "data": {
      "text/html": [
       "<div>\n",
       "<style scoped>\n",
       "    .dataframe tbody tr th:only-of-type {\n",
       "        vertical-align: middle;\n",
       "    }\n",
       "\n",
       "    .dataframe tbody tr th {\n",
       "        vertical-align: top;\n",
       "    }\n",
       "\n",
       "    .dataframe thead th {\n",
       "        text-align: right;\n",
       "    }\n",
       "</style>\n",
       "<table border=\"1\" class=\"dataframe\">\n",
       "  <thead>\n",
       "    <tr style=\"text-align: right;\">\n",
       "      <th></th>\n",
       "      <th>title</th>\n",
       "      <th>text</th>\n",
       "      <th>true</th>\n",
       "    </tr>\n",
       "  </thead>\n",
       "  <tbody>\n",
       "    <tr>\n",
       "      <th>4143</th>\n",
       "      <td>whoanewdisturbingvideoshowshillaryscampaignlik...</td>\n",
       "      <td>onseptember15hillaryapparentlyheldarallyintheo...</td>\n",
       "      <td>False</td>\n",
       "    </tr>\n",
       "  </tbody>\n",
       "</table>\n",
       "</div>"
      ],
      "text/plain": [
       "                                                  title  \\\n",
       "4143  whoanewdisturbingvideoshowshillaryscampaignlik...   \n",
       "\n",
       "                                                   text   true  \n",
       "4143  onseptember15hillaryapparentlyheldarallyintheo...  False  "
      ]
     },
     "execution_count": 21,
     "metadata": {},
     "output_type": "execute_result"
    }
   ],
   "source": [
    "newstemp[newstemp['text'].duplicated()].head(1)"
   ]
  },
  {
   "cell_type": "code",
   "execution_count": 22,
   "id": "e1664f65",
   "metadata": {},
   "outputs": [
    {
     "data": {
      "text/html": [
       "<div>\n",
       "<style scoped>\n",
       "    .dataframe tbody tr th:only-of-type {\n",
       "        vertical-align: middle;\n",
       "    }\n",
       "\n",
       "    .dataframe tbody tr th {\n",
       "        vertical-align: top;\n",
       "    }\n",
       "\n",
       "    .dataframe thead th {\n",
       "        text-align: right;\n",
       "    }\n",
       "</style>\n",
       "<table border=\"1\" class=\"dataframe\">\n",
       "  <thead>\n",
       "    <tr style=\"text-align: right;\">\n",
       "      <th></th>\n",
       "      <th>title</th>\n",
       "      <th>text</th>\n",
       "      <th>true</th>\n",
       "    </tr>\n",
       "  </thead>\n",
       "  <tbody>\n",
       "    <tr>\n",
       "      <th>189</th>\n",
       "      <td>disturbingvideoshowshillaryscampaignlikelyfake...</td>\n",
       "      <td>onseptember15hillaryapparentlyheldarallyintheo...</td>\n",
       "      <td>False</td>\n",
       "    </tr>\n",
       "    <tr>\n",
       "      <th>4143</th>\n",
       "      <td>whoanewdisturbingvideoshowshillaryscampaignlik...</td>\n",
       "      <td>onseptember15hillaryapparentlyheldarallyintheo...</td>\n",
       "      <td>False</td>\n",
       "    </tr>\n",
       "  </tbody>\n",
       "</table>\n",
       "</div>"
      ],
      "text/plain": [
       "                                                  title  \\\n",
       "189   disturbingvideoshowshillaryscampaignlikelyfake...   \n",
       "4143  whoanewdisturbingvideoshowshillaryscampaignlik...   \n",
       "\n",
       "                                                   text   true  \n",
       "189   onseptember15hillaryapparentlyheldarallyintheo...  False  \n",
       "4143  onseptember15hillaryapparentlyheldarallyintheo...  False  "
      ]
     },
     "execution_count": 22,
     "metadata": {},
     "output_type": "execute_result"
    }
   ],
   "source": [
    "newstemp[newstemp.text == newstemp.loc[4143, 'text']]"
   ]
  },
  {
   "cell_type": "markdown",
   "id": "68090503",
   "metadata": {},
   "source": [
    "Here some news have the same content but a different headline. We have to remove such duplicates as well."
   ]
  },
  {
   "cell_type": "code",
   "execution_count": 23,
   "id": "67864cf5",
   "metadata": {},
   "outputs": [
    {
     "data": {
      "text/plain": [
       "0"
      ]
     },
     "execution_count": 23,
     "metadata": {},
     "output_type": "execute_result"
    }
   ],
   "source": [
    "newstemp = newstemp.drop_duplicates(subset=['text'])\n",
    "newstemp.text.duplicated().sum()"
   ]
  },
  {
   "cell_type": "code",
   "execution_count": 24,
   "id": "433d11a8",
   "metadata": {},
   "outputs": [
    {
     "data": {
      "text/plain": [
       "113"
      ]
     },
     "execution_count": 24,
     "metadata": {},
     "output_type": "execute_result"
    }
   ],
   "source": [
    "newstemp.title.duplicated().sum()"
   ]
  },
  {
   "cell_type": "markdown",
   "id": "cb257a39",
   "metadata": {},
   "source": [
    "Similarly we check for the title column."
   ]
  },
  {
   "cell_type": "code",
   "execution_count": 25,
   "id": "05f36dd0",
   "metadata": {},
   "outputs": [
    {
     "data": {
      "text/html": [
       "<div>\n",
       "<style scoped>\n",
       "    .dataframe tbody tr th:only-of-type {\n",
       "        vertical-align: middle;\n",
       "    }\n",
       "\n",
       "    .dataframe tbody tr th {\n",
       "        vertical-align: top;\n",
       "    }\n",
       "\n",
       "    .dataframe thead th {\n",
       "        text-align: right;\n",
       "    }\n",
       "</style>\n",
       "<table border=\"1\" class=\"dataframe\">\n",
       "  <thead>\n",
       "    <tr style=\"text-align: right;\">\n",
       "      <th></th>\n",
       "      <th>title</th>\n",
       "      <th>text</th>\n",
       "      <th>true</th>\n",
       "    </tr>\n",
       "  </thead>\n",
       "  <tbody>\n",
       "    <tr>\n",
       "      <th>4251</th>\n",
       "      <td>postelectionconundrumawaitsgermanysmerkel</td>\n",
       "      <td>berlinreutersbarringanupsetthemainuncertaintys...</td>\n",
       "      <td>True</td>\n",
       "    </tr>\n",
       "  </tbody>\n",
       "</table>\n",
       "</div>"
      ],
      "text/plain": [
       "                                          title  \\\n",
       "4251  postelectionconundrumawaitsgermanysmerkel   \n",
       "\n",
       "                                                   text  true  \n",
       "4251  berlinreutersbarringanupsetthemainuncertaintys...  True  "
      ]
     },
     "execution_count": 25,
     "metadata": {},
     "output_type": "execute_result"
    }
   ],
   "source": [
    "newstemp[newstemp.title.duplicated()].head(1)"
   ]
  },
  {
   "cell_type": "code",
   "execution_count": 26,
   "id": "83edba45",
   "metadata": {
    "scrolled": true
   },
   "outputs": [
    {
     "data": {
      "text/html": [
       "<div>\n",
       "<style scoped>\n",
       "    .dataframe tbody tr th:only-of-type {\n",
       "        vertical-align: middle;\n",
       "    }\n",
       "\n",
       "    .dataframe tbody tr th {\n",
       "        vertical-align: top;\n",
       "    }\n",
       "\n",
       "    .dataframe thead th {\n",
       "        text-align: right;\n",
       "    }\n",
       "</style>\n",
       "<table border=\"1\" class=\"dataframe\">\n",
       "  <thead>\n",
       "    <tr style=\"text-align: right;\">\n",
       "      <th></th>\n",
       "      <th>title</th>\n",
       "      <th>text</th>\n",
       "      <th>true</th>\n",
       "    </tr>\n",
       "  </thead>\n",
       "  <tbody>\n",
       "    <tr>\n",
       "      <th>2105</th>\n",
       "      <td>postelectionconundrumawaitsgermanysmerkel</td>\n",
       "      <td>berlinreutersbarringanupsetthemainuncertaintys...</td>\n",
       "      <td>True</td>\n",
       "    </tr>\n",
       "    <tr>\n",
       "      <th>4251</th>\n",
       "      <td>postelectionconundrumawaitsgermanysmerkel</td>\n",
       "      <td>berlinreutersbarringanupsetthemainuncertaintys...</td>\n",
       "      <td>True</td>\n",
       "    </tr>\n",
       "  </tbody>\n",
       "</table>\n",
       "</div>"
      ],
      "text/plain": [
       "                                          title  \\\n",
       "2105  postelectionconundrumawaitsgermanysmerkel   \n",
       "4251  postelectionconundrumawaitsgermanysmerkel   \n",
       "\n",
       "                                                   text  true  \n",
       "2105  berlinreutersbarringanupsetthemainuncertaintys...  True  \n",
       "4251  berlinreutersbarringanupsetthemainuncertaintys...  True  "
      ]
     },
     "execution_count": 26,
     "metadata": {},
     "output_type": "execute_result"
    }
   ],
   "source": [
    "newstemp[newstemp['title'] == newstemp.loc[4251, 'title']]"
   ]
  },
  {
   "cell_type": "markdown",
   "id": "c00e68a1",
   "metadata": {},
   "source": [
    "Here the content that is the text for both is the same but one of the text is a substring of the other with some extra words hence, we remove these entries."
   ]
  },
  {
   "cell_type": "code",
   "execution_count": 27,
   "id": "140c7e10",
   "metadata": {},
   "outputs": [
    {
     "data": {
      "text/plain": [
       "0"
      ]
     },
     "execution_count": 27,
     "metadata": {},
     "output_type": "execute_result"
    }
   ],
   "source": [
    "newstemp = newstemp.drop_duplicates(subset = ['title'])\n",
    "newstemp.title.duplicated().sum()"
   ]
  },
  {
   "cell_type": "markdown",
   "id": "9292cd8c",
   "metadata": {},
   "source": [
    "Successfully removed all duplicates from the database."
   ]
  },
  {
   "cell_type": "code",
   "execution_count": 28,
   "id": "a4c67e01",
   "metadata": {},
   "outputs": [
    {
     "data": {
      "text/html": [
       "<div>\n",
       "<style scoped>\n",
       "    .dataframe tbody tr th:only-of-type {\n",
       "        vertical-align: middle;\n",
       "    }\n",
       "\n",
       "    .dataframe tbody tr th {\n",
       "        vertical-align: top;\n",
       "    }\n",
       "\n",
       "    .dataframe thead th {\n",
       "        text-align: right;\n",
       "    }\n",
       "</style>\n",
       "<table border=\"1\" class=\"dataframe\">\n",
       "  <thead>\n",
       "    <tr style=\"text-align: right;\">\n",
       "      <th></th>\n",
       "      <th>title</th>\n",
       "      <th>text</th>\n",
       "      <th>true</th>\n",
       "    </tr>\n",
       "  </thead>\n",
       "  <tbody>\n",
       "    <tr>\n",
       "      <th>0</th>\n",
       "      <td>Ben Stein Calls Out 9th Circuit Court: Committ...</td>\n",
       "      <td>21st Century Wire says Ben Stein, reputable pr...</td>\n",
       "      <td>False</td>\n",
       "    </tr>\n",
       "    <tr>\n",
       "      <th>1</th>\n",
       "      <td>Trump drops Steve Bannon from National Securit...</td>\n",
       "      <td>WASHINGTON (Reuters) - U.S. President Donald T...</td>\n",
       "      <td>True</td>\n",
       "    </tr>\n",
       "    <tr>\n",
       "      <th>2</th>\n",
       "      <td>Puerto Rico expects U.S. to lift Jones Act shi...</td>\n",
       "      <td>(Reuters) - Puerto Rico Governor Ricardo Rosse...</td>\n",
       "      <td>True</td>\n",
       "    </tr>\n",
       "    <tr>\n",
       "      <th>3</th>\n",
       "      <td>OOPS: Trump Just Accidentally Confirmed He Le...</td>\n",
       "      <td>On Monday, Donald Trump once again embarrassed...</td>\n",
       "      <td>False</td>\n",
       "    </tr>\n",
       "    <tr>\n",
       "      <th>4</th>\n",
       "      <td>Donald Trump heads for Scotland to reopen a go...</td>\n",
       "      <td>GLASGOW, Scotland (Reuters) - Most U.S. presid...</td>\n",
       "      <td>True</td>\n",
       "    </tr>\n",
       "  </tbody>\n",
       "</table>\n",
       "</div>"
      ],
      "text/plain": [
       "                                               title  \\\n",
       "0  Ben Stein Calls Out 9th Circuit Court: Committ...   \n",
       "1  Trump drops Steve Bannon from National Securit...   \n",
       "2  Puerto Rico expects U.S. to lift Jones Act shi...   \n",
       "3   OOPS: Trump Just Accidentally Confirmed He Le...   \n",
       "4  Donald Trump heads for Scotland to reopen a go...   \n",
       "\n",
       "                                                text   true  \n",
       "0  21st Century Wire says Ben Stein, reputable pr...  False  \n",
       "1  WASHINGTON (Reuters) - U.S. President Donald T...   True  \n",
       "2  (Reuters) - Puerto Rico Governor Ricardo Rosse...   True  \n",
       "3  On Monday, Donald Trump once again embarrassed...  False  \n",
       "4  GLASGOW, Scotland (Reuters) - Most U.S. presid...   True  "
      ]
     },
     "execution_count": 28,
     "metadata": {},
     "output_type": "execute_result"
    }
   ],
   "source": [
    "indic = newstemp.index.tolist()\n",
    "news = news.loc[indic]\n",
    "news.head()"
   ]
  },
  {
   "cell_type": "markdown",
   "id": "56d090e9",
   "metadata": {},
   "source": [
    "### Removing whitespaces and symbols "
   ]
  },
  {
   "cell_type": "code",
   "execution_count": 29,
   "id": "0ad42a2b",
   "metadata": {},
   "outputs": [],
   "source": [
    "news['text'] = news['text'].apply(lambda x: re.sub(r'\\s+', ' ', re.sub(r'[^\\w\\s]', '', x.strip())))"
   ]
  },
  {
   "cell_type": "code",
   "execution_count": 30,
   "id": "4655046d",
   "metadata": {},
   "outputs": [],
   "source": [
    "news['title'] = news['title'].apply(lambda x: re.sub(r'\\s+', ' ', re.sub(r'[^\\w\\s]', '', x.strip())))"
   ]
  },
  {
   "cell_type": "markdown",
   "id": "0fdb2681",
   "metadata": {},
   "source": [
    "Again we use the re module to remove symbols and extra whitespaces. Using \\s+ and replacing it with ' ' to convert all whitespaces larger than 1 whitespace. Then use ^w\\s and replace it with '' for removing symbols and leading and trailing whitespaces."
   ]
  },
  {
   "cell_type": "code",
   "execution_count": 31,
   "id": "91c30fe6",
   "metadata": {},
   "outputs": [
    {
     "data": {
      "text/html": [
       "<div>\n",
       "<style scoped>\n",
       "    .dataframe tbody tr th:only-of-type {\n",
       "        vertical-align: middle;\n",
       "    }\n",
       "\n",
       "    .dataframe tbody tr th {\n",
       "        vertical-align: top;\n",
       "    }\n",
       "\n",
       "    .dataframe thead th {\n",
       "        text-align: right;\n",
       "    }\n",
       "</style>\n",
       "<table border=\"1\" class=\"dataframe\">\n",
       "  <thead>\n",
       "    <tr style=\"text-align: right;\">\n",
       "      <th></th>\n",
       "      <th>title</th>\n",
       "      <th>text</th>\n",
       "      <th>true</th>\n",
       "    </tr>\n",
       "  </thead>\n",
       "  <tbody>\n",
       "    <tr>\n",
       "      <th>0</th>\n",
       "      <td>Ben Stein Calls Out 9th Circuit Court Committe...</td>\n",
       "      <td>21st Century Wire says Ben Stein reputable pro...</td>\n",
       "      <td>False</td>\n",
       "    </tr>\n",
       "    <tr>\n",
       "      <th>1</th>\n",
       "      <td>Trump drops Steve Bannon from National Securit...</td>\n",
       "      <td>WASHINGTON Reuters US President Donald Trump r...</td>\n",
       "      <td>True</td>\n",
       "    </tr>\n",
       "    <tr>\n",
       "      <th>2</th>\n",
       "      <td>Puerto Rico expects US to lift Jones Act shipp...</td>\n",
       "      <td>Reuters Puerto Rico Governor Ricardo Rossello ...</td>\n",
       "      <td>True</td>\n",
       "    </tr>\n",
       "    <tr>\n",
       "      <th>3</th>\n",
       "      <td>OOPS Trump Just Accidentally Confirmed He Leak...</td>\n",
       "      <td>On Monday Donald Trump once again embarrassed ...</td>\n",
       "      <td>False</td>\n",
       "    </tr>\n",
       "    <tr>\n",
       "      <th>4</th>\n",
       "      <td>Donald Trump heads for Scotland to reopen a go...</td>\n",
       "      <td>GLASGOW Scotland Reuters Most US presidential ...</td>\n",
       "      <td>True</td>\n",
       "    </tr>\n",
       "  </tbody>\n",
       "</table>\n",
       "</div>"
      ],
      "text/plain": [
       "                                               title  \\\n",
       "0  Ben Stein Calls Out 9th Circuit Court Committe...   \n",
       "1  Trump drops Steve Bannon from National Securit...   \n",
       "2  Puerto Rico expects US to lift Jones Act shipp...   \n",
       "3  OOPS Trump Just Accidentally Confirmed He Leak...   \n",
       "4  Donald Trump heads for Scotland to reopen a go...   \n",
       "\n",
       "                                                text   true  \n",
       "0  21st Century Wire says Ben Stein reputable pro...  False  \n",
       "1  WASHINGTON Reuters US President Donald Trump r...   True  \n",
       "2  Reuters Puerto Rico Governor Ricardo Rossello ...   True  \n",
       "3  On Monday Donald Trump once again embarrassed ...  False  \n",
       "4  GLASGOW Scotland Reuters Most US presidential ...   True  "
      ]
     },
     "execution_count": 31,
     "metadata": {},
     "output_type": "execute_result"
    }
   ],
   "source": [
    "news.head()"
   ]
  },
  {
   "cell_type": "code",
   "execution_count": 32,
   "id": "338524c6",
   "metadata": {
    "scrolled": true
   },
   "outputs": [
    {
     "data": {
      "text/html": [
       "<div>\n",
       "<style scoped>\n",
       "    .dataframe tbody tr th:only-of-type {\n",
       "        vertical-align: middle;\n",
       "    }\n",
       "\n",
       "    .dataframe tbody tr th {\n",
       "        vertical-align: top;\n",
       "    }\n",
       "\n",
       "    .dataframe thead th {\n",
       "        text-align: right;\n",
       "    }\n",
       "</style>\n",
       "<table border=\"1\" class=\"dataframe\">\n",
       "  <thead>\n",
       "    <tr style=\"text-align: right;\">\n",
       "      <th></th>\n",
       "      <th>title</th>\n",
       "      <th>text</th>\n",
       "      <th>true</th>\n",
       "    </tr>\n",
       "  </thead>\n",
       "  <tbody>\n",
       "    <tr>\n",
       "      <th>0</th>\n",
       "      <td>ben stein calls out 9th circuit court committe...</td>\n",
       "      <td>21st century wire says ben stein reputable pro...</td>\n",
       "      <td>False</td>\n",
       "    </tr>\n",
       "    <tr>\n",
       "      <th>1</th>\n",
       "      <td>trump drops steve bannon from national securit...</td>\n",
       "      <td>washington reuters us president donald trump r...</td>\n",
       "      <td>True</td>\n",
       "    </tr>\n",
       "    <tr>\n",
       "      <th>2</th>\n",
       "      <td>puerto rico expects us to lift jones act shipp...</td>\n",
       "      <td>reuters puerto rico governor ricardo rossello ...</td>\n",
       "      <td>True</td>\n",
       "    </tr>\n",
       "    <tr>\n",
       "      <th>3</th>\n",
       "      <td>oops trump just accidentally confirmed he leak...</td>\n",
       "      <td>on monday donald trump once again embarrassed ...</td>\n",
       "      <td>False</td>\n",
       "    </tr>\n",
       "    <tr>\n",
       "      <th>4</th>\n",
       "      <td>donald trump heads for scotland to reopen a go...</td>\n",
       "      <td>glasgow scotland reuters most us presidential ...</td>\n",
       "      <td>True</td>\n",
       "    </tr>\n",
       "  </tbody>\n",
       "</table>\n",
       "</div>"
      ],
      "text/plain": [
       "                                               title  \\\n",
       "0  ben stein calls out 9th circuit court committe...   \n",
       "1  trump drops steve bannon from national securit...   \n",
       "2  puerto rico expects us to lift jones act shipp...   \n",
       "3  oops trump just accidentally confirmed he leak...   \n",
       "4  donald trump heads for scotland to reopen a go...   \n",
       "\n",
       "                                                text   true  \n",
       "0  21st century wire says ben stein reputable pro...  False  \n",
       "1  washington reuters us president donald trump r...   True  \n",
       "2  reuters puerto rico governor ricardo rossello ...   True  \n",
       "3  on monday donald trump once again embarrassed ...  False  \n",
       "4  glasgow scotland reuters most us presidential ...   True  "
      ]
     },
     "execution_count": 32,
     "metadata": {},
     "output_type": "execute_result"
    }
   ],
   "source": [
    "news[['title', 'text']] = news[['title', 'text']].applymap(lambda x : x.lower())\n",
    "news.head()"
   ]
  },
  {
   "cell_type": "markdown",
   "id": "bdfc397e",
   "metadata": {},
   "source": [
    "Changing the text to lowercase by taking each string and operating on it using the .lower() string function."
   ]
  },
  {
   "cell_type": "markdown",
   "id": "36155e63",
   "metadata": {},
   "source": [
    "### Tokenization"
   ]
  },
  {
   "cell_type": "code",
   "execution_count": 33,
   "id": "c916a170",
   "metadata": {},
   "outputs": [],
   "source": [
    "from nltk.tokenize import word_tokenize\n",
    "\n",
    "news_copy = news.copy()"
   ]
  },
  {
   "cell_type": "code",
   "execution_count": 34,
   "id": "e99f72f9",
   "metadata": {},
   "outputs": [
    {
     "data": {
      "text/html": [
       "<div>\n",
       "<style scoped>\n",
       "    .dataframe tbody tr th:only-of-type {\n",
       "        vertical-align: middle;\n",
       "    }\n",
       "\n",
       "    .dataframe tbody tr th {\n",
       "        vertical-align: top;\n",
       "    }\n",
       "\n",
       "    .dataframe thead th {\n",
       "        text-align: right;\n",
       "    }\n",
       "</style>\n",
       "<table border=\"1\" class=\"dataframe\">\n",
       "  <thead>\n",
       "    <tr style=\"text-align: right;\">\n",
       "      <th></th>\n",
       "      <th>title</th>\n",
       "      <th>text</th>\n",
       "      <th>true</th>\n",
       "      <th>tkn_title</th>\n",
       "      <th>tkn_text</th>\n",
       "    </tr>\n",
       "  </thead>\n",
       "  <tbody>\n",
       "    <tr>\n",
       "      <th>0</th>\n",
       "      <td>ben stein calls out 9th circuit court committe...</td>\n",
       "      <td>21st century wire says ben stein reputable pro...</td>\n",
       "      <td>False</td>\n",
       "      <td>[ben, stein, calls, out, 9th, circuit, court, ...</td>\n",
       "      <td>[21st, century, wire, says, ben, stein, reputa...</td>\n",
       "    </tr>\n",
       "    <tr>\n",
       "      <th>1</th>\n",
       "      <td>trump drops steve bannon from national securit...</td>\n",
       "      <td>washington reuters us president donald trump r...</td>\n",
       "      <td>True</td>\n",
       "      <td>[trump, drops, steve, bannon, from, national, ...</td>\n",
       "      <td>[washington, reuters, us, president, donald, t...</td>\n",
       "    </tr>\n",
       "    <tr>\n",
       "      <th>2</th>\n",
       "      <td>puerto rico expects us to lift jones act shipp...</td>\n",
       "      <td>reuters puerto rico governor ricardo rossello ...</td>\n",
       "      <td>True</td>\n",
       "      <td>[puerto, rico, expects, us, to, lift, jones, a...</td>\n",
       "      <td>[reuters, puerto, rico, governor, ricardo, ros...</td>\n",
       "    </tr>\n",
       "    <tr>\n",
       "      <th>3</th>\n",
       "      <td>oops trump just accidentally confirmed he leak...</td>\n",
       "      <td>on monday donald trump once again embarrassed ...</td>\n",
       "      <td>False</td>\n",
       "      <td>[oops, trump, just, accidentally, confirmed, h...</td>\n",
       "      <td>[on, monday, donald, trump, once, again, embar...</td>\n",
       "    </tr>\n",
       "    <tr>\n",
       "      <th>4</th>\n",
       "      <td>donald trump heads for scotland to reopen a go...</td>\n",
       "      <td>glasgow scotland reuters most us presidential ...</td>\n",
       "      <td>True</td>\n",
       "      <td>[donald, trump, heads, for, scotland, to, reop...</td>\n",
       "      <td>[glasgow, scotland, reuters, most, us, preside...</td>\n",
       "    </tr>\n",
       "  </tbody>\n",
       "</table>\n",
       "</div>"
      ],
      "text/plain": [
       "                                               title  \\\n",
       "0  ben stein calls out 9th circuit court committe...   \n",
       "1  trump drops steve bannon from national securit...   \n",
       "2  puerto rico expects us to lift jones act shipp...   \n",
       "3  oops trump just accidentally confirmed he leak...   \n",
       "4  donald trump heads for scotland to reopen a go...   \n",
       "\n",
       "                                                text   true  \\\n",
       "0  21st century wire says ben stein reputable pro...  False   \n",
       "1  washington reuters us president donald trump r...   True   \n",
       "2  reuters puerto rico governor ricardo rossello ...   True   \n",
       "3  on monday donald trump once again embarrassed ...  False   \n",
       "4  glasgow scotland reuters most us presidential ...   True   \n",
       "\n",
       "                                           tkn_title  \\\n",
       "0  [ben, stein, calls, out, 9th, circuit, court, ...   \n",
       "1  [trump, drops, steve, bannon, from, national, ...   \n",
       "2  [puerto, rico, expects, us, to, lift, jones, a...   \n",
       "3  [oops, trump, just, accidentally, confirmed, h...   \n",
       "4  [donald, trump, heads, for, scotland, to, reop...   \n",
       "\n",
       "                                            tkn_text  \n",
       "0  [21st, century, wire, says, ben, stein, reputa...  \n",
       "1  [washington, reuters, us, president, donald, t...  \n",
       "2  [reuters, puerto, rico, governor, ricardo, ros...  \n",
       "3  [on, monday, donald, trump, once, again, embar...  \n",
       "4  [glasgow, scotland, reuters, most, us, preside...  "
      ]
     },
     "execution_count": 34,
     "metadata": {},
     "output_type": "execute_result"
    }
   ],
   "source": [
    "news['tkn_title'] = news['title'].apply(word_tokenize)\n",
    "news['tkn_text'] = news['text'].apply(word_tokenize)\n",
    "news.head()"
   ]
  },
  {
   "cell_type": "markdown",
   "id": "8748a9b3",
   "metadata": {},
   "source": [
    "Applying word tokenization and storing the tokens in a new column. It splits the paragraphs into words."
   ]
  },
  {
   "cell_type": "markdown",
   "id": "43ed855f",
   "metadata": {},
   "source": [
    "### Removing Stopwords"
   ]
  },
  {
   "cell_type": "code",
   "execution_count": 35,
   "id": "8c8a61e1",
   "metadata": {},
   "outputs": [],
   "source": [
    "from nltk.corpus import stopwords\n",
    "\n",
    "stpwrds = set(stopwords.words('english')).union(set([\"the\", \"a\", \"is\", \"on\", \"in\"]))"
   ]
  },
  {
   "cell_type": "code",
   "execution_count": 36,
   "id": "91826f16",
   "metadata": {},
   "outputs": [
    {
     "data": {
      "text/html": [
       "<div>\n",
       "<style scoped>\n",
       "    .dataframe tbody tr th:only-of-type {\n",
       "        vertical-align: middle;\n",
       "    }\n",
       "\n",
       "    .dataframe tbody tr th {\n",
       "        vertical-align: top;\n",
       "    }\n",
       "\n",
       "    .dataframe thead th {\n",
       "        text-align: right;\n",
       "    }\n",
       "</style>\n",
       "<table border=\"1\" class=\"dataframe\">\n",
       "  <thead>\n",
       "    <tr style=\"text-align: right;\">\n",
       "      <th></th>\n",
       "      <th>title</th>\n",
       "      <th>text</th>\n",
       "      <th>true</th>\n",
       "      <th>tkn_title</th>\n",
       "      <th>tkn_text</th>\n",
       "    </tr>\n",
       "  </thead>\n",
       "  <tbody>\n",
       "    <tr>\n",
       "      <th>0</th>\n",
       "      <td>ben stein calls out 9th circuit court committe...</td>\n",
       "      <td>21st century wire says ben stein reputable pro...</td>\n",
       "      <td>False</td>\n",
       "      <td>[ben, stein, calls, 9th, circuit, court, commi...</td>\n",
       "      <td>[21st, century, wire, says, ben, stein, reputa...</td>\n",
       "    </tr>\n",
       "    <tr>\n",
       "      <th>1</th>\n",
       "      <td>trump drops steve bannon from national securit...</td>\n",
       "      <td>washington reuters us president donald trump r...</td>\n",
       "      <td>True</td>\n",
       "      <td>[trump, drops, steve, bannon, national, securi...</td>\n",
       "      <td>[washington, reuters, us, president, donald, t...</td>\n",
       "    </tr>\n",
       "    <tr>\n",
       "      <th>2</th>\n",
       "      <td>puerto rico expects us to lift jones act shipp...</td>\n",
       "      <td>reuters puerto rico governor ricardo rossello ...</td>\n",
       "      <td>True</td>\n",
       "      <td>[puerto, rico, expects, us, lift, jones, act, ...</td>\n",
       "      <td>[reuters, puerto, rico, governor, ricardo, ros...</td>\n",
       "    </tr>\n",
       "    <tr>\n",
       "      <th>3</th>\n",
       "      <td>oops trump just accidentally confirmed he leak...</td>\n",
       "      <td>on monday donald trump once again embarrassed ...</td>\n",
       "      <td>False</td>\n",
       "      <td>[oops, trump, accidentally, confirmed, leaked,...</td>\n",
       "      <td>[monday, donald, trump, embarrassed, country, ...</td>\n",
       "    </tr>\n",
       "    <tr>\n",
       "      <th>4</th>\n",
       "      <td>donald trump heads for scotland to reopen a go...</td>\n",
       "      <td>glasgow scotland reuters most us presidential ...</td>\n",
       "      <td>True</td>\n",
       "      <td>[donald, trump, heads, scotland, reopen, golf,...</td>\n",
       "      <td>[glasgow, scotland, reuters, us, presidential,...</td>\n",
       "    </tr>\n",
       "  </tbody>\n",
       "</table>\n",
       "</div>"
      ],
      "text/plain": [
       "                                               title  \\\n",
       "0  ben stein calls out 9th circuit court committe...   \n",
       "1  trump drops steve bannon from national securit...   \n",
       "2  puerto rico expects us to lift jones act shipp...   \n",
       "3  oops trump just accidentally confirmed he leak...   \n",
       "4  donald trump heads for scotland to reopen a go...   \n",
       "\n",
       "                                                text   true  \\\n",
       "0  21st century wire says ben stein reputable pro...  False   \n",
       "1  washington reuters us president donald trump r...   True   \n",
       "2  reuters puerto rico governor ricardo rossello ...   True   \n",
       "3  on monday donald trump once again embarrassed ...  False   \n",
       "4  glasgow scotland reuters most us presidential ...   True   \n",
       "\n",
       "                                           tkn_title  \\\n",
       "0  [ben, stein, calls, 9th, circuit, court, commi...   \n",
       "1  [trump, drops, steve, bannon, national, securi...   \n",
       "2  [puerto, rico, expects, us, lift, jones, act, ...   \n",
       "3  [oops, trump, accidentally, confirmed, leaked,...   \n",
       "4  [donald, trump, heads, scotland, reopen, golf,...   \n",
       "\n",
       "                                            tkn_text  \n",
       "0  [21st, century, wire, says, ben, stein, reputa...  \n",
       "1  [washington, reuters, us, president, donald, t...  \n",
       "2  [reuters, puerto, rico, governor, ricardo, ros...  \n",
       "3  [monday, donald, trump, embarrassed, country, ...  \n",
       "4  [glasgow, scotland, reuters, us, presidential,...  "
      ]
     },
     "execution_count": 36,
     "metadata": {},
     "output_type": "execute_result"
    }
   ],
   "source": [
    "news['tkn_title'] = news['tkn_title'].apply(lambda x: [word for word in x if word not in stpwrds])\n",
    "news['tkn_text'] = news['tkn_text'].apply(lambda x: [word for word in x if word not in stpwrds])\n",
    "news.head()"
   ]
  },
  {
   "cell_type": "markdown",
   "id": "9688e9ea",
   "metadata": {},
   "source": [
    "Removing stop words by using line comprehension and lambda function as stop words increase irrelevancy in our data."
   ]
  },
  {
   "cell_type": "markdown",
   "id": "fd350294",
   "metadata": {},
   "source": [
    "### Lemmatizing the tokenized words"
   ]
  },
  {
   "cell_type": "code",
   "execution_count": 37,
   "id": "350be878",
   "metadata": {},
   "outputs": [],
   "source": [
    "from nltk.stem import WordNetLemmatizer\n",
    "\n",
    "lemm = WordNetLemmatizer()"
   ]
  },
  {
   "cell_type": "code",
   "execution_count": 38,
   "id": "258aae97",
   "metadata": {},
   "outputs": [
    {
     "data": {
      "text/html": [
       "<div>\n",
       "<style scoped>\n",
       "    .dataframe tbody tr th:only-of-type {\n",
       "        vertical-align: middle;\n",
       "    }\n",
       "\n",
       "    .dataframe tbody tr th {\n",
       "        vertical-align: top;\n",
       "    }\n",
       "\n",
       "    .dataframe thead th {\n",
       "        text-align: right;\n",
       "    }\n",
       "</style>\n",
       "<table border=\"1\" class=\"dataframe\">\n",
       "  <thead>\n",
       "    <tr style=\"text-align: right;\">\n",
       "      <th></th>\n",
       "      <th>title</th>\n",
       "      <th>text</th>\n",
       "      <th>true</th>\n",
       "      <th>tkn_title</th>\n",
       "      <th>tkn_text</th>\n",
       "    </tr>\n",
       "  </thead>\n",
       "  <tbody>\n",
       "    <tr>\n",
       "      <th>0</th>\n",
       "      <td>ben stein calls out 9th circuit court committe...</td>\n",
       "      <td>21st century wire says ben stein reputable pro...</td>\n",
       "      <td>False</td>\n",
       "      <td>[ben, stein, call, 9th, circuit, court, commit...</td>\n",
       "      <td>[21st, century, wire, say, ben, stein, reputab...</td>\n",
       "    </tr>\n",
       "    <tr>\n",
       "      <th>1</th>\n",
       "      <td>trump drops steve bannon from national securit...</td>\n",
       "      <td>washington reuters us president donald trump r...</td>\n",
       "      <td>True</td>\n",
       "      <td>[trump, drop, steve, bannon, national, securit...</td>\n",
       "      <td>[washington, reuters, u, president, donald, tr...</td>\n",
       "    </tr>\n",
       "    <tr>\n",
       "      <th>2</th>\n",
       "      <td>puerto rico expects us to lift jones act shipp...</td>\n",
       "      <td>reuters puerto rico governor ricardo rossello ...</td>\n",
       "      <td>True</td>\n",
       "      <td>[puerto, rico, expects, u, lift, jones, act, s...</td>\n",
       "      <td>[reuters, puerto, rico, governor, ricardo, ros...</td>\n",
       "    </tr>\n",
       "    <tr>\n",
       "      <th>3</th>\n",
       "      <td>oops trump just accidentally confirmed he leak...</td>\n",
       "      <td>on monday donald trump once again embarrassed ...</td>\n",
       "      <td>False</td>\n",
       "      <td>[oops, trump, accidentally, confirmed, leaked,...</td>\n",
       "      <td>[monday, donald, trump, embarrassed, country, ...</td>\n",
       "    </tr>\n",
       "    <tr>\n",
       "      <th>4</th>\n",
       "      <td>donald trump heads for scotland to reopen a go...</td>\n",
       "      <td>glasgow scotland reuters most us presidential ...</td>\n",
       "      <td>True</td>\n",
       "      <td>[donald, trump, head, scotland, reopen, golf, ...</td>\n",
       "      <td>[glasgow, scotland, reuters, u, presidential, ...</td>\n",
       "    </tr>\n",
       "  </tbody>\n",
       "</table>\n",
       "</div>"
      ],
      "text/plain": [
       "                                               title  \\\n",
       "0  ben stein calls out 9th circuit court committe...   \n",
       "1  trump drops steve bannon from national securit...   \n",
       "2  puerto rico expects us to lift jones act shipp...   \n",
       "3  oops trump just accidentally confirmed he leak...   \n",
       "4  donald trump heads for scotland to reopen a go...   \n",
       "\n",
       "                                                text   true  \\\n",
       "0  21st century wire says ben stein reputable pro...  False   \n",
       "1  washington reuters us president donald trump r...   True   \n",
       "2  reuters puerto rico governor ricardo rossello ...   True   \n",
       "3  on monday donald trump once again embarrassed ...  False   \n",
       "4  glasgow scotland reuters most us presidential ...   True   \n",
       "\n",
       "                                           tkn_title  \\\n",
       "0  [ben, stein, call, 9th, circuit, court, commit...   \n",
       "1  [trump, drop, steve, bannon, national, securit...   \n",
       "2  [puerto, rico, expects, u, lift, jones, act, s...   \n",
       "3  [oops, trump, accidentally, confirmed, leaked,...   \n",
       "4  [donald, trump, head, scotland, reopen, golf, ...   \n",
       "\n",
       "                                            tkn_text  \n",
       "0  [21st, century, wire, say, ben, stein, reputab...  \n",
       "1  [washington, reuters, u, president, donald, tr...  \n",
       "2  [reuters, puerto, rico, governor, ricardo, ros...  \n",
       "3  [monday, donald, trump, embarrassed, country, ...  \n",
       "4  [glasgow, scotland, reuters, u, presidential, ...  "
      ]
     },
     "execution_count": 38,
     "metadata": {},
     "output_type": "execute_result"
    }
   ],
   "source": [
    "news['tkn_title'] = news['tkn_title'].apply(lambda x : [lemm.lemmatize(word) for word in x])\n",
    "news['tkn_text'] = news['tkn_text'].apply(lambda x : [lemm.lemmatize(word) for word in x])\n",
    "news.head()"
   ]
  },
  {
   "cell_type": "markdown",
   "id": "6e9c03e9",
   "metadata": {},
   "source": [
    "Lemmatizing to reduce words into their root forms. pos=\"v\" will reduce the verbs."
   ]
  },
  {
   "cell_type": "markdown",
   "id": "f5db68d7",
   "metadata": {},
   "source": [
    "### Adding additional features"
   ]
  },
  {
   "cell_type": "markdown",
   "id": "442bb1eb",
   "metadata": {},
   "source": [
    "#### What is the average word count of news articles?"
   ]
  },
  {
   "cell_type": "code",
   "execution_count": 39,
   "id": "857ec2a8",
   "metadata": {},
   "outputs": [
    {
     "data": {
      "text/html": [
       "<div>\n",
       "<style scoped>\n",
       "    .dataframe tbody tr th:only-of-type {\n",
       "        vertical-align: middle;\n",
       "    }\n",
       "\n",
       "    .dataframe tbody tr th {\n",
       "        vertical-align: top;\n",
       "    }\n",
       "\n",
       "    .dataframe thead th {\n",
       "        text-align: right;\n",
       "    }\n",
       "</style>\n",
       "<table border=\"1\" class=\"dataframe\">\n",
       "  <thead>\n",
       "    <tr style=\"text-align: right;\">\n",
       "      <th></th>\n",
       "      <th>title</th>\n",
       "      <th>text</th>\n",
       "      <th>true</th>\n",
       "      <th>tkn_title</th>\n",
       "      <th>tkn_text</th>\n",
       "      <th>wordcount</th>\n",
       "    </tr>\n",
       "  </thead>\n",
       "  <tbody>\n",
       "    <tr>\n",
       "      <th>0</th>\n",
       "      <td>ben stein calls out 9th circuit court committe...</td>\n",
       "      <td>21st century wire says ben stein reputable pro...</td>\n",
       "      <td>False</td>\n",
       "      <td>[ben, stein, call, 9th, circuit, court, commit...</td>\n",
       "      <td>[21st, century, wire, say, ben, stein, reputab...</td>\n",
       "      <td>99</td>\n",
       "    </tr>\n",
       "    <tr>\n",
       "      <th>1</th>\n",
       "      <td>trump drops steve bannon from national securit...</td>\n",
       "      <td>washington reuters us president donald trump r...</td>\n",
       "      <td>True</td>\n",
       "      <td>[trump, drop, steve, bannon, national, securit...</td>\n",
       "      <td>[washington, reuters, u, president, donald, tr...</td>\n",
       "      <td>468</td>\n",
       "    </tr>\n",
       "    <tr>\n",
       "      <th>2</th>\n",
       "      <td>puerto rico expects us to lift jones act shipp...</td>\n",
       "      <td>reuters puerto rico governor ricardo rossello ...</td>\n",
       "      <td>True</td>\n",
       "      <td>[puerto, rico, expects, u, lift, jones, act, s...</td>\n",
       "      <td>[reuters, puerto, rico, governor, ricardo, ros...</td>\n",
       "      <td>173</td>\n",
       "    </tr>\n",
       "    <tr>\n",
       "      <th>3</th>\n",
       "      <td>oops trump just accidentally confirmed he leak...</td>\n",
       "      <td>on monday donald trump once again embarrassed ...</td>\n",
       "      <td>False</td>\n",
       "      <td>[oops, trump, accidentally, confirmed, leaked,...</td>\n",
       "      <td>[monday, donald, trump, embarrassed, country, ...</td>\n",
       "      <td>107</td>\n",
       "    </tr>\n",
       "    <tr>\n",
       "      <th>4</th>\n",
       "      <td>donald trump heads for scotland to reopen a go...</td>\n",
       "      <td>glasgow scotland reuters most us presidential ...</td>\n",
       "      <td>True</td>\n",
       "      <td>[donald, trump, head, scotland, reopen, golf, ...</td>\n",
       "      <td>[glasgow, scotland, reuters, u, presidential, ...</td>\n",
       "      <td>310</td>\n",
       "    </tr>\n",
       "  </tbody>\n",
       "</table>\n",
       "</div>"
      ],
      "text/plain": [
       "                                               title  \\\n",
       "0  ben stein calls out 9th circuit court committe...   \n",
       "1  trump drops steve bannon from national securit...   \n",
       "2  puerto rico expects us to lift jones act shipp...   \n",
       "3  oops trump just accidentally confirmed he leak...   \n",
       "4  donald trump heads for scotland to reopen a go...   \n",
       "\n",
       "                                                text   true  \\\n",
       "0  21st century wire says ben stein reputable pro...  False   \n",
       "1  washington reuters us president donald trump r...   True   \n",
       "2  reuters puerto rico governor ricardo rossello ...   True   \n",
       "3  on monday donald trump once again embarrassed ...  False   \n",
       "4  glasgow scotland reuters most us presidential ...   True   \n",
       "\n",
       "                                           tkn_title  \\\n",
       "0  [ben, stein, call, 9th, circuit, court, commit...   \n",
       "1  [trump, drop, steve, bannon, national, securit...   \n",
       "2  [puerto, rico, expects, u, lift, jones, act, s...   \n",
       "3  [oops, trump, accidentally, confirmed, leaked,...   \n",
       "4  [donald, trump, head, scotland, reopen, golf, ...   \n",
       "\n",
       "                                            tkn_text  wordcount  \n",
       "0  [21st, century, wire, say, ben, stein, reputab...         99  \n",
       "1  [washington, reuters, u, president, donald, tr...        468  \n",
       "2  [reuters, puerto, rico, governor, ricardo, ros...        173  \n",
       "3  [monday, donald, trump, embarrassed, country, ...        107  \n",
       "4  [glasgow, scotland, reuters, u, presidential, ...        310  "
      ]
     },
     "execution_count": 39,
     "metadata": {},
     "output_type": "execute_result"
    }
   ],
   "source": [
    "news['wordcount'] = news['tkn_text'].apply(lambda x : len(x))\n",
    "news.head()"
   ]
  },
  {
   "cell_type": "markdown",
   "id": "6617047f",
   "metadata": {},
   "source": [
    "Simply using the len function of list to create a feature word count which contains the amount of words in each text."
   ]
  },
  {
   "cell_type": "code",
   "execution_count": 40,
   "id": "3ea13083",
   "metadata": {},
   "outputs": [
    {
     "name": "stdout",
     "output_type": "stream",
     "text": [
      "The average word count of all news articles is:  231.87499673245327\n"
     ]
    }
   ],
   "source": [
    "print(\"The average word count of all news articles is: \", news['wordcount'].mean())"
   ]
  },
  {
   "cell_type": "markdown",
   "id": "1941e8cb",
   "metadata": {},
   "source": [
    "#### Which is the most occuring word in each article?"
   ]
  },
  {
   "cell_type": "code",
   "execution_count": 41,
   "id": "222e7d7e",
   "metadata": {},
   "outputs": [
    {
     "data": {
      "text/html": [
       "<div>\n",
       "<style scoped>\n",
       "    .dataframe tbody tr th:only-of-type {\n",
       "        vertical-align: middle;\n",
       "    }\n",
       "\n",
       "    .dataframe tbody tr th {\n",
       "        vertical-align: top;\n",
       "    }\n",
       "\n",
       "    .dataframe thead th {\n",
       "        text-align: right;\n",
       "    }\n",
       "</style>\n",
       "<table border=\"1\" class=\"dataframe\">\n",
       "  <thead>\n",
       "    <tr style=\"text-align: right;\">\n",
       "      <th></th>\n",
       "      <th>title</th>\n",
       "      <th>text</th>\n",
       "      <th>true</th>\n",
       "      <th>tkn_title</th>\n",
       "      <th>tkn_text</th>\n",
       "      <th>wordcount</th>\n",
       "      <th>mostoccr</th>\n",
       "    </tr>\n",
       "  </thead>\n",
       "  <tbody>\n",
       "    <tr>\n",
       "      <th>0</th>\n",
       "      <td>ben stein calls out 9th circuit court committe...</td>\n",
       "      <td>21st century wire says ben stein reputable pro...</td>\n",
       "      <td>False</td>\n",
       "      <td>[ben, stein, call, 9th, circuit, court, commit...</td>\n",
       "      <td>[21st, century, wire, say, ben, stein, reputab...</td>\n",
       "      <td>99</td>\n",
       "      <td>[stein]</td>\n",
       "    </tr>\n",
       "    <tr>\n",
       "      <th>1</th>\n",
       "      <td>trump drops steve bannon from national securit...</td>\n",
       "      <td>washington reuters us president donald trump r...</td>\n",
       "      <td>True</td>\n",
       "      <td>[trump, drop, steve, bannon, national, securit...</td>\n",
       "      <td>[washington, reuters, u, president, donald, tr...</td>\n",
       "      <td>468</td>\n",
       "      <td>[trump]</td>\n",
       "    </tr>\n",
       "    <tr>\n",
       "      <th>2</th>\n",
       "      <td>puerto rico expects us to lift jones act shipp...</td>\n",
       "      <td>reuters puerto rico governor ricardo rossello ...</td>\n",
       "      <td>True</td>\n",
       "      <td>[puerto, rico, expects, u, lift, jones, act, s...</td>\n",
       "      <td>[reuters, puerto, rico, governor, ricardo, ros...</td>\n",
       "      <td>173</td>\n",
       "      <td>[said]</td>\n",
       "    </tr>\n",
       "    <tr>\n",
       "      <th>3</th>\n",
       "      <td>oops trump just accidentally confirmed he leak...</td>\n",
       "      <td>on monday donald trump once again embarrassed ...</td>\n",
       "      <td>False</td>\n",
       "      <td>[oops, trump, accidentally, confirmed, leaked,...</td>\n",
       "      <td>[monday, donald, trump, embarrassed, country, ...</td>\n",
       "      <td>107</td>\n",
       "      <td>[israel]</td>\n",
       "    </tr>\n",
       "    <tr>\n",
       "      <th>4</th>\n",
       "      <td>donald trump heads for scotland to reopen a go...</td>\n",
       "      <td>glasgow scotland reuters most us presidential ...</td>\n",
       "      <td>True</td>\n",
       "      <td>[donald, trump, head, scotland, reopen, golf, ...</td>\n",
       "      <td>[glasgow, scotland, reuters, u, presidential, ...</td>\n",
       "      <td>310</td>\n",
       "      <td>[trump]</td>\n",
       "    </tr>\n",
       "  </tbody>\n",
       "</table>\n",
       "</div>"
      ],
      "text/plain": [
       "                                               title  \\\n",
       "0  ben stein calls out 9th circuit court committe...   \n",
       "1  trump drops steve bannon from national securit...   \n",
       "2  puerto rico expects us to lift jones act shipp...   \n",
       "3  oops trump just accidentally confirmed he leak...   \n",
       "4  donald trump heads for scotland to reopen a go...   \n",
       "\n",
       "                                                text   true  \\\n",
       "0  21st century wire says ben stein reputable pro...  False   \n",
       "1  washington reuters us president donald trump r...   True   \n",
       "2  reuters puerto rico governor ricardo rossello ...   True   \n",
       "3  on monday donald trump once again embarrassed ...  False   \n",
       "4  glasgow scotland reuters most us presidential ...   True   \n",
       "\n",
       "                                           tkn_title  \\\n",
       "0  [ben, stein, call, 9th, circuit, court, commit...   \n",
       "1  [trump, drop, steve, bannon, national, securit...   \n",
       "2  [puerto, rico, expects, u, lift, jones, act, s...   \n",
       "3  [oops, trump, accidentally, confirmed, leaked,...   \n",
       "4  [donald, trump, head, scotland, reopen, golf, ...   \n",
       "\n",
       "                                            tkn_text  wordcount  mostoccr  \n",
       "0  [21st, century, wire, say, ben, stein, reputab...         99   [stein]  \n",
       "1  [washington, reuters, u, president, donald, tr...        468   [trump]  \n",
       "2  [reuters, puerto, rico, governor, ricardo, ros...        173    [said]  \n",
       "3  [monday, donald, trump, embarrassed, country, ...        107  [israel]  \n",
       "4  [glasgow, scotland, reuters, u, presidential, ...        310   [trump]  "
      ]
     },
     "execution_count": 41,
     "metadata": {},
     "output_type": "execute_result"
    }
   ],
   "source": [
    "from collections import Counter\n",
    "\n",
    "news['mostoccr'] = news['tkn_text'].apply(lambda x : [Counter(x).most_common(1)[0][0]] if Counter(x).most_common(1) else '')\n",
    "news.head()"
   ]
  },
  {
   "cell_type": "markdown",
   "id": "7c1c337a",
   "metadata": {},
   "source": [
    "Creating a feature called mostoccr to depict the most occuring word in each text."
   ]
  },
  {
   "cell_type": "code",
   "execution_count": 42,
   "id": "efbcd4d3",
   "metadata": {},
   "outputs": [
    {
     "data": {
      "text/html": [
       "<div>\n",
       "<style scoped>\n",
       "    .dataframe tbody tr th:only-of-type {\n",
       "        vertical-align: middle;\n",
       "    }\n",
       "\n",
       "    .dataframe tbody tr th {\n",
       "        vertical-align: top;\n",
       "    }\n",
       "\n",
       "    .dataframe thead th {\n",
       "        text-align: right;\n",
       "    }\n",
       "</style>\n",
       "<table border=\"1\" class=\"dataframe\">\n",
       "  <thead>\n",
       "    <tr style=\"text-align: right;\">\n",
       "      <th></th>\n",
       "      <th>title</th>\n",
       "      <th>text</th>\n",
       "      <th>true</th>\n",
       "      <th>tkn_title</th>\n",
       "      <th>tkn_text</th>\n",
       "      <th>wordcount</th>\n",
       "      <th>mostoccr</th>\n",
       "    </tr>\n",
       "  </thead>\n",
       "  <tbody>\n",
       "    <tr>\n",
       "      <th>0</th>\n",
       "      <td>ben stein calls out 9th circuit court committe...</td>\n",
       "      <td>21st century wire says ben stein reputable pro...</td>\n",
       "      <td>False</td>\n",
       "      <td>[ben, stein, call, 9th, circuit, court, commit...</td>\n",
       "      <td>[21st, century, wire, say, ben, stein, reputab...</td>\n",
       "      <td>99</td>\n",
       "      <td>stein</td>\n",
       "    </tr>\n",
       "    <tr>\n",
       "      <th>1</th>\n",
       "      <td>trump drops steve bannon from national securit...</td>\n",
       "      <td>washington reuters us president donald trump r...</td>\n",
       "      <td>True</td>\n",
       "      <td>[trump, drop, steve, bannon, national, securit...</td>\n",
       "      <td>[washington, reuters, u, president, donald, tr...</td>\n",
       "      <td>468</td>\n",
       "      <td>trump</td>\n",
       "    </tr>\n",
       "    <tr>\n",
       "      <th>2</th>\n",
       "      <td>puerto rico expects us to lift jones act shipp...</td>\n",
       "      <td>reuters puerto rico governor ricardo rossello ...</td>\n",
       "      <td>True</td>\n",
       "      <td>[puerto, rico, expects, u, lift, jones, act, s...</td>\n",
       "      <td>[reuters, puerto, rico, governor, ricardo, ros...</td>\n",
       "      <td>173</td>\n",
       "      <td>said</td>\n",
       "    </tr>\n",
       "    <tr>\n",
       "      <th>3</th>\n",
       "      <td>oops trump just accidentally confirmed he leak...</td>\n",
       "      <td>on monday donald trump once again embarrassed ...</td>\n",
       "      <td>False</td>\n",
       "      <td>[oops, trump, accidentally, confirmed, leaked,...</td>\n",
       "      <td>[monday, donald, trump, embarrassed, country, ...</td>\n",
       "      <td>107</td>\n",
       "      <td>israel</td>\n",
       "    </tr>\n",
       "    <tr>\n",
       "      <th>4</th>\n",
       "      <td>donald trump heads for scotland to reopen a go...</td>\n",
       "      <td>glasgow scotland reuters most us presidential ...</td>\n",
       "      <td>True</td>\n",
       "      <td>[donald, trump, head, scotland, reopen, golf, ...</td>\n",
       "      <td>[glasgow, scotland, reuters, u, presidential, ...</td>\n",
       "      <td>310</td>\n",
       "      <td>trump</td>\n",
       "    </tr>\n",
       "  </tbody>\n",
       "</table>\n",
       "</div>"
      ],
      "text/plain": [
       "                                               title  \\\n",
       "0  ben stein calls out 9th circuit court committe...   \n",
       "1  trump drops steve bannon from national securit...   \n",
       "2  puerto rico expects us to lift jones act shipp...   \n",
       "3  oops trump just accidentally confirmed he leak...   \n",
       "4  donald trump heads for scotland to reopen a go...   \n",
       "\n",
       "                                                text   true  \\\n",
       "0  21st century wire says ben stein reputable pro...  False   \n",
       "1  washington reuters us president donald trump r...   True   \n",
       "2  reuters puerto rico governor ricardo rossello ...   True   \n",
       "3  on monday donald trump once again embarrassed ...  False   \n",
       "4  glasgow scotland reuters most us presidential ...   True   \n",
       "\n",
       "                                           tkn_title  \\\n",
       "0  [ben, stein, call, 9th, circuit, court, commit...   \n",
       "1  [trump, drop, steve, bannon, national, securit...   \n",
       "2  [puerto, rico, expects, u, lift, jones, act, s...   \n",
       "3  [oops, trump, accidentally, confirmed, leaked,...   \n",
       "4  [donald, trump, head, scotland, reopen, golf, ...   \n",
       "\n",
       "                                            tkn_text  wordcount mostoccr  \n",
       "0  [21st, century, wire, say, ben, stein, reputab...         99    stein  \n",
       "1  [washington, reuters, u, president, donald, tr...        468    trump  \n",
       "2  [reuters, puerto, rico, governor, ricardo, ros...        173     said  \n",
       "3  [monday, donald, trump, embarrassed, country, ...        107   israel  \n",
       "4  [glasgow, scotland, reuters, u, presidential, ...        310    trump  "
      ]
     },
     "execution_count": 42,
     "metadata": {},
     "output_type": "execute_result"
    }
   ],
   "source": [
    "news['mostoccr'] = news['mostoccr'].apply(lambda x: x[0] if len(x) > 0 else x)\n",
    "news.head()"
   ]
  },
  {
   "cell_type": "markdown",
   "id": "cd60e735",
   "metadata": {},
   "source": [
    "In order to convert the list in mostoccr containing simply one word into string simply used x[0] which returns the first item in the list which is the most occuring word."
   ]
  },
  {
   "cell_type": "markdown",
   "id": "826a5016",
   "metadata": {},
   "source": [
    "#### Which word occurs the most amount of times in true news?"
   ]
  },
  {
   "cell_type": "code",
   "execution_count": 43,
   "id": "d88f8efa",
   "metadata": {},
   "outputs": [
    {
     "name": "stdout",
     "output_type": "stream",
     "text": [
      "The word that occurs the most in true news is ' said '\n"
     ]
    }
   ],
   "source": [
    "truenews = news[news['true'] == True]\n",
    "truewrds = [x for sublist in truenews['tkn_text'] for x in sublist]\n",
    "truecount = Counter(truewrds)\n",
    "\n",
    "print(\"The word that occurs the most in true news is '\", truecount.most_common(1)[0][0], \"'\")"
   ]
  },
  {
   "cell_type": "markdown",
   "id": "1a0eb913",
   "metadata": {},
   "source": [
    "Retrieving only the true news and storing it in truenews. Then storing every single word from the text column in truewrds as a list then using the Counter library to return the count of each item in the truewrds list. Then using the most_common function to retrieve the most occuring word."
   ]
  },
  {
   "cell_type": "markdown",
   "id": "fa8a6175",
   "metadata": {},
   "source": [
    "#### What is the distribution of true and fake news in the dataset?"
   ]
  },
  {
   "cell_type": "code",
   "execution_count": 44,
   "id": "ca14ab31",
   "metadata": {},
   "outputs": [
    {
     "data": {
      "text/plain": [
       "Text(0, 0.5, 'Amount of News')"
      ]
     },
     "execution_count": 44,
     "metadata": {},
     "output_type": "execute_result"
    },
    {
     "data": {
      "image/png": "[encoded data removed]",
      "text/plain": [
       "<Figure size 640x480 with 1 Axes>"
      ]
     },
     "metadata": {},
     "output_type": "display_data"
    }
   ],
   "source": [
    "valcnt = news['true'].value_counts()\n",
    "plt.grid()\n",
    "plt.bar(valcnt.index.astype(str), valcnt.values)\n",
    "plt.xlabel('News Authenticity')\n",
    "plt.ylabel('Amount of News')"
   ]
  },
  {
   "cell_type": "markdown",
   "id": "81261a41",
   "metadata": {},
   "source": [
    "#### Which word occurs the most amount of times in the articles?"
   ]
  },
  {
   "cell_type": "code",
   "execution_count": 45,
   "id": "3254d0f1",
   "metadata": {},
   "outputs": [
    {
     "name": "stdout",
     "output_type": "stream",
     "text": [
      "The most common word in all articles is: said and it occurs 118832 times in the articles.\n"
     ]
    }
   ],
   "source": [
    "wrd = [x for sublist in news['tkn_text'] for x in sublist]\n",
    "Counter(wrd)\n",
    "\n",
    "print(\"The most common word in all articles is:\", Counter(wrd).most_common(1)[0][0], \"and it occurs\", Counter(wrd).most_common(1)[0][1], \"times in the articles.\")"
   ]
  },
  {
   "cell_type": "markdown",
   "id": "8b654808",
   "metadata": {},
   "source": [
    "Similiar as above."
   ]
  },
  {
   "cell_type": "markdown",
   "id": "ae59e6e7",
   "metadata": {},
   "source": [
    "#### Plot a world cloud for all the words in all articles combined."
   ]
  },
  {
   "cell_type": "code",
   "execution_count": 46,
   "id": "aae786fd",
   "metadata": {},
   "outputs": [
    {
     "data": {
      "image/png": "[encoded data removed]",
      "text/plain": [
       "<Figure size 1000x600 with 1 Axes>"
      ]
     },
     "metadata": {},
     "output_type": "display_data"
    }
   ],
   "source": [
    "from wordcloud import WordCloud\n",
    "\n",
    "wrd_str = ' '.join(wrd[0: 1000])\n",
    "\n",
    "wordcloud = WordCloud(width=800, height=400, background_color='white').generate(wrd_str)\n",
    "plt.figure(figsize=(10, 6))\n",
    "plt.imshow(wordcloud, interpolation='bilinear')\n",
    "plt.axis('off')\n",
    "plt.show()"
   ]
  },
  {
   "cell_type": "markdown",
   "id": "76f8c7a7",
   "metadata": {},
   "source": [
    "For asthetic appeal and reduced clustering, only displayed 1000 words."
   ]
  },
  {
   "cell_type": "markdown",
   "id": "30a17c3e",
   "metadata": {},
   "source": [
    "### Vectorizing the data"
   ]
  },
  {
   "cell_type": "code",
   "execution_count": 47,
   "id": "b3548d13",
   "metadata": {},
   "outputs": [],
   "source": [
    "from sklearn.feature_extraction.text import TfidfVectorizer\n",
    "\n",
    "tfidf = TfidfVectorizer(analyzer='word')\n",
    "\n",
    "tfidf_matrix = tfidf.fit_transform(news['text'])"
   ]
  },
  {
   "cell_type": "markdown",
   "id": "92fa3c63",
   "metadata": {},
   "source": [
    "Creating a vectorised TDIDF matrix for the text column."
   ]
  },
  {
   "cell_type": "code",
   "execution_count": 48,
   "id": "678d4d09",
   "metadata": {},
   "outputs": [
    {
     "name": "stdout",
     "output_type": "stream",
     "text": [
      "  (0, 8034)\t0.0888970244595048\n",
      "  (0, 128036)\t0.05466761217396979\n",
      "  (0, 30990)\t0.07081975629115704\n",
      "  (0, 195763)\t0.10428088120609048\n",
      "  (0, 223495)\t0.04566061021768275\n",
      "  (0, 146152)\t0.03544740172849239\n",
      "  (0, 77935)\t0.09305024205148874\n",
      "  (0, 26556)\t0.022416378151680686\n",
      "  (0, 137518)\t0.03864494510454919\n",
      "  (0, 132669)\t0.028274940928702412\n",
      "  (0, 145325)\t0.1580134864568999\n",
      "  (0, 201145)\t0.08718566137722987\n",
      "  (0, 15937)\t0.07739584646072455\n",
      "  (0, 68448)\t0.1428279791628839\n",
      "  (0, 118252)\t0.056019715638029016\n",
      "  (0, 63464)\t0.06535802800550208\n",
      "  (0, 145199)\t0.0579152430422033\n",
      "  (0, 149160)\t0.05256811038754658\n",
      "  (0, 102263)\t0.06060728880785739\n",
      "  (0, 145330)\t0.07881130096943528\n",
      "  (0, 161693)\t0.04113192905486402\n",
      "  (0, 23579)\t0.03522010942275393\n",
      "  (0, 34787)\t0.077257046071091\n",
      "  (0, 72860)\t0.05395018329757121\n",
      "  (0, 91386)\t0.021646824718831146\n",
      "  :\t:\n",
      "  (38254, 219884)\t0.01115686447002356\n",
      "  (38254, 95149)\t0.01215901361656489\n",
      "  (38254, 65201)\t0.007429217052524139\n",
      "  (38254, 146152)\t0.027087700671211128\n",
      "  (38254, 137518)\t0.00984371824546641\n",
      "  (38254, 145199)\t0.022128431017930748\n",
      "  (38254, 139083)\t0.00790852522079961\n",
      "  (38254, 221574)\t0.006041410505143477\n",
      "  (38254, 80192)\t0.018881514748699573\n",
      "  (38254, 39584)\t0.026714027577939625\n",
      "  (38254, 205184)\t0.08814200018190867\n",
      "  (38254, 208250)\t0.041466424547780135\n",
      "  (38254, 161582)\t0.020107027454283565\n",
      "  (38254, 218669)\t0.005339892631338729\n",
      "  (38254, 201314)\t0.08273676909297989\n",
      "  (38254, 201562)\t0.13123231200084634\n",
      "  (38254, 143989)\t0.043115894572796055\n",
      "  (38254, 123062)\t0.009733616321915738\n",
      "  (38254, 25696)\t0.021436626059033424\n",
      "  (38254, 22018)\t0.025670464134239596\n",
      "  (38254, 102841)\t0.012836576270572504\n",
      "  (38254, 189892)\t0.02525276647337651\n",
      "  (38254, 142769)\t0.10176679504492704\n",
      "  (38254, 82211)\t0.01684135246549127\n",
      "  (38254, 180357)\t0.0116918264689869\n"
     ]
    },
    {
     "data": {
      "text/plain": [
       "(38255, 227695)"
      ]
     },
     "execution_count": 48,
     "metadata": {},
     "output_type": "execute_result"
    }
   ],
   "source": [
    "print(tfidf_matrix)\n",
    "tfidf_matrix.shape"
   ]
  },
  {
   "cell_type": "markdown",
   "id": "494d9140",
   "metadata": {},
   "source": [
    "### Splitting the Data"
   ]
  },
  {
   "cell_type": "code",
   "execution_count": 49,
   "id": "46986a5b",
   "metadata": {},
   "outputs": [],
   "source": [
    "from sklearn.model_selection import train_test_split\n",
    "\n",
    "x_train, x_test, y_train, y_test = train_test_split(tfidf_matrix, news['true'], test_size=0.2, random_state=42)"
   ]
  },
  {
   "cell_type": "markdown",
   "id": "5ffaab21",
   "metadata": {},
   "source": [
    "Split the data to form predictor training and testing set and target training and testing set. Splitting it such that 20% is used for testing and 80% is used for training."
   ]
  },
  {
   "cell_type": "markdown",
   "id": "78094461",
   "metadata": {},
   "source": [
    "### Logistic Regression Model"
   ]
  },
  {
   "cell_type": "code",
   "execution_count": 50,
   "id": "d892bf6a",
   "metadata": {},
   "outputs": [
    {
     "data": {
      "text/html": [
       "<style>#sk-container-id-1 {color: black;background-color: white;}#sk-container-id-1 pre{padding: 0;}#sk-container-id-1 div.sk-toggleable {background-color: white;}#sk-container-id-1 label.sk-toggleable__label {cursor: pointer;display: block;width: 100%;margin-bottom: 0;padding: 0.3em;box-sizing: border-box;text-align: center;}#sk-container-id-1 label.sk-toggleable__label-arrow:before {content: \"▸\";float: left;margin-right: 0.25em;color: #696969;}#sk-container-id-1 label.sk-toggleable__label-arrow:hover:before {color: black;}#sk-container-id-1 div.sk-estimator:hover label.sk-toggleable__label-arrow:before {color: black;}#sk-container-id-1 div.sk-toggleable__content {max-height: 0;max-width: 0;overflow: hidden;text-align: left;background-color: #f0f8ff;}#sk-container-id-1 div.sk-toggleable__content pre {margin: 0.2em;color: black;border-radius: 0.25em;background-color: #f0f8ff;}#sk-container-id-1 input.sk-toggleable__control:checked~div.sk-toggleable__content {max-height: 200px;max-width: 100%;overflow: auto;}#sk-container-id-1 input.sk-toggleable__control:checked~label.sk-toggleable__label-arrow:before {content: \"▾\";}#sk-container-id-1 div.sk-estimator input.sk-toggleable__control:checked~label.sk-toggleable__label {background-color: #d4ebff;}#sk-container-id-1 div.sk-label input.sk-toggleable__control:checked~label.sk-toggleable__label {background-color: #d4ebff;}#sk-container-id-1 input.sk-hidden--visually {border: 0;clip: rect(1px 1px 1px 1px);clip: rect(1px, 1px, 1px, 1px);height: 1px;margin: -1px;overflow: hidden;padding: 0;position: absolute;width: 1px;}#sk-container-id-1 div.sk-estimator {font-family: monospace;background-color: #f0f8ff;border: 1px dotted black;border-radius: 0.25em;box-sizing: border-box;margin-bottom: 0.5em;}#sk-container-id-1 div.sk-estimator:hover {background-color: #d4ebff;}#sk-container-id-1 div.sk-parallel-item::after {content: \"\";width: 100%;border-bottom: 1px solid gray;flex-grow: 1;}#sk-container-id-1 div.sk-label:hover label.sk-toggleable__label {background-color: #d4ebff;}#sk-container-id-1 div.sk-serial::before {content: \"\";position: absolute;border-left: 1px solid gray;box-sizing: border-box;top: 0;bottom: 0;left: 50%;z-index: 0;}#sk-container-id-1 div.sk-serial {display: flex;flex-direction: column;align-items: center;background-color: white;padding-right: 0.2em;padding-left: 0.2em;position: relative;}#sk-container-id-1 div.sk-item {position: relative;z-index: 1;}#sk-container-id-1 div.sk-parallel {display: flex;align-items: stretch;justify-content: center;background-color: white;position: relative;}#sk-container-id-1 div.sk-item::before, #sk-container-id-1 div.sk-parallel-item::before {content: \"\";position: absolute;border-left: 1px solid gray;box-sizing: border-box;top: 0;bottom: 0;left: 50%;z-index: -1;}#sk-container-id-1 div.sk-parallel-item {display: flex;flex-direction: column;z-index: 1;position: relative;background-color: white;}#sk-container-id-1 div.sk-parallel-item:first-child::after {align-self: flex-end;width: 50%;}#sk-container-id-1 div.sk-parallel-item:last-child::after {align-self: flex-start;width: 50%;}#sk-container-id-1 div.sk-parallel-item:only-child::after {width: 0;}#sk-container-id-1 div.sk-dashed-wrapped {border: 1px dashed gray;margin: 0 0.4em 0.5em 0.4em;box-sizing: border-box;padding-bottom: 0.4em;background-color: white;}#sk-container-id-1 div.sk-label label {font-family: monospace;font-weight: bold;display: inline-block;line-height: 1.2em;}#sk-container-id-1 div.sk-label-container {text-align: center;}#sk-container-id-1 div.sk-container {/* jupyter's `normalize.less` sets `[hidden] { display: none; }` but bootstrap.min.css set `[hidden] { display: none !important; }` so we also need the `!important` here to be able to override the default hidden behavior on the sphinx rendered scikit-learn.org. See: https://github.com/scikit-learn/scikit-learn/issues/21755 */display: inline-block !important;position: relative;}#sk-container-id-1 div.sk-text-repr-fallback {display: none;}</style><div id=\"sk-container-id-1\" class=\"sk-top-container\"><div class=\"sk-text-repr-fallback\"><pre>LogisticRegression()</pre><b>In a Jupyter environment, please rerun this cell to show the HTML representation or trust the notebook. <br />On GitHub, the HTML representation is unable to render, please try loading this page with nbviewer.org.</b></div><div class=\"sk-container\" hidden><div class=\"sk-item\"><div class=\"sk-estimator sk-toggleable\"><input class=\"sk-toggleable__control sk-hidden--visually\" id=\"sk-estimator-id-1\" type=\"checkbox\" checked><label for=\"sk-estimator-id-1\" class=\"sk-toggleable__label sk-toggleable__label-arrow\">LogisticRegression</label><div class=\"sk-toggleable__content\"><pre>LogisticRegression()</pre></div></div></div></div></div>"
      ],
      "text/plain": [
       "LogisticRegression()"
      ]
     },
     "execution_count": 50,
     "metadata": {},
     "output_type": "execute_result"
    }
   ],
   "source": [
    "from sklearn.linear_model import LogisticRegression\n",
    "\n",
    "logmodel = LogisticRegression()\n",
    "logmodel.fit(x_train, y_train)"
   ]
  },
  {
   "cell_type": "markdown",
   "id": "ce7939d0",
   "metadata": {},
   "source": [
    "Fitting the data onto a logistic regression model."
   ]
  },
  {
   "cell_type": "code",
   "execution_count": 51,
   "id": "83f2bf70",
   "metadata": {},
   "outputs": [],
   "source": [
    "log_pred = logmodel.predict(x_test)"
   ]
  },
  {
   "cell_type": "markdown",
   "id": "830083e1",
   "metadata": {},
   "source": [
    "Predicting using the model."
   ]
  },
  {
   "cell_type": "code",
   "execution_count": 52,
   "id": "929ba1c0",
   "metadata": {},
   "outputs": [],
   "source": [
    "from sklearn.metrics import accuracy_score, precision_score, recall_score, f1_score, confusion_matrix, roc_auc_score, classification_report\n",
    "\n",
    "logprecision = precision_score(y_test, log_pred)\n",
    "logrecall = recall_score(y_test, log_pred)\n",
    "logaccuracy = accuracy_score(y_test, log_pred)\n",
    "logf1 = f1_score(y_test, log_pred)\n",
    "logroc = roc_auc_score(y_test, log_pred)\n",
    "logconf = confusion_matrix(y_test, log_pred)\n",
    "logreport = classification_report(y_test, log_pred)"
   ]
  },
  {
   "cell_type": "markdown",
   "id": "17ed309a",
   "metadata": {},
   "source": [
    "Evaluating the various scores of the model."
   ]
  },
  {
   "cell_type": "code",
   "execution_count": 53,
   "id": "0cbcb4f7",
   "metadata": {},
   "outputs": [
    {
     "name": "stdout",
     "output_type": "stream",
     "text": [
      "Accuracy score of the logistic regression model is: 0.9875833224415109\n"
     ]
    }
   ],
   "source": [
    "print(\"Accuracy score of the logistic regression model is:\", logaccuracy)"
   ]
  },
  {
   "cell_type": "code",
   "execution_count": 54,
   "id": "e38fc9eb",
   "metadata": {},
   "outputs": [
    {
     "name": "stdout",
     "output_type": "stream",
     "text": [
      "Precision score of the logistic regression model is: 0.9855689614383724\n"
     ]
    }
   ],
   "source": [
    "print(\"Precision score of the logistic regression model is:\", logprecision)"
   ]
  },
  {
   "cell_type": "code",
   "execution_count": 55,
   "id": "272413d5",
   "metadata": {},
   "outputs": [
    {
     "name": "stdout",
     "output_type": "stream",
     "text": [
      "Recall score of the logistic regression model is: 0.991904761904762\n"
     ]
    }
   ],
   "source": [
    "print(\"Recall score of the logistic regression model is:\", logrecall)"
   ]
  },
  {
   "cell_type": "code",
   "execution_count": 56,
   "id": "ce3e7138",
   "metadata": {},
   "outputs": [
    {
     "name": "stdout",
     "output_type": "stream",
     "text": [
      "F1 score of the logistic regression model is: 0.9887267117598196\n"
     ]
    }
   ],
   "source": [
    "print(\"F1 score of the logistic regression model is:\", logf1)"
   ]
  },
  {
   "cell_type": "code",
   "execution_count": 57,
   "id": "f795f099",
   "metadata": {},
   "outputs": [
    {
     "name": "stdout",
     "output_type": "stream",
     "text": [
      "ROC-AUC score of the logistic regression model is: 0.987114362986574\n"
     ]
    }
   ],
   "source": [
    "print(\"ROC-AUC score of the logistic regression model is:\", logroc)"
   ]
  },
  {
   "cell_type": "code",
   "execution_count": 58,
   "id": "6ac8beed",
   "metadata": {},
   "outputs": [
    {
     "name": "stdout",
     "output_type": "stream",
     "text": [
      "Confusion matrix of the logistic regression model is:\n",
      "\n",
      " [[3390   61]\n",
      " [  34 4166]]\n"
     ]
    }
   ],
   "source": [
    "print(\"Confusion matrix of the logistic regression model is:\\n\\n\", logconf)"
   ]
  },
  {
   "cell_type": "code",
   "execution_count": 59,
   "id": "319bab8f",
   "metadata": {},
   "outputs": [
    {
     "name": "stdout",
     "output_type": "stream",
     "text": [
      "Classification report of the logistic regression model is:\n",
      "\n",
      "               precision    recall  f1-score   support\n",
      "\n",
      "       False       0.99      0.98      0.99      3451\n",
      "        True       0.99      0.99      0.99      4200\n",
      "\n",
      "    accuracy                           0.99      7651\n",
      "   macro avg       0.99      0.99      0.99      7651\n",
      "weighted avg       0.99      0.99      0.99      7651\n",
      "\n"
     ]
    }
   ],
   "source": [
    "print(\"Classification report of the logistic regression model is:\\n\\n\", logreport)"
   ]
  },
  {
   "cell_type": "code",
   "execution_count": 60,
   "id": "4b363958",
   "metadata": {},
   "outputs": [
    {
     "data": {
      "text/plain": [
       "<Axes: >"
      ]
     },
     "execution_count": 60,
     "metadata": {},
     "output_type": "execute_result"
    },
    {
     "data": {
      "image/png": "[encoded data removed]",
      "text/plain": [
       "<Figure size 640x480 with 2 Axes>"
      ]
     },
     "metadata": {},
     "output_type": "display_data"
    }
   ],
   "source": [
    "sns.heatmap(logconf, annot=True, fmt='d')"
   ]
  },
  {
   "cell_type": "markdown",
   "id": "73aad7c9",
   "metadata": {},
   "source": [
    "Plotting the heatmap of the confusion matrix of logistic regression model."
   ]
  },
  {
   "cell_type": "markdown",
   "id": "0444501d",
   "metadata": {},
   "source": [
    "### Decision Tree Model"
   ]
  },
  {
   "cell_type": "markdown",
   "id": "2f48c307",
   "metadata": {},
   "source": [
    "Fitting the data to form a decision tree."
   ]
  },
  {
   "cell_type": "code",
   "execution_count": 61,
   "id": "c09d3f2a",
   "metadata": {},
   "outputs": [
    {
     "data": {
      "text/html": [
       "<style>#sk-container-id-2 {color: black;background-color: white;}#sk-container-id-2 pre{padding: 0;}#sk-container-id-2 div.sk-toggleable {background-color: white;}#sk-container-id-2 label.sk-toggleable__label {cursor: pointer;display: block;width: 100%;margin-bottom: 0;padding: 0.3em;box-sizing: border-box;text-align: center;}#sk-container-id-2 label.sk-toggleable__label-arrow:before {content: \"▸\";float: left;margin-right: 0.25em;color: #696969;}#sk-container-id-2 label.sk-toggleable__label-arrow:hover:before {color: black;}#sk-container-id-2 div.sk-estimator:hover label.sk-toggleable__label-arrow:before {color: black;}#sk-container-id-2 div.sk-toggleable__content {max-height: 0;max-width: 0;overflow: hidden;text-align: left;background-color: #f0f8ff;}#sk-container-id-2 div.sk-toggleable__content pre {margin: 0.2em;color: black;border-radius: 0.25em;background-color: #f0f8ff;}#sk-container-id-2 input.sk-toggleable__control:checked~div.sk-toggleable__content {max-height: 200px;max-width: 100%;overflow: auto;}#sk-container-id-2 input.sk-toggleable__control:checked~label.sk-toggleable__label-arrow:before {content: \"▾\";}#sk-container-id-2 div.sk-estimator input.sk-toggleable__control:checked~label.sk-toggleable__label {background-color: #d4ebff;}#sk-container-id-2 div.sk-label input.sk-toggleable__control:checked~label.sk-toggleable__label {background-color: #d4ebff;}#sk-container-id-2 input.sk-hidden--visually {border: 0;clip: rect(1px 1px 1px 1px);clip: rect(1px, 1px, 1px, 1px);height: 1px;margin: -1px;overflow: hidden;padding: 0;position: absolute;width: 1px;}#sk-container-id-2 div.sk-estimator {font-family: monospace;background-color: #f0f8ff;border: 1px dotted black;border-radius: 0.25em;box-sizing: border-box;margin-bottom: 0.5em;}#sk-container-id-2 div.sk-estimator:hover {background-color: #d4ebff;}#sk-container-id-2 div.sk-parallel-item::after {content: \"\";width: 100%;border-bottom: 1px solid gray;flex-grow: 1;}#sk-container-id-2 div.sk-label:hover label.sk-toggleable__label {background-color: #d4ebff;}#sk-container-id-2 div.sk-serial::before {content: \"\";position: absolute;border-left: 1px solid gray;box-sizing: border-box;top: 0;bottom: 0;left: 50%;z-index: 0;}#sk-container-id-2 div.sk-serial {display: flex;flex-direction: column;align-items: center;background-color: white;padding-right: 0.2em;padding-left: 0.2em;position: relative;}#sk-container-id-2 div.sk-item {position: relative;z-index: 1;}#sk-container-id-2 div.sk-parallel {display: flex;align-items: stretch;justify-content: center;background-color: white;position: relative;}#sk-container-id-2 div.sk-item::before, #sk-container-id-2 div.sk-parallel-item::before {content: \"\";position: absolute;border-left: 1px solid gray;box-sizing: border-box;top: 0;bottom: 0;left: 50%;z-index: -1;}#sk-container-id-2 div.sk-parallel-item {display: flex;flex-direction: column;z-index: 1;position: relative;background-color: white;}#sk-container-id-2 div.sk-parallel-item:first-child::after {align-self: flex-end;width: 50%;}#sk-container-id-2 div.sk-parallel-item:last-child::after {align-self: flex-start;width: 50%;}#sk-container-id-2 div.sk-parallel-item:only-child::after {width: 0;}#sk-container-id-2 div.sk-dashed-wrapped {border: 1px dashed gray;margin: 0 0.4em 0.5em 0.4em;box-sizing: border-box;padding-bottom: 0.4em;background-color: white;}#sk-container-id-2 div.sk-label label {font-family: monospace;font-weight: bold;display: inline-block;line-height: 1.2em;}#sk-container-id-2 div.sk-label-container {text-align: center;}#sk-container-id-2 div.sk-container {/* jupyter's `normalize.less` sets `[hidden] { display: none; }` but bootstrap.min.css set `[hidden] { display: none !important; }` so we also need the `!important` here to be able to override the default hidden behavior on the sphinx rendered scikit-learn.org. See: https://github.com/scikit-learn/scikit-learn/issues/21755 */display: inline-block !important;position: relative;}#sk-container-id-2 div.sk-text-repr-fallback {display: none;}</style><div id=\"sk-container-id-2\" class=\"sk-top-container\"><div class=\"sk-text-repr-fallback\"><pre>DecisionTreeClassifier()</pre><b>In a Jupyter environment, please rerun this cell to show the HTML representation or trust the notebook. <br />On GitHub, the HTML representation is unable to render, please try loading this page with nbviewer.org.</b></div><div class=\"sk-container\" hidden><div class=\"sk-item\"><div class=\"sk-estimator sk-toggleable\"><input class=\"sk-toggleable__control sk-hidden--visually\" id=\"sk-estimator-id-2\" type=\"checkbox\" checked><label for=\"sk-estimator-id-2\" class=\"sk-toggleable__label sk-toggleable__label-arrow\">DecisionTreeClassifier</label><div class=\"sk-toggleable__content\"><pre>DecisionTreeClassifier()</pre></div></div></div></div></div>"
      ],
      "text/plain": [
       "DecisionTreeClassifier()"
      ]
     },
     "execution_count": 61,
     "metadata": {},
     "output_type": "execute_result"
    }
   ],
   "source": [
    "from sklearn.tree import DecisionTreeClassifier\n",
    "\n",
    "dtmodel = DecisionTreeClassifier()\n",
    "dtmodel.fit(x_train, y_train)"
   ]
  },
  {
   "cell_type": "markdown",
   "id": "3edd0a89",
   "metadata": {},
   "source": [
    "Predicting using the model."
   ]
  },
  {
   "cell_type": "code",
   "execution_count": 62,
   "id": "5d840e8d",
   "metadata": {},
   "outputs": [],
   "source": [
    "dt_pred = dtmodel.predict(x_test)"
   ]
  },
  {
   "cell_type": "code",
   "execution_count": 63,
   "id": "1c1256fb",
   "metadata": {},
   "outputs": [],
   "source": [
    "dtprecision = precision_score(y_test, dt_pred)\n",
    "dtrecall = recall_score(y_test, dt_pred)\n",
    "dtaccuracy = accuracy_score(y_test, dt_pred)\n",
    "dtf1 = f1_score(y_test, dt_pred)\n",
    "dtroc = roc_auc_score(y_test, dt_pred)\n",
    "dtconf = confusion_matrix(y_test, dt_pred)\n",
    "dtreport = classification_report(y_test, dt_pred)"
   ]
  },
  {
   "cell_type": "markdown",
   "id": "e54796d0",
   "metadata": {},
   "source": [
    "Evaluating and displaying the various scores of the model."
   ]
  },
  {
   "cell_type": "code",
   "execution_count": 64,
   "id": "f7999ffc",
   "metadata": {},
   "outputs": [
    {
     "name": "stdout",
     "output_type": "stream",
     "text": [
      "Accuracy score of the decision tree is: 0.9946412233694942\n"
     ]
    }
   ],
   "source": [
    "print(\"Accuracy score of the decision tree is:\", dtaccuracy)"
   ]
  },
  {
   "cell_type": "code",
   "execution_count": 65,
   "id": "a3c4eab9",
   "metadata": {},
   "outputs": [
    {
     "name": "stdout",
     "output_type": "stream",
     "text": [
      "Precision score of the decision tree is: 0.9940603468757424\n"
     ]
    }
   ],
   "source": [
    "print(\"Precision score of the decision tree is:\", dtprecision)"
   ]
  },
  {
   "cell_type": "code",
   "execution_count": 66,
   "id": "0ad50d8c",
   "metadata": {},
   "outputs": [
    {
     "name": "stdout",
     "output_type": "stream",
     "text": [
      "Recall score of the decision tree is: 0.9961904761904762\n"
     ]
    }
   ],
   "source": [
    "print(\"Recall score of the decision tree is:\", dtrecall)"
   ]
  },
  {
   "cell_type": "code",
   "execution_count": 67,
   "id": "3cd50c9d",
   "metadata": {},
   "outputs": [
    {
     "name": "stdout",
     "output_type": "stream",
     "text": [
      "F1 score of the decision tree is: 0.9951242716137471\n"
     ]
    }
   ],
   "source": [
    "print(\"F1 score of the decision tree is:\", dtf1)"
   ]
  },
  {
   "cell_type": "code",
   "execution_count": 68,
   "id": "21d2e308",
   "metadata": {},
   "outputs": [
    {
     "name": "stdout",
     "output_type": "stream",
     "text": [
      "ROC-AUC score of the decision tree is: 0.9944730995846615\n"
     ]
    }
   ],
   "source": [
    "print(\"ROC-AUC score of the decision tree is:\", dtroc)"
   ]
  },
  {
   "cell_type": "code",
   "execution_count": 69,
   "id": "c96d1a54",
   "metadata": {},
   "outputs": [
    {
     "name": "stdout",
     "output_type": "stream",
     "text": [
      "Confusion matrix of the decision tree is:\n",
      "\n",
      " [[3426   25]\n",
      " [  16 4184]]\n"
     ]
    }
   ],
   "source": [
    "print(\"Confusion matrix of the decision tree is:\\n\\n\", dtconf)"
   ]
  },
  {
   "cell_type": "code",
   "execution_count": 70,
   "id": "e75515be",
   "metadata": {},
   "outputs": [
    {
     "name": "stdout",
     "output_type": "stream",
     "text": [
      "Classification report of the decision tree is:\n",
      "\n",
      "               precision    recall  f1-score   support\n",
      "\n",
      "       False       1.00      0.99      0.99      3451\n",
      "        True       0.99      1.00      1.00      4200\n",
      "\n",
      "    accuracy                           0.99      7651\n",
      "   macro avg       0.99      0.99      0.99      7651\n",
      "weighted avg       0.99      0.99      0.99      7651\n",
      "\n"
     ]
    }
   ],
   "source": [
    "print(\"Classification report of the decision tree is:\\n\\n\", dtreport)"
   ]
  },
  {
   "cell_type": "markdown",
   "id": "7b0413a4",
   "metadata": {},
   "source": [
    "Plotting the confusion matrix of the decision tree."
   ]
  },
  {
   "cell_type": "code",
   "execution_count": 71,
   "id": "f51cf4a9",
   "metadata": {},
   "outputs": [
    {
     "data": {
      "text/plain": [
       "<Axes: >"
      ]
     },
     "execution_count": 71,
     "metadata": {},
     "output_type": "execute_result"
    },
    {
     "data": {
      "image/png": "[encoded data removed]",
      "text/plain": [
       "<Figure size 640x480 with 2 Axes>"
      ]
     },
     "metadata": {},
     "output_type": "display_data"
    }
   ],
   "source": [
    "sns.heatmap(dtconf, annot=True, fmt='d')"
   ]
  }
 ],
 "metadata": {
  "kernelspec": {
   "display_name": "Python 3 (ipykernel)",
   "language": "python",
   "name": "python3"
  },
  "language_info": {
   "codemirror_mode": {
    "name": "ipython",
    "version": 3
   },
   "file_extension": ".py",
   "mimetype": "text/x-python",
   "name": "python",
   "nbconvert_exporter": "python",
   "pygments_lexer": "ipython3",
   "version": "3.11.5"
  }
 },
 "nbformat": 4,
 "nbformat_minor": 5
}
